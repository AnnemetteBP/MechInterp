{
 "cells": [
  {
   "cell_type": "markdown",
   "metadata": {},
   "source": [
    "# Imports"
   ]
  },
  {
   "cell_type": "code",
   "execution_count": 1,
   "metadata": {},
   "outputs": [
    {
     "name": "stderr",
     "output_type": "stream",
     "text": [
      "c:\\Users\\ampir\\anaconda3\\envs\\MechInterp\\Lib\\site-packages\\tqdm\\auto.py:21: TqdmWarning: IProgress not found. Please update jupyter and ipywidgets. See https://ipywidgets.readthedocs.io/en/stable/user_install.html\n",
      "  from .autonotebook import tqdm as notebook_tqdm\n"
     ]
    }
   ],
   "source": [
    "from __future__ import annotations\n",
    "from typing import Tuple, List, Dict, Optional, Any\n",
    "\n",
    "import numpy as np\n",
    "import torch\n",
    "from pathlib import Path\n",
    "from transformers import AutoModelForCausalLM, AutoTokenizer\n",
    "from datasets import load_dataset, DownloadMode\n",
    "\n",
    "import matplotlib.pyplot as plt\n",
    "import seaborn as sns\n",
    "import plotly.express as px\n",
    "import plotly.graph_objects as go\n",
    "import tqdm\n",
    "\n",
    "from helper_utils.enum_keys import (\n",
    "    FPKey,\n",
    "    QuantStyle,\n",
    "    MiscPrompts,\n",
    "    Contexts,\n",
    "    Texts,\n",
    ")\n",
    "\n",
    "from PTQ.apply_ptq import applyPTQ\n",
    "from PTQ.olmo_act_fns import patch_olmo_mlp\n",
    "import helper_utils.utils as utils\n",
    "\n",
    "from mech_interp_utils.utils_main.src.transformer_utils import (\n",
    "    logit_lens,\n",
    "    activation_lens,\n",
    "    dictionary_learning,\n",
    "    chatbot_analysis\n",
    ")\n",
    "\n",
    "import warnings\n",
    "warnings.filterwarnings('ignore')"
   ]
  },
  {
   "cell_type": "code",
   "execution_count": null,
   "metadata": {},
   "outputs": [],
   "source": [
    "\"\"\"import torch._dynamo\n",
    "torch._dynamo.config.suppress_errors = True\"\"\""
   ]
  },
  {
   "cell_type": "markdown",
   "metadata": {},
   "source": [
    "### Dataset for calibrating activations"
   ]
  },
  {
   "cell_type": "code",
   "execution_count": null,
   "metadata": {},
   "outputs": [],
   "source": [
    "filepath = r'D:\\ThesisData\\wikitext'\n",
    "\n",
    "destination_path = str(Path(filepath))\n",
    "dataset = load_dataset(\n",
    "    'wikitext', 'wikitext-103-raw-v1',\n",
    "    split={\n",
    "        'train': 'train[:30%]',\n",
    "        'validation': 'validation[:10%]',\n",
    "        'test': 'test[:10%]',\n",
    "    },\n",
    "    cache_dir=destination_path,\n",
    "    download_mode=DownloadMode.REUSE_DATASET_IF_EXISTS,\n",
    "    keep_in_memory=True\n",
    ")"
   ]
  },
  {
   "cell_type": "code",
   "execution_count": null,
   "metadata": {},
   "outputs": [],
   "source": [
    "train_texts = dataset['train']"
   ]
  },
  {
   "cell_type": "code",
   "execution_count": null,
   "metadata": {},
   "outputs": [],
   "source": [
    "calibration_texts = [t for t in dataset['train'][\"text\"] if isinstance(t, str) and t.strip()]\n",
    "#calibration_texts = [t for t in sub_txts[\"text\"] if isinstance(t, str) and t.strip()]"
   ]
  },
  {
   "cell_type": "code",
   "execution_count": null,
   "metadata": {},
   "outputs": [],
   "source": [
    "sub_txts = train_texts.take(100)"
   ]
  },
  {
   "cell_type": "markdown",
   "metadata": {},
   "source": [
    "### Params"
   ]
  },
  {
   "cell_type": "code",
   "execution_count": 2,
   "metadata": {},
   "outputs": [],
   "source": [
    "PARAMS:Dict = {\n",
    "    'context': Contexts.C1.value,\n",
    "    'prompt': MiscPrompts.Q11.value,\n",
    "    'max_new_tokens': 250,\n",
    "    'temperature': 0.8,\n",
    "    'repetition_penalty': 1.1,\n",
    "    'sample': True,\n",
    "    'device': None\n",
    "}"
   ]
  },
  {
   "cell_type": "markdown",
   "metadata": {},
   "source": [
    "# Models and Tokenizer"
   ]
  },
  {
   "cell_type": "code",
   "execution_count": 3,
   "metadata": {},
   "outputs": [],
   "source": [
    "def load_test_model(model_path:str, dtype=torch.dtype) -> AutoModelForCausalLM:\n",
    "    model = AutoModelForCausalLM.from_pretrained(\n",
    "        model_path,\n",
    "        return_dict=True,\n",
    "        output_hidden_states=True,\n",
    "        torch_dtype=dtype,\n",
    "        low_cpu_mem_usage=True,\n",
    "        local_files_only=True,\n",
    "        use_safetensors=True\n",
    "    )\n",
    "\n",
    "    return model"
   ]
  },
  {
   "cell_type": "markdown",
   "metadata": {},
   "source": [
    "### allenai/OLMo"
   ]
  },
  {
   "cell_type": "code",
   "execution_count": 4,
   "metadata": {},
   "outputs": [],
   "source": [
    "olmo1b_tokenizer = AutoTokenizer.from_pretrained(FPKey.OLMO1B_TOKENIZER.value)"
   ]
  },
  {
   "cell_type": "code",
   "execution_count": null,
   "metadata": {},
   "outputs": [],
   "source": [
    "olmo2t_tokenizer = AutoTokenizer.from_pretrained(FPKey.OLMO7B2T_TOKENIZER.value)"
   ]
  },
  {
   "cell_type": "code",
   "execution_count": null,
   "metadata": {},
   "outputs": [],
   "source": [
    "olmo7b_tokenizer = AutoTokenizer.from_pretrained(FPKey.OLMO7B_TOKENIZER.value)"
   ]
  },
  {
   "cell_type": "code",
   "execution_count": 5,
   "metadata": {},
   "outputs": [],
   "source": [
    "olmo1b_fp32 = load_test_model(FPKey.OLMO1B_FP.value, dtype=torch.float32)"
   ]
  },
  {
   "cell_type": "code",
   "execution_count": null,
   "metadata": {},
   "outputs": [],
   "source": [
    "olmo2t_fp32 = load_test_model(FPKey.OLMO7B2T_FP.value, dtype=torch.float32)"
   ]
  },
  {
   "cell_type": "code",
   "execution_count": null,
   "metadata": {},
   "outputs": [],
   "source": [
    "olmo7b_fp32 = load_test_model(FPKey.OLMO7B_FP.value, dtype=torch.float32)"
   ]
  },
  {
   "cell_type": "code",
   "execution_count": null,
   "metadata": {},
   "outputs": [],
   "source": [
    "olmo1b_fp32"
   ]
  },
  {
   "cell_type": "code",
   "execution_count": null,
   "metadata": {},
   "outputs": [],
   "source": [
    "olmo1b_fp32.config"
   ]
  },
  {
   "cell_type": "code",
   "execution_count": 6,
   "metadata": {},
   "outputs": [
    {
     "name": "stdout",
     "output_type": "stream",
     "text": [
      "|| Quant Configs: 1.58bit | BitNet-style PTQ as: PTDQ ||\n",
      ">> [STEP 1] Wrapping Linear layers (no weight quant yet)...\n",
      "[SKIP] lm_head | Policy: Skip weight quantization!\n",
      ">> [STEP 3]: Quantizing weights (after activation calibration)...\n",
      "[INFO] Quantized ternary sparsity: 64.30%\n",
      "[1.58-bit] model.layers.0.self_attn.q_proj | τ=0.0086 | α=0.0148 | shape=torch.Size([2048, 2048])\n",
      "[INFO] Quantized ternary sparsity: 63.28%\n",
      "[1.58-bit] model.layers.0.self_attn.k_proj | τ=0.0084 | α=0.0147 | shape=torch.Size([2048, 2048])\n",
      "[INFO] Quantized ternary sparsity: 70.05%\n",
      "[1.58-bit] model.layers.0.self_attn.v_proj | τ=0.0066 | α=0.0102 | shape=torch.Size([2048, 2048])\n",
      "[INFO] Quantized ternary sparsity: 66.96%\n",
      "[1.58-bit] model.layers.0.self_attn.o_proj | τ=0.0060 | α=0.0095 | shape=torch.Size([2048, 2048])\n",
      "[INFO] Quantized ternary sparsity: 66.77%\n",
      "[1.58-bit] model.layers.0.mlp.gate_proj | τ=0.0071 | α=0.0111 | shape=torch.Size([8192, 2048])\n",
      "[INFO] Quantized ternary sparsity: 66.96%\n",
      "[1.58-bit] model.layers.0.mlp.up_proj | τ=0.0073 | α=0.0114 | shape=torch.Size([8192, 2048])\n",
      "[INFO] Quantized ternary sparsity: 66.96%\n",
      "[1.58-bit] model.layers.0.mlp.down_proj | τ=0.0075 | α=0.0117 | shape=torch.Size([2048, 8192])\n",
      "[INFO] Quantized ternary sparsity: 75.58%\n",
      "[1.58-bit] model.layers.1.self_attn.q_proj | τ=0.0107 | α=0.0169 | shape=torch.Size([2048, 2048])\n",
      "[INFO] Quantized ternary sparsity: 75.64%\n",
      "[1.58-bit] model.layers.1.self_attn.k_proj | τ=0.0107 | α=0.0169 | shape=torch.Size([2048, 2048])\n",
      "[INFO] Quantized ternary sparsity: 70.29%\n",
      "[1.58-bit] model.layers.1.self_attn.v_proj | τ=0.0055 | α=0.0083 | shape=torch.Size([2048, 2048])\n",
      "[INFO] Quantized ternary sparsity: 66.69%\n",
      "[1.58-bit] model.layers.1.self_attn.o_proj | τ=0.0053 | α=0.0086 | shape=torch.Size([2048, 2048])\n",
      "[INFO] Quantized ternary sparsity: 67.88%\n",
      "[1.58-bit] model.layers.1.mlp.gate_proj | τ=0.0073 | α=0.0113 | shape=torch.Size([8192, 2048])\n",
      "[INFO] Quantized ternary sparsity: 67.24%\n",
      "[1.58-bit] model.layers.1.mlp.up_proj | τ=0.0069 | α=0.0107 | shape=torch.Size([8192, 2048])\n",
      "[INFO] Quantized ternary sparsity: 66.98%\n",
      "[1.58-bit] model.layers.1.mlp.down_proj | τ=0.0069 | α=0.0107 | shape=torch.Size([2048, 8192])\n",
      "[INFO] Quantized ternary sparsity: 57.44%\n",
      "[1.58-bit] model.layers.2.self_attn.q_proj | τ=0.0077 | α=0.0150 | shape=torch.Size([2048, 2048])\n",
      "[INFO] Quantized ternary sparsity: 57.62%\n",
      "[1.58-bit] model.layers.2.self_attn.k_proj | τ=0.0076 | α=0.0150 | shape=torch.Size([2048, 2048])\n",
      "[INFO] Quantized ternary sparsity: 73.65%\n",
      "[1.58-bit] model.layers.2.self_attn.v_proj | τ=0.0072 | α=0.0106 | shape=torch.Size([2048, 2048])\n",
      "[INFO] Quantized ternary sparsity: 66.77%\n",
      "[1.58-bit] model.layers.2.self_attn.o_proj | τ=0.0062 | α=0.0098 | shape=torch.Size([2048, 2048])\n",
      "[INFO] Quantized ternary sparsity: 67.84%\n",
      "[1.58-bit] model.layers.2.mlp.gate_proj | τ=0.0072 | α=0.0113 | shape=torch.Size([8192, 2048])\n",
      "[INFO] Quantized ternary sparsity: 66.62%\n",
      "[1.58-bit] model.layers.2.mlp.up_proj | τ=0.0065 | α=0.0101 | shape=torch.Size([8192, 2048])\n",
      "[INFO] Quantized ternary sparsity: 67.36%\n",
      "[1.58-bit] model.layers.2.mlp.down_proj | τ=0.0066 | α=0.0102 | shape=torch.Size([2048, 8192])\n",
      "[INFO] Quantized ternary sparsity: 49.23%\n",
      "[1.58-bit] model.layers.3.self_attn.q_proj | τ=0.0062 | α=0.0131 | shape=torch.Size([2048, 2048])\n",
      "[INFO] Quantized ternary sparsity: 48.24%\n",
      "[1.58-bit] model.layers.3.self_attn.k_proj | τ=0.0059 | α=0.0129 | shape=torch.Size([2048, 2048])\n",
      "[INFO] Quantized ternary sparsity: 65.96%\n",
      "[1.58-bit] model.layers.3.self_attn.v_proj | τ=0.0064 | α=0.0102 | shape=torch.Size([2048, 2048])\n",
      "[INFO] Quantized ternary sparsity: 67.36%\n",
      "[1.58-bit] model.layers.3.self_attn.o_proj | τ=0.0066 | α=0.0103 | shape=torch.Size([2048, 2048])\n",
      "[INFO] Quantized ternary sparsity: 66.94%\n",
      "[1.58-bit] model.layers.3.mlp.gate_proj | τ=0.0067 | α=0.0108 | shape=torch.Size([8192, 2048])\n",
      "[INFO] Quantized ternary sparsity: 67.13%\n",
      "[1.58-bit] model.layers.3.mlp.up_proj | τ=0.0063 | α=0.0097 | shape=torch.Size([8192, 2048])\n",
      "[INFO] Quantized ternary sparsity: 67.02%\n",
      "[1.58-bit] model.layers.3.mlp.down_proj | τ=0.0065 | α=0.0101 | shape=torch.Size([2048, 8192])\n",
      "[INFO] Quantized ternary sparsity: 57.34%\n",
      "[1.58-bit] model.layers.4.self_attn.q_proj | τ=0.0074 | α=0.0136 | shape=torch.Size([2048, 2048])\n",
      "[INFO] Quantized ternary sparsity: 57.00%\n",
      "[1.58-bit] model.layers.4.self_attn.k_proj | τ=0.0073 | α=0.0135 | shape=torch.Size([2048, 2048])\n",
      "[INFO] Quantized ternary sparsity: 68.21%\n",
      "[1.58-bit] model.layers.4.self_attn.v_proj | τ=0.0066 | α=0.0101 | shape=torch.Size([2048, 2048])\n",
      "[INFO] Quantized ternary sparsity: 66.94%\n",
      "[1.58-bit] model.layers.4.self_attn.o_proj | τ=0.0065 | α=0.0101 | shape=torch.Size([2048, 2048])\n",
      "[INFO] Quantized ternary sparsity: 68.32%\n",
      "[1.58-bit] model.layers.4.mlp.gate_proj | τ=0.0068 | α=0.0106 | shape=torch.Size([8192, 2048])\n",
      "[INFO] Quantized ternary sparsity: 67.60%\n",
      "[1.58-bit] model.layers.4.mlp.up_proj | τ=0.0063 | α=0.0097 | shape=torch.Size([8192, 2048])\n",
      "[INFO] Quantized ternary sparsity: 66.96%\n",
      "[1.58-bit] model.layers.4.mlp.down_proj | τ=0.0064 | α=0.0099 | shape=torch.Size([2048, 8192])\n",
      "[INFO] Quantized ternary sparsity: 58.21%\n",
      "[1.58-bit] model.layers.5.self_attn.q_proj | τ=0.0077 | α=0.0148 | shape=torch.Size([2048, 2048])\n",
      "[INFO] Quantized ternary sparsity: 57.15%\n",
      "[1.58-bit] model.layers.5.self_attn.k_proj | τ=0.0075 | α=0.0145 | shape=torch.Size([2048, 2048])\n",
      "[INFO] Quantized ternary sparsity: 60.75%\n",
      "[1.58-bit] model.layers.5.self_attn.v_proj | τ=0.0058 | α=0.0097 | shape=torch.Size([2048, 2048])\n",
      "[INFO] Quantized ternary sparsity: 67.43%\n",
      "[1.58-bit] model.layers.5.self_attn.o_proj | τ=0.0068 | α=0.0105 | shape=torch.Size([2048, 2048])\n",
      "[INFO] Quantized ternary sparsity: 66.56%\n",
      "[1.58-bit] model.layers.5.mlp.gate_proj | τ=0.0064 | α=0.0101 | shape=torch.Size([8192, 2048])\n",
      "[INFO] Quantized ternary sparsity: 66.71%\n",
      "[1.58-bit] model.layers.5.mlp.up_proj | τ=0.0062 | α=0.0096 | shape=torch.Size([8192, 2048])\n",
      "[INFO] Quantized ternary sparsity: 67.08%\n",
      "[1.58-bit] model.layers.5.mlp.down_proj | τ=0.0065 | α=0.0101 | shape=torch.Size([2048, 8192])\n",
      "[INFO] Quantized ternary sparsity: 68.83%\n",
      "[1.58-bit] model.layers.6.self_attn.q_proj | τ=0.0080 | α=0.0137 | shape=torch.Size([2048, 2048])\n",
      "[INFO] Quantized ternary sparsity: 69.37%\n",
      "[1.58-bit] model.layers.6.self_attn.k_proj | τ=0.0081 | α=0.0138 | shape=torch.Size([2048, 2048])\n",
      "[INFO] Quantized ternary sparsity: 71.18%\n",
      "[1.58-bit] model.layers.6.self_attn.v_proj | τ=0.0071 | α=0.0105 | shape=torch.Size([2048, 2048])\n",
      "[INFO] Quantized ternary sparsity: 67.26%\n",
      "[1.58-bit] model.layers.6.self_attn.o_proj | τ=0.0063 | α=0.0098 | shape=torch.Size([2048, 2048])\n",
      "[INFO] Quantized ternary sparsity: 67.01%\n",
      "[1.58-bit] model.layers.6.mlp.gate_proj | τ=0.0066 | α=0.0103 | shape=torch.Size([8192, 2048])\n",
      "[INFO] Quantized ternary sparsity: 67.06%\n",
      "[1.58-bit] model.layers.6.mlp.up_proj | τ=0.0064 | α=0.0099 | shape=torch.Size([8192, 2048])\n",
      "[INFO] Quantized ternary sparsity: 66.92%\n",
      "[1.58-bit] model.layers.6.mlp.down_proj | τ=0.0066 | α=0.0101 | shape=torch.Size([2048, 8192])\n",
      "[INFO] Quantized ternary sparsity: 60.16%\n",
      "[1.58-bit] model.layers.7.self_attn.q_proj | τ=0.0064 | α=0.0119 | shape=torch.Size([2048, 2048])\n",
      "[INFO] Quantized ternary sparsity: 60.08%\n",
      "[1.58-bit] model.layers.7.self_attn.k_proj | τ=0.0064 | α=0.0119 | shape=torch.Size([2048, 2048])\n",
      "[INFO] Quantized ternary sparsity: 61.84%\n",
      "[1.58-bit] model.layers.7.self_attn.v_proj | τ=0.0058 | α=0.0095 | shape=torch.Size([2048, 2048])\n",
      "[INFO] Quantized ternary sparsity: 66.76%\n",
      "[1.58-bit] model.layers.7.self_attn.o_proj | τ=0.0061 | α=0.0095 | shape=torch.Size([2048, 2048])\n",
      "[INFO] Quantized ternary sparsity: 68.14%\n",
      "[1.58-bit] model.layers.7.mlp.gate_proj | τ=0.0068 | α=0.0105 | shape=torch.Size([8192, 2048])\n",
      "[INFO] Quantized ternary sparsity: 67.01%\n",
      "[1.58-bit] model.layers.7.mlp.up_proj | τ=0.0065 | α=0.0101 | shape=torch.Size([8192, 2048])\n",
      "[INFO] Quantized ternary sparsity: 67.01%\n",
      "[1.58-bit] model.layers.7.mlp.down_proj | τ=0.0066 | α=0.0102 | shape=torch.Size([2048, 8192])\n",
      "[INFO] Quantized ternary sparsity: 68.30%\n",
      "[1.58-bit] model.layers.8.self_attn.q_proj | τ=0.0082 | α=0.0140 | shape=torch.Size([2048, 2048])\n",
      "[INFO] Quantized ternary sparsity: 68.72%\n",
      "[1.58-bit] model.layers.8.self_attn.k_proj | τ=0.0082 | α=0.0141 | shape=torch.Size([2048, 2048])\n",
      "[INFO] Quantized ternary sparsity: 66.85%\n",
      "[1.58-bit] model.layers.8.self_attn.v_proj | τ=0.0065 | α=0.0100 | shape=torch.Size([2048, 2048])\n",
      "[INFO] Quantized ternary sparsity: 66.86%\n",
      "[1.58-bit] model.layers.8.self_attn.o_proj | τ=0.0062 | α=0.0097 | shape=torch.Size([2048, 2048])\n",
      "[INFO] Quantized ternary sparsity: 67.93%\n",
      "[1.58-bit] model.layers.8.mlp.gate_proj | τ=0.0068 | α=0.0105 | shape=torch.Size([8192, 2048])\n",
      "[INFO] Quantized ternary sparsity: 67.14%\n",
      "[1.58-bit] model.layers.8.mlp.up_proj | τ=0.0066 | α=0.0102 | shape=torch.Size([8192, 2048])\n",
      "[INFO] Quantized ternary sparsity: 66.92%\n",
      "[1.58-bit] model.layers.8.mlp.down_proj | τ=0.0066 | α=0.0102 | shape=torch.Size([2048, 8192])\n",
      "[INFO] Quantized ternary sparsity: 42.11%\n",
      "[1.58-bit] model.layers.9.self_attn.q_proj | τ=0.0046 | α=0.0111 | shape=torch.Size([2048, 2048])\n",
      "[INFO] Quantized ternary sparsity: 41.49%\n",
      "[1.58-bit] model.layers.9.self_attn.k_proj | τ=0.0044 | α=0.0110 | shape=torch.Size([2048, 2048])\n",
      "[INFO] Quantized ternary sparsity: 50.30%\n",
      "[1.58-bit] model.layers.9.self_attn.v_proj | τ=0.0042 | α=0.0081 | shape=torch.Size([2048, 2048])\n",
      "[INFO] Quantized ternary sparsity: 66.97%\n",
      "[1.58-bit] model.layers.9.self_attn.o_proj | τ=0.0059 | α=0.0094 | shape=torch.Size([2048, 2048])\n",
      "[INFO] Quantized ternary sparsity: 66.79%\n",
      "[1.58-bit] model.layers.9.mlp.gate_proj | τ=0.0066 | α=0.0104 | shape=torch.Size([8192, 2048])\n",
      "[INFO] Quantized ternary sparsity: 67.02%\n",
      "[1.58-bit] model.layers.9.mlp.up_proj | τ=0.0066 | α=0.0102 | shape=torch.Size([8192, 2048])\n",
      "[INFO] Quantized ternary sparsity: 67.06%\n",
      "[1.58-bit] model.layers.9.mlp.down_proj | τ=0.0066 | α=0.0102 | shape=torch.Size([2048, 8192])\n",
      "[INFO] Quantized ternary sparsity: 54.65%\n",
      "[1.58-bit] model.layers.10.self_attn.q_proj | τ=0.0072 | α=0.0141 | shape=torch.Size([2048, 2048])\n",
      "[INFO] Quantized ternary sparsity: 55.83%\n",
      "[1.58-bit] model.layers.10.self_attn.k_proj | τ=0.0074 | α=0.0142 | shape=torch.Size([2048, 2048])\n",
      "[INFO] Quantized ternary sparsity: 70.81%\n",
      "[1.58-bit] model.layers.10.self_attn.v_proj | τ=0.0069 | α=0.0103 | shape=torch.Size([2048, 2048])\n",
      "[INFO] Quantized ternary sparsity: 67.14%\n",
      "[1.58-bit] model.layers.10.self_attn.o_proj | τ=0.0063 | α=0.0098 | shape=torch.Size([2048, 2048])\n",
      "[INFO] Quantized ternary sparsity: 67.61%\n",
      "[1.58-bit] model.layers.10.mlp.gate_proj | τ=0.0067 | α=0.0105 | shape=torch.Size([8192, 2048])\n",
      "[INFO] Quantized ternary sparsity: 66.74%\n",
      "[1.58-bit] model.layers.10.mlp.up_proj | τ=0.0065 | α=0.0101 | shape=torch.Size([8192, 2048])\n",
      "[INFO] Quantized ternary sparsity: 66.94%\n",
      "[1.58-bit] model.layers.10.mlp.down_proj | τ=0.0065 | α=0.0101 | shape=torch.Size([2048, 8192])\n",
      "[INFO] Quantized ternary sparsity: 56.38%\n",
      "[1.58-bit] model.layers.11.self_attn.q_proj | τ=0.0077 | α=0.0143 | shape=torch.Size([2048, 2048])\n",
      "[INFO] Quantized ternary sparsity: 58.06%\n",
      "[1.58-bit] model.layers.11.self_attn.k_proj | τ=0.0080 | α=0.0145 | shape=torch.Size([2048, 2048])\n",
      "[INFO] Quantized ternary sparsity: 62.60%\n",
      "[1.58-bit] model.layers.11.self_attn.v_proj | τ=0.0061 | α=0.0099 | shape=torch.Size([2048, 2048])\n",
      "[INFO] Quantized ternary sparsity: 66.53%\n",
      "[1.58-bit] model.layers.11.self_attn.o_proj | τ=0.0065 | α=0.0103 | shape=torch.Size([2048, 2048])\n",
      "[INFO] Quantized ternary sparsity: 66.73%\n",
      "[1.58-bit] model.layers.11.mlp.gate_proj | τ=0.0065 | α=0.0104 | shape=torch.Size([8192, 2048])\n",
      "[INFO] Quantized ternary sparsity: 67.15%\n",
      "[1.58-bit] model.layers.11.mlp.up_proj | τ=0.0066 | α=0.0102 | shape=torch.Size([8192, 2048])\n",
      "[INFO] Quantized ternary sparsity: 67.12%\n",
      "[1.58-bit] model.layers.11.mlp.down_proj | τ=0.0065 | α=0.0101 | shape=torch.Size([2048, 8192])\n",
      "[INFO] Quantized ternary sparsity: 56.88%\n",
      "[1.58-bit] model.layers.12.self_attn.q_proj | τ=0.0083 | α=0.0156 | shape=torch.Size([2048, 2048])\n",
      "[INFO] Quantized ternary sparsity: 56.97%\n",
      "[1.58-bit] model.layers.12.self_attn.k_proj | τ=0.0083 | α=0.0156 | shape=torch.Size([2048, 2048])\n",
      "[INFO] Quantized ternary sparsity: 77.64%\n",
      "[1.58-bit] model.layers.12.self_attn.v_proj | τ=0.0089 | α=0.0126 | shape=torch.Size([2048, 2048])\n",
      "[INFO] Quantized ternary sparsity: 66.29%\n",
      "[1.58-bit] model.layers.12.self_attn.o_proj | τ=0.0070 | α=0.0110 | shape=torch.Size([2048, 2048])\n",
      "[INFO] Quantized ternary sparsity: 67.08%\n",
      "[1.58-bit] model.layers.12.mlp.gate_proj | τ=0.0066 | α=0.0106 | shape=torch.Size([8192, 2048])\n",
      "[INFO] Quantized ternary sparsity: 67.30%\n",
      "[1.58-bit] model.layers.12.mlp.up_proj | τ=0.0066 | α=0.0103 | shape=torch.Size([8192, 2048])\n",
      "[INFO] Quantized ternary sparsity: 67.12%\n",
      "[1.58-bit] model.layers.12.mlp.down_proj | τ=0.0067 | α=0.0104 | shape=torch.Size([2048, 8192])\n",
      "[INFO] Quantized ternary sparsity: 49.22%\n",
      "[1.58-bit] model.layers.13.self_attn.q_proj | τ=0.0064 | α=0.0143 | shape=torch.Size([2048, 2048])\n",
      "[INFO] Quantized ternary sparsity: 49.19%\n",
      "[1.58-bit] model.layers.13.self_attn.k_proj | τ=0.0063 | α=0.0142 | shape=torch.Size([2048, 2048])\n",
      "[INFO] Quantized ternary sparsity: 67.12%\n",
      "[1.58-bit] model.layers.13.self_attn.v_proj | τ=0.0075 | α=0.0117 | shape=torch.Size([2048, 2048])\n",
      "[INFO] Quantized ternary sparsity: 66.33%\n",
      "[1.58-bit] model.layers.13.self_attn.o_proj | τ=0.0071 | α=0.0112 | shape=torch.Size([2048, 2048])\n",
      "[INFO] Quantized ternary sparsity: 67.61%\n",
      "[1.58-bit] model.layers.13.mlp.gate_proj | τ=0.0071 | α=0.0113 | shape=torch.Size([8192, 2048])\n",
      "[INFO] Quantized ternary sparsity: 66.92%\n",
      "[1.58-bit] model.layers.13.mlp.up_proj | τ=0.0069 | α=0.0107 | shape=torch.Size([8192, 2048])\n",
      "[INFO] Quantized ternary sparsity: 67.10%\n",
      "[1.58-bit] model.layers.13.mlp.down_proj | τ=0.0072 | α=0.0112 | shape=torch.Size([2048, 8192])\n",
      "[INFO] Quantized ternary sparsity: 37.09%\n",
      "[1.58-bit] model.layers.14.self_attn.q_proj | τ=0.0039 | α=0.0113 | shape=torch.Size([2048, 2048])\n",
      "[INFO] Quantized ternary sparsity: 35.39%\n",
      "[1.58-bit] model.layers.14.self_attn.k_proj | τ=0.0036 | α=0.0110 | shape=torch.Size([2048, 2048])\n",
      "[INFO] Quantized ternary sparsity: 70.92%\n",
      "[1.58-bit] model.layers.14.self_attn.v_proj | τ=0.0092 | α=0.0138 | shape=torch.Size([2048, 2048])\n",
      "[INFO] Quantized ternary sparsity: 67.44%\n",
      "[1.58-bit] model.layers.14.self_attn.o_proj | τ=0.0083 | α=0.0129 | shape=torch.Size([2048, 2048])\n",
      "[INFO] Quantized ternary sparsity: 66.92%\n",
      "[1.58-bit] model.layers.14.mlp.gate_proj | τ=0.0075 | α=0.0118 | shape=torch.Size([8192, 2048])\n",
      "[INFO] Quantized ternary sparsity: 66.86%\n",
      "[1.58-bit] model.layers.14.mlp.up_proj | τ=0.0074 | α=0.0114 | shape=torch.Size([8192, 2048])\n",
      "[INFO] Quantized ternary sparsity: 67.04%\n",
      "[1.58-bit] model.layers.14.mlp.down_proj | τ=0.0078 | α=0.0120 | shape=torch.Size([2048, 8192])\n",
      "[INFO] Quantized ternary sparsity: 36.27%\n",
      "[1.58-bit] model.layers.15.self_attn.q_proj | τ=0.0042 | α=0.0111 | shape=torch.Size([2048, 2048])\n",
      "[INFO] Quantized ternary sparsity: 33.81%\n",
      "[1.58-bit] model.layers.15.self_attn.k_proj | τ=0.0039 | α=0.0108 | shape=torch.Size([2048, 2048])\n",
      "[INFO] Quantized ternary sparsity: 73.66%\n",
      "[1.58-bit] model.layers.15.self_attn.v_proj | τ=0.0100 | α=0.0146 | shape=torch.Size([2048, 2048])\n",
      "[INFO] Quantized ternary sparsity: 67.03%\n",
      "[1.58-bit] model.layers.15.self_attn.o_proj | τ=0.0086 | α=0.0133 | shape=torch.Size([2048, 2048])\n",
      "[INFO] Quantized ternary sparsity: 66.59%\n",
      "[1.58-bit] model.layers.15.mlp.gate_proj | τ=0.0082 | α=0.0131 | shape=torch.Size([8192, 2048])\n",
      "[INFO] Quantized ternary sparsity: 67.12%\n",
      "[1.58-bit] model.layers.15.mlp.up_proj | τ=0.0079 | α=0.0123 | shape=torch.Size([8192, 2048])\n",
      "[INFO] Quantized ternary sparsity: 67.25%\n",
      "[1.58-bit] model.layers.15.mlp.down_proj | τ=0.0081 | α=0.0126 | shape=torch.Size([2048, 8192])\n",
      "\n",
      "==== Activation Distortion Summary ====\n",
      "\n",
      "==== Weight Distortion Summary ====\n",
      "\n",
      "[Sensitivity Report] Sorted by std:\n",
      ">> [INFO] Quantization complete!\n",
      ">> [STEP 4]: Freezing modules...\n"
     ]
    }
   ],
   "source": [
    "olmo1b_bitnet_fp32 = applyPTQ(\n",
    "    load_test_model(FPKey.OLMO1B_FP.value, dtype=torch.float32),\n",
    "    tokenizer=olmo1b_tokenizer,\n",
    "    calibration_input=None,\n",
    "    #calibration_input=sub_txts['text'],\n",
    "    #calibration_input=PARAMS.get('prompt'),\n",
    "    mode='1.58bit',\n",
    "    safer_quant=True,\n",
    "    model_half=False,\n",
    "    quant_half=False,\n",
    "    layers_to_quant_weights=QuantStyle.BITNET.value,\n",
    "    layers_to_quant_activations=QuantStyle.BITNET.value,\n",
    "    fragile_layers=False,\n",
    "    act_quant=False,\n",
    "    act_bits=8,\n",
    "    debugging=True,\n",
    "    plot_debugging=False,\n",
    "    plot_quantization=False,\n",
    "    freeze_modules=True\n",
    ")"
   ]
  },
  {
   "cell_type": "code",
   "execution_count": null,
   "metadata": {},
   "outputs": [],
   "source": [
    "olmo2t_bitnet_fp32 = applyPTQ(\n",
    "    load_test_model(FPKey.OLMO7B2T_FP.value, dtype=torch.float32),\n",
    "    tokenizer=olmo2t_tokenizer,\n",
    "    #calibration_input=None,\n",
    "    #calibration_input=sub_txts['text'],\n",
    "    calibration_input=PARAMS.get('prompt'),\n",
    "    mode='1.58bit',\n",
    "    safer_quant=True,\n",
    "    model_half=False,\n",
    "    quant_half=False,\n",
    "    layers_to_quant_weights=QuantStyle.BITNET.value,\n",
    "    layers_to_quant_activations=QuantStyle.BITNET.value,\n",
    "    fragile_layers=True,\n",
    "    act_quant=True,\n",
    "    act_bits=8,\n",
    "    debugging=True,\n",
    "    plot_debugging=False,\n",
    "    plot_quantization=False,\n",
    "    freeze_modules=True\n",
    ")"
   ]
  },
  {
   "cell_type": "code",
   "execution_count": null,
   "metadata": {},
   "outputs": [],
   "source": [
    "olmo2t_bitnet_fp32 = applyPTQ(\n",
    "    load_test_model(FPKey.OLMO7B_FP.value, dtype=torch.float32),\n",
    "    tokenizer=olmo7b_tokenizer,\n",
    "    calibration_input=None,\n",
    "    #calibration_input=sub_txts['text'],\n",
    "    #calibration_input=PARAMS.get('prompt'),\n",
    "    mode='1.58bit',\n",
    "    safer_quant=True,\n",
    "    model_half=False,\n",
    "    quant_half=False,\n",
    "    layers_to_quant_weights=QuantStyle.BITNET.value,\n",
    "    layers_to_quant_activations=QuantStyle.BITNET.value,\n",
    "    fragile_layers=False,\n",
    "    act_quant=False,\n",
    "    act_bits=8,\n",
    "    debugging=True,\n",
    "    plot_debugging=False,\n",
    "    plot_quantization=False,\n",
    "    freeze_modules=True\n",
    ")"
   ]
  },
  {
   "cell_type": "code",
   "execution_count": null,
   "metadata": {},
   "outputs": [],
   "source": [
    "olmo2t_bitnet_fp32"
   ]
  },
  {
   "cell_type": "markdown",
   "metadata": {},
   "source": [
    "### NousResearch/DeepHermes"
   ]
  },
  {
   "cell_type": "code",
   "execution_count": null,
   "metadata": {},
   "outputs": [],
   "source": [
    "dh3b_tokenizer = AutoTokenizer.from_pretrained(FPKey.TOKENIZER_3B.value)"
   ]
  },
  {
   "cell_type": "code",
   "execution_count": null,
   "metadata": {},
   "outputs": [],
   "source": [
    "dh8b_tokenizer = AutoTokenizer.from_pretrained(FPKey.TOKENIZER_8B.value)"
   ]
  },
  {
   "cell_type": "code",
   "execution_count": null,
   "metadata": {},
   "outputs": [],
   "source": [
    "dh3b_fp32 = load_test_model(FPKey.FP_3B.value, dtype=torch.float32)"
   ]
  },
  {
   "cell_type": "code",
   "execution_count": null,
   "metadata": {},
   "outputs": [],
   "source": [
    "dh8b_fp32 = load_test_model(FPKey.FP_8B.value, dtype=torch.float32)"
   ]
  },
  {
   "cell_type": "code",
   "execution_count": null,
   "metadata": {},
   "outputs": [],
   "source": [
    "dh3b_bitnet_fp32 = applyPTQ(\n",
    "    load_test_model(FPKey.FP_3B.value, dtype=torch.float32),\n",
    "    tokenizer=dh3b_tokenizer,\n",
    "    #calibration_input=None,\n",
    "    #calibration_input=sub_txts['text'],\n",
    "    calibration_input=PARAMS.get('prompt'),\n",
    "    mode='1.58bit',\n",
    "    safer_quant=True,\n",
    "    model_half=False,\n",
    "    quant_half=False,\n",
    "    layers_to_quant_weights=QuantStyle.BITNET.value,\n",
    "    layers_to_quant_activations=QuantStyle.BITNET.value,\n",
    "    fragile_layers=True,\n",
    "    act_quant=True,\n",
    "    act_bits=8,\n",
    "    debugging=True,\n",
    "    plot_debugging=False,\n",
    "    plot_quantization=False,\n",
    "    freeze_modules=True\n",
    ")"
   ]
  },
  {
   "cell_type": "code",
   "execution_count": null,
   "metadata": {},
   "outputs": [],
   "source": [
    "dh3b_bitnet_fp32"
   ]
  },
  {
   "cell_type": "code",
   "execution_count": null,
   "metadata": {},
   "outputs": [],
   "source": [
    "dh8b_bitnet_fp32 = applyPTQ(\n",
    "    load_test_model(FPKey.FP_8B.value, dtype=torch.float32),\n",
    "    tokenizer=dh8b_tokenizer,\n",
    "    calibration_input=None,\n",
    "    #calibration_input=sub_txts['text'],\n",
    "    #calibration_input=PARAMS.get('prompt'),\n",
    "    mode='1.58bit',\n",
    "    safer_quant=True,\n",
    "    model_half=False,\n",
    "    quant_half=False,\n",
    "    layers_to_quant_weights=QuantStyle.BITNET.value,\n",
    "    layers_to_quant_activations=QuantStyle.BITNET.value,\n",
    "    fragile_layers=False,\n",
    "    act_quant=False,\n",
    "    act_bits=8,\n",
    "    debugging=True,\n",
    "    plot_debugging=False,\n",
    "    plot_quantization=False,\n",
    "    freeze_modules=True\n",
    ")"
   ]
  },
  {
   "cell_type": "code",
   "execution_count": null,
   "metadata": {},
   "outputs": [],
   "source": [
    "dh8b_bitnet_fp32"
   ]
  },
  {
   "cell_type": "markdown",
   "metadata": {},
   "source": [
    "# Activation Lens and Logit Lens"
   ]
  },
  {
   "cell_type": "code",
   "execution_count": null,
   "metadata": {},
   "outputs": [],
   "source": [
    "MiscPrompts.Q2.value"
   ]
  },
  {
   "cell_type": "code",
   "execution_count": null,
   "metadata": {},
   "outputs": [],
   "source": [
    "dh8b_fp32.cpu()"
   ]
  },
  {
   "cell_type": "code",
   "execution_count": null,
   "metadata": {},
   "outputs": [],
   "source": [
    "logit_lens.plot_logit_lens(\n",
    "    model=dh3b_fp32,\n",
    "    tokenizer=dh3b_tokenizer,\n",
    "    input_ids=MiscPrompts.Q2.value,\n",
    "    start_ix=0, end_ix=15,\n",
    "    save_fig_path=None,\n",
    "    #save_fig_path='Outputs/LogitLens/DH3B/logits_3b_fp32_math.jpg',\n",
    "    #entropy=True,\n",
    ")"
   ]
  },
  {
   "cell_type": "code",
   "execution_count": null,
   "metadata": {},
   "outputs": [],
   "source": [
    "logit_lens.plot_logit_lens(\n",
    "    model=olmo1b_bitnet_fp32,\n",
    "    tokenizer=olmo1b_tokenizer,\n",
    "    input_ids=MiscPrompts.Q11.value,\n",
    "    start_ix=0, end_ix=15,\n",
    "    save_fig_path=None,\n",
    "    #save_fig_path='Outputs/LogitLens/DH3B/logits_3b_ptdq_math.jpg',\n",
    "    #kl=True,\n",
    ")"
   ]
  },
  {
   "cell_type": "code",
   "execution_count": null,
   "metadata": {},
   "outputs": [],
   "source": [
    "logit_lens.plot_logit_lens(\n",
    "    model=olmo1b_bitnet_fp32,\n",
    "    tokenizer=olmo1b_tokenizer,\n",
    "    input_ids=MiscPrompts.Q2.value,\n",
    "    start_ix=0, end_ix=15,\n",
    "    save_fig_path=None,\n",
    "    #save_fig_path='Outputs/LogitLens/DH3B/logits_3b_ptdq_math.jpg',\n",
    "    #kl=True,\n",
    ")"
   ]
  },
  {
   "cell_type": "code",
   "execution_count": 7,
   "metadata": {},
   "outputs": [
    {
     "data": {
      "image/png": "[encoded data removed]",
      "text/plain": [
       "<Figure size 2250x637.5 with 3 Axes>"
      ]
     },
     "metadata": {},
     "output_type": "display_data"
    }
   ],
   "source": [
    "logit_lens.plot_comparing_lens(\n",
    "    models=(olmo1b_fp32, olmo1b_bitnet_fp32),\n",
    "    tokenizer=olmo1b_tokenizer,\n",
    "    input_ids=MiscPrompts.Q2.value,\n",
    "    start_ix=0, end_ix=15,\n",
    "    #save_fig_path='Outputs/LogitLens/DH3B/nwd_3bfp32_ptdq_math.jpg',\n",
    "    save_fig_path=None,\n",
    "    wasserstein=True,\n",
    "    #top_down=False,\n",
    ")"
   ]
  },
  {
   "cell_type": "code",
   "execution_count": 8,
   "metadata": {},
   "outputs": [
    {
     "data": {
      "image/png": "[encoded data removed]",
      "text/plain": [
       "<Figure size 2250x637.5 with 3 Axes>"
      ]
     },
     "metadata": {},
     "output_type": "display_data"
    }
   ],
   "source": [
    "logit_lens.plot_comparing_lens(\n",
    "    models=(olmo1b_fp32, olmo1b_bitnet_fp32),\n",
    "    tokenizer=olmo1b_tokenizer,\n",
    "    input_ids=MiscPrompts.Q11.value,\n",
    "    start_ix=0, end_ix=15,\n",
    "    #save_fig_path='Outputs/LogitLens/DH3B/nwd_3bfp32_ptdq_math.jpg',\n",
    "    save_fig_path=None,\n",
    "    wasserstein=True,\n",
    "    #top_down=False,\n",
    ")"
   ]
  },
  {
   "cell_type": "code",
   "execution_count": null,
   "metadata": {},
   "outputs": [],
   "source": [
    "logit_lens.plot_topk_lens(\n",
    "    model=dh3b_fp32,\n",
    "    tokenizer=dh3b_tokenizer,\n",
    "    input_ids=MiscPrompts.Q2.value,\n",
    "    start_ix=0, end_ix=15,\n",
    "    topk_n=5,\n",
    "    save_fig_path='Outputs/LogitLens/DH3B/topk5logits_3bfp32_math.jpg'\n",
    "    #save_fig_path=None,\n",
    "    #top_down=False,\n",
    ")"
   ]
  },
  {
   "cell_type": "code",
   "execution_count": null,
   "metadata": {},
   "outputs": [],
   "source": [
    "logit_lens.plot_topk_lens(\n",
    "    model=dh3b_bitnet_fp32,\n",
    "    tokenizer=dh3b_tokenizer,\n",
    "    input_ids=MiscPrompts.Q2.value,\n",
    "    start_ix=0, end_ix=15,\n",
    "    topk_n=5,\n",
    "    save_fig_path='Outputs/LogitLens/DH3B/topk5logits_ptdq_math.jpg'\n",
    "    #save_fig_path=None,\n",
    "    #entropy=True,\n",
    "    #top_down=False,\n",
    ")"
   ]
  },
  {
   "cell_type": "code",
   "execution_count": null,
   "metadata": {},
   "outputs": [],
   "source": [
    "activation_lens.plot_activation_lens(\n",
    "    model=dh3b_fp32,\n",
    "    tokenizer=dh3b_tokenizer,\n",
    "    input_ids=MiscPrompts.Q2.value,\n",
    "    start_ix=0, end_ix=15,\n",
    "    metric='norm',\n",
    "    save_fig_path='Outputs/LogitLens/DH3B/actnorm_3bfp32_math.jpg'\n",
    "    #save_fig_path=None,\n",
    ")"
   ]
  },
  {
   "cell_type": "code",
   "execution_count": null,
   "metadata": {},
   "outputs": [],
   "source": [
    "activation_lens.plot_activation_lens(\n",
    "    model=dh3b_bitnet_fp32,\n",
    "    tokenizer=dh3b_tokenizer,\n",
    "    input_ids=MiscPrompts.Q2.value,\n",
    "    start_ix=0, end_ix=15,\n",
    "    metric='norm',\n",
    "    save_fig_path='Outputs/LogitLens/DH3B/actnorm_3b_ptdq_math.jpg'\n",
    "    #save_fig_path=None,\n",
    ")"
   ]
  },
  {
   "cell_type": "markdown",
   "metadata": {},
   "source": [
    "# Dictionary Learning: SAE"
   ]
  },
  {
   "cell_type": "code",
   "execution_count": null,
   "metadata": {},
   "outputs": [],
   "source": [
    "dictionary_learning.plot_sae_tokens(\n",
    "    model=olmo1b_bitnet_fp32,\n",
    "    tokenizer=olmo1b_tokenizer,\n",
    "    inputs=PARAMS.get('prompt'),\n",
    "    multi_tokens=False,\n",
    "    do_log=False,\n",
    "    target_layers=[5],\n",
    "    vis_projection=None,\n",
    "    log_path=None,\n",
    "    log_name=None,\n",
    "    fig_path=None\n",
    ")"
   ]
  },
  {
   "cell_type": "code",
   "execution_count": null,
   "metadata": {},
   "outputs": [],
   "source": [
    "dictionary_learning.plot_sae_tokens(\n",
    "    model=dh3b_bitnet_fp32,\n",
    "    tokenizer=dh3b_tokenizer,\n",
    "    inputs=PARAMS.get('prompt'),\n",
    "    multi_tokens=True,\n",
    "    do_log=False,\n",
    "    target_layers=[5],\n",
    "    vis_projection=None,\n",
    "    log_path=None,\n",
    "    log_name=None,\n",
    "    fig_path=None\n",
    ")"
   ]
  },
  {
   "cell_type": "code",
   "execution_count": null,
   "metadata": {},
   "outputs": [],
   "source": [
    "dictionary_learning.plot_sae_tokens(\n",
    "    model=dh3b_bitnet_fp32,\n",
    "    tokenizer=dh3b_tokenizer,\n",
    "    inputs=PARAMS.get('prompt'),\n",
    "    multi_tokens=True,\n",
    "    do_log=False,\n",
    "    target_layers=[5],\n",
    "    vis_projection=None,\n",
    "    log_path=None,\n",
    "    log_name=None,\n",
    "    fig_path=None\n",
    ")"
   ]
  },
  {
   "cell_type": "code",
   "execution_count": null,
   "metadata": {},
   "outputs": [],
   "source": [
    "dictionary_learning.plot_sae_heatmap(\n",
    "    model=dh8b_fp32,\n",
    "    tokenizer=dh8b_tokenizer,\n",
    "    inputs=Texts.T1.value,\n",
    "    do_log=False,\n",
    "    top_k=5,\n",
    "    tokens_per_row=30,\n",
    "    target_layers=[5],\n",
    "    log_path=None,\n",
    "    log_name=None,\n",
    "    fig_path=None\n",
    ")"
   ]
  },
  {
   "cell_type": "code",
   "execution_count": 11,
   "metadata": {},
   "outputs": [
    {
     "name": "stdout",
     "output_type": "stream",
     "text": [
      "\n",
      "Running SAE on layer 5\n"
     ]
    },
    {
     "data": {
      "application/vnd.plotly.v1+json": {
       "config": {
        "plotlyServerURL": "https://plot.ly"
       },
       "data": [
        {
         "colorscale": [
          [
           0,
           "rgb(8,48,107)"
          ],
          [
           0.125,
           "rgb(8,81,156)"
          ],
          [
           0.25,
           "rgb(33,113,181)"
          ],
          [
           0.375,
           "rgb(66,146,198)"
          ],
          [
           0.5,
           "rgb(107,174,214)"
          ],
          [
           0.625,
           "rgb(158,202,225)"
          ],
          [
           0.75,
           "rgb(198,219,239)"
          ],
          [
           0.875,
           "rgb(222,235,247)"
          ],
          [
           1,
           "rgb(247,251,255)"
          ]
         ],
         "hoverinfo": "text",
         "hovertext": [
          [
           "Token: Quant\nTop-5 Features:\n  ●●●● Feature 0: 4.496\n  ●●● Feature 3: 4.174\n  ● Feature 4: 3.542\n   Feature 2: 3.289\n   Feature 1: 3.271\n",
           "Token: ization\nTop-5 Features:\n  ●●●● Feature 0: 3.472\n  ●●● Feature 3: 3.136\n  ●● Feature 2: 3.013\n   Feature 1: 2.489\n   Feature 4: 2.343\n",
           "Token:  refers\nTop-5 Features:\n  ●●●● Feature 0: 2.162\n  ●●●● Feature 3: 2.045\n  ●●● Feature 2: 2.000\n  ● Feature 1: 1.555\n   Feature 4: 1.369\n",
           "Token:  to\nTop-5 Features:\n  ●●●● Feature 0: 1.932\n  ●●● Feature 3: 1.811\n  ●●● Feature 1: 1.758\n  ●●● Feature 2: 1.719\n   Feature 4: 1.344\n",
           "Token:  techniques\nTop-5 Features:\n  ●●●● Feature 0: 1.805\n  ●●● Feature 1: 1.676\n  ●●● Feature 2: 1.606\n  ●● Feature 3: 1.576\n   Feature 4: 1.257\n",
           "Token:  for\nTop-5 Features:\n  ●●●● Feature 0: 1.519\n  ●●●● Feature 1: 1.516\n  ●●● Feature 2: 1.331\n  ●● Feature 3: 1.303\n   Feature 4: 1.015\n",
           "Token:  performing\nTop-5 Features:\n  ●●●● Feature 0: 1.661\n  ●●●● Feature 1: 1.644\n  ●●● Feature 3: 1.512\n  ●●● Feature 2: 1.439\n   Feature 4: 1.080\n",
           "Token:  computations\nTop-5 Features:\n  ●●●● Feature 0: 1.855\n  ● Feature 3: 1.615\n  ● Feature 1: 1.615\n  ● Feature 2: 1.586\n   Feature 4: 1.466\n",
           "Token:  and\nTop-5 Features:\n  ●●●● Feature 1: 1.461\n  ●●●● Feature 0: 1.422\n  ●●● Feature 3: 1.381\n  ●● Feature 2: 1.323\n   Feature 4: 1.142\n",
           "Token:  storing\nTop-5 Features:\n  ●●●● Feature 0: 1.686\n  ●●●● Feature 1: 1.676\n  ● Feature 3: 1.498\n   Feature 2: 1.441\n   Feature 4: 1.414\n",
           "Token:  tensors\nTop-5 Features:\n  ●●●● Feature 0: 1.804\n  ●●●● Feature 1: 1.775\n  ●● Feature 4: 1.714\n   Feature 2: 1.599\n   Feature 3: 1.597\n",
           "Token:  at\nTop-5 Features:\n  ●●●● Feature 0: 1.220\n  ●●● Feature 1: 1.170\n  ● Feature 3: 1.069\n  ● Feature 2: 1.046\n   Feature 4: 1.001\n",
           "Token:  lower\nTop-5 Features:\n  ●●●● Feature 0: 1.284\n  ●● Feature 3: 1.089\n  ● Feature 1: 1.030\n   Feature 2: 0.955\n   Feature 4: 0.931\n",
           "Token:  bit\nTop-5 Features:\n  ●●●● Feature 1: 1.224\n  ●●●● Feature 0: 1.209\n  ●●● Feature 3: 1.137\n  ●● Feature 2: 1.106\n   Feature 4: 0.988\n",
           "Token: width\nTop-5 Features:\n  ●●●● Feature 0: 1.169\n  ●●● Feature 1: 1.068\n  ●● Feature 4: 0.993\n  ●● Feature 3: 0.985\n   Feature 2: 0.856\n",
           "Token: s\nTop-5 Features:\n  ●●●● Feature 0: 1.114\n  ●●●● Feature 1: 1.102\n  ●●● Feature 3: 1.049\n  ● Feature 2: 0.947\n   Feature 4: 0.900\n",
           "Token:  than\nTop-5 Features:\n  ●●●● Feature 0: 1.330\n  ● Feature 1: 1.138\n  ● Feature 3: 1.122\n   Feature 2: 1.056\n   Feature 4: 1.053\n",
           "Token:  floating\nTop-5 Features:\n  ●●●● Feature 1: 1.155\n  ●●● Feature 0: 1.084\n  ●● Feature 4: 1.038\n   Feature 2: 0.971\n   Feature 3: 0.937\n",
           "Token:  point\nTop-5 Features:\n  ●●●● Feature 1: 1.107\n  ●●● Feature 0: 1.024\n  ●● Feature 2: 0.992\n   Feature 3: 0.904\n   Feature 4: 0.884\n",
           "Token:  precision\nTop-5 Features:\n  ●●●● Feature 0: 1.293\n  ●●● Feature 3: 1.175\n  ●●● Feature 1: 1.170\n  ● Feature 2: 1.054\n   Feature 4: 0.952\n",
           "Token: .\nTop-5 Features:\n  ●●●● Feature 1: 0.899\n  ● Feature 4: 0.776\n  ● Feature 2: 0.776\n   Feature 3: 0.758\n   Feature 0: 0.736\n",
           "Token: A\nTop-5 Features:\n  ●●●● Feature 1: 1.120\n  ●● Feature 4: 1.028\n   Feature 0: 0.979\n   Feature 2: 0.972\n   Feature 3: 0.952\n",
           "Token:  quant\nTop-5 Features:\n  ●●●● Feature 0: 1.485\n  ● Feature 4: 1.338\n  ● Feature 3: 1.337\n   Feature 1: 1.301\n   Feature 2: 1.300\n",
           "Token: ized\nTop-5 Features:\n  ●●●● Feature 0: 1.197\n  ●●●● Feature 1: 1.183\n  ●● Feature 4: 1.156\n   Feature 3: 1.109\n   Feature 2: 1.094\n",
           "Token:  model\nTop-5 Features:\n  ●●●● Feature 0: 1.049\n  ●● Feature 1: 0.979\n  ●● Feature 2: 0.959\n  ● Feature 3: 0.936\n   Feature 4: 0.880\n",
           "Token:  executes\nTop-5 Features:\n  ●●●● Feature 1: 1.248\n  ●●● Feature 0: 1.147\n  ●● Feature 2: 1.094\n  ● Feature 3: 1.065\n   Feature 4: 0.971\n",
           "Token:  some\nTop-5 Features:\n  ●●●● Feature 1: 1.024\n  ●●●● Feature 2: 1.016\n   Feature 0: 0.948\n   Feature 4: 0.947\n   Feature 3: 0.931\n",
           "Token:  or\nTop-5 Features:\n  ●●●● Feature 1: 1.020\n  ●●● Feature 4: 0.983\n  ●● Feature 0: 0.927\n  ● Feature 2: 0.917\n   Feature 3: 0.863\n",
           "Token:  all\nTop-5 Features:\n  ●●●● Feature 1: 0.869\n  ●● Feature 0: 0.834\n  ● Feature 4: 0.815\n   Feature 2: 0.807\n   Feature 3: 0.794\n",
           "Token:  of\nTop-5 Features:\n  ●●●● Feature 0: 0.859\n   Feature 4: 0.784\n   Feature 3: 0.774\n   Feature 2: 0.773\n   Feature 1: 0.773\n"
          ],
          [
           "Token:  the\nTop-5 Features:\n  ●●●● Feature 0: 0.843\n  ●●● Feature 2: 0.827\n  ●●● Feature 3: 0.821\n  ● Feature 1: 0.799\n   Feature 4: 0.779\n",
           "Token:  operations\nTop-5 Features:\n  ●●●● Feature 1: 1.266\n  ●● Feature 0: 1.108\n  ● Feature 2: 1.086\n   Feature 4: 1.045\n   Feature 3: 0.992\n",
           "Token:  on\nTop-5 Features:\n  ●●●● Feature 0: 0.840\n  ● Feature 1: 0.726\n   Feature 4: 0.679\n   Feature 3: 0.671\n   Feature 2: 0.650\n",
           "Token:  tensors\nTop-5 Features:\n  ●●●● Feature 4: 1.370\n  ●● Feature 1: 1.262\n  ●● Feature 0: 1.251\n   Feature 2: 1.124\n   Feature 3: 1.115\n",
           "Token:  with\nTop-5 Features:\n  ●●●● Feature 1: 0.735\n  ●●●● Feature 0: 0.723\n  ● Feature 3: 0.655\n   Feature 4: 0.642\n   Feature 2: 0.626\n",
           "Token:  reduced\nTop-5 Features:\n  ●●●● Feature 0: 0.812\n  ●●● Feature 2: 0.782\n  ● Feature 3: 0.706\n   Feature 1: 0.692\n   Feature 4: 0.679\n",
           "Token:  precision\nTop-5 Features:\n  ●●●● Feature 0: 1.107\n  ●●● Feature 3: 0.986\n  ●● Feature 1: 0.885\n  ● Feature 2: 0.856\n   Feature 4: 0.735\n",
           "Token:  rather\nTop-5 Features:\n  ●●●● Feature 0: 0.831\n  ●● Feature 2: 0.752\n  ●● Feature 3: 0.750\n  ●● Feature 1: 0.735\n   Feature 4: 0.651\n",
           "Token:  than\nTop-5 Features:\n  ●●●● Feature 0: 0.980\n   Feature 2: 0.808\n   Feature 3: 0.802\n   Feature 1: 0.783\n   Feature 4: 0.783\n",
           "Token:  full\nTop-5 Features:\n  ●●●● Feature 0: 0.753\n  ●●● Feature 1: 0.719\n  ●● Feature 2: 0.708\n  ● Feature 3: 0.689\n   Feature 4: 0.659\n",
           "Token:  precision\nTop-5 Features:\n  ●●●● Feature 0: 1.094\n  ●●● Feature 3: 0.950\n  ●● Feature 1: 0.868\n  ● Feature 2: 0.851\n   Feature 4: 0.714\n",
           "Token:  (\nTop-5 Features:\n  ●●●● Feature 2: 0.684\n  ●●● Feature 1: 0.645\n  ●●● Feature 3: 0.644\n  ●●● Feature 0: 0.637\n   Feature 4: 0.531\n",
           "Token: flo\nTop-5 Features:\n  ●●●● Feature 0: 1.137\n  ●● Feature 1: 1.038\n  ● Feature 4: 1.013\n  ● Feature 2: 1.005\n   Feature 3: 0.938\n",
           "Token: ating\nTop-5 Features:\n  ●●●● Feature 0: 1.024\n  ●●● Feature 2: 0.983\n  ●●● Feature 1: 0.967\n  ● Feature 3: 0.901\n   Feature 4: 0.864\n",
           "Token:  point\nTop-5 Features:\n  ●●●● Feature 2: 0.801\n  ●●●● Feature 0: 0.767\n  ●●● Feature 1: 0.759\n   Feature 3: 0.656\n   Feature 4: 0.626\n",
           "Token: )\nTop-5 Features:\n  ●●●● Feature 1: 0.809\n  ●●●● Feature 0: 0.789\n  ●●●● Feature 2: 0.778\n  ●● Feature 3: 0.696\n   Feature 4: 0.619\n",
           "Token:  values\nTop-5 Features:\n  ●●●● Feature 2: 1.028\n  ●●● Feature 0: 0.972\n  ●● Feature 3: 0.911\n  ● Feature 1: 0.872\n   Feature 4: 0.770\n",
           "Token: .\nTop-5 Features:\n  ●●●● Feature 1: 0.618\n  ●●●● Feature 2: 0.609\n  ● Feature 3: 0.551\n   Feature 4: 0.530\n   Feature 0: 0.520\n",
           "Token:  This\nTop-5 Features:\n  ●●●● Feature 2: 0.768\n  ●●●● Feature 0: 0.749\n  ●●● Feature 1: 0.713\n  ●●● Feature 3: 0.701\n   Feature 4: 0.599\n",
           "Token:  allows\nTop-5 Features:\n  ●●●● Feature 0: 0.908\n  ●●● Feature 2: 0.808\n  ●● Feature 3: 0.782\n  ● Feature 1: 0.711\n   Feature 4: 0.618\n",
           "Token:  for\nTop-5 Features:\n  ●●●● Feature 0: 0.662\n  ●●●● Feature 1: 0.650\n  ●● Feature 2: 0.565\n  ●● Feature 3: 0.533\n   Feature 4: 0.431\n",
           "Token:  a\nTop-5 Features:\n  ●●●● Feature 1: 0.830\n  ●●●● Feature 3: 0.809\n  ●●● Feature 2: 0.787\n   Feature 0: 0.706\n   Feature 4: 0.688\n",
           "Token:  more\nTop-5 Features:\n  ●●●● Feature 1: 0.770\n  ●●●● Feature 0: 0.740\n  ●● Feature 2: 0.647\n  ●● Feature 3: 0.630\n   Feature 4: 0.513\n",
           "Token:  compact\nTop-5 Features:\n  ●●●● Feature 1: 0.767\n  ● Feature 3: 0.648\n   Feature 0: 0.620\n   Feature 4: 0.614\n   Feature 2: 0.606\n",
           "Token:  model\nTop-5 Features:\n  ●●●● Feature 0: 0.679\n  ●●● Feature 1: 0.615\n  ●●● Feature 2: 0.614\n  ●● Feature 3: 0.577\n   Feature 4: 0.484\n",
           "Token:  representation\nTop-5 Features:\n  ●●●● Feature 2: 0.626\n  ●●●● Feature 0: 0.596\n  ●● Feature 3: 0.528\n  ●● Feature 1: 0.519\n   Feature 4: 0.435\n",
           "Token:  and\nTop-5 Features:\n  ●●●● Feature 1: 0.731\n  ●●●● Feature 3: 0.708\n  ●●●● Feature 2: 0.701\n  ● Feature 0: 0.636\n   Feature 4: 0.574\n",
           "Token:  the\nTop-5 Features:\n  ●●●● Feature 2: 0.700\n  ●●●● Feature 3: 0.696\n  ●●● Feature 0: 0.646\n  ●●● Feature 1: 0.634\n   Feature 4: 0.523\n",
           "Token:  use\nTop-5 Features:\n  ●●●● Feature 1: 0.697\n  ●●●● Feature 2: 0.668\n  ●●●● Feature 0: 0.666\n  ● Feature 3: 0.564\n   Feature 4: 0.503\n",
           "Token:  of\nTop-5 Features:\n  ●●●● Feature 0: 0.620\n  ●●●● Feature 1: 0.593\n  ●●● Feature 3: 0.556\n  ●● Feature 2: 0.539\n   Feature 4: 0.428\n"
          ],
          [
           "Token:  high\nTop-5 Features:\n  ●●●● Feature 0: 0.659\n  ●●●● Feature 3: 0.641\n  ●● Feature 2: 0.592\n   Feature 4: 0.531\n   Feature 1: 0.529\n",
           "Token:  performance\nTop-5 Features:\n  ●●●● Feature 0: 0.772\n  ●●● Feature 1: 0.635\n  ●● Feature 3: 0.606\n  ●● Feature 2: 0.593\n   Feature 4: 0.411\n",
           "Token:  vector\nTop-5 Features:\n  ●●●● Feature 0: 0.755\n  ●●●● Feature 2: 0.710\n  ●●● Feature 3: 0.663\n  ● Feature 4: 0.576\n   Feature 1: 0.513\n",
           "Token: ized\nTop-5 Features:\n  ●●●● Feature 0: 0.795\n  ●●●● Feature 1: 0.783\n  ● Feature 2: 0.712\n   Feature 3: 0.683\n   Feature 4: 0.672\n",
           "Token:  operations\nTop-5 Features:\n  ●●●● Feature 1: 1.053\n  ●● Feature 2: 0.907\n  ● Feature 0: 0.872\n   Feature 3: 0.801\n   Feature 4: 0.792\n",
           "Token:  on\nTop-5 Features:\n  ●●●● Feature 0: 0.701\n  ●● Feature 1: 0.575\n  ● Feature 2: 0.541\n  ● Feature 3: 0.532\n   Feature 4: 0.465\n",
           "Token:  many\nTop-5 Features:\n  ●●●● Feature 3: 0.666\n  ●●● Feature 1: 0.637\n  ●● Feature 0: 0.628\n  ●● Feature 2: 0.627\n   Feature 4: 0.575\n",
           "Token:  hardware\nTop-5 Features:\n  ●●●● Feature 0: 0.887\n  ●● Feature 1: 0.768\n  ● Feature 2: 0.745\n   Feature 4: 0.705\n   Feature 3: 0.678\n",
           "Token:  platforms\nTop-5 Features:\n  ●●●● Feature 0: 0.754\n  ●● Feature 1: 0.635\n  ● Feature 3: 0.591\n  ● Feature 2: 0.579\n   Feature 4: 0.521\n",
           "Token: .\nTop-5 Features:\n  ●●●● Feature 2: 0.485\n  ●●●● Feature 1: 0.476\n  ●● Feature 3: 0.428\n  ● Feature 0: 0.400\n   Feature 4: 0.365\n",
           "Token:  Py\nTop-5 Features:\n  ●●●● Feature 1: 0.915\n  ● Feature 3: 0.815\n   Feature 2: 0.781\n   Feature 0: 0.774\n   Feature 4: 0.751\n",
           "Token: Tor\nTop-5 Features:\n  ●●●● Feature 4: 0.885\n  ●●● Feature 1: 0.864\n  ●●● Feature 0: 0.863\n  ●● Feature 2: 0.835\n   Feature 3: 0.797\n",
           "Token: ch\nTop-5 Features:\n  ●●●● Feature 1: 0.775\n  ●●● Feature 0: 0.725\n  ● Feature 2: 0.692\n   Feature 3: 0.657\n   Feature 4: 0.645\n",
           "Token:  supports\nTop-5 Features:\n  ●●●● Feature 1: 0.633\n  ●●● Feature 2: 0.549\n  ●●● Feature 0: 0.545\n  ●● Feature 3: 0.498\n   Feature 4: 0.363\n",
           "Token:  INT\nTop-5 Features:\n  ●●●● Feature 3: 0.528\n  ●●●● Feature 2: 0.503\n  ●●● Feature 0: 0.486\n  ●● Feature 1: 0.435\n   Feature 4: 0.336\n",
           "Token: 8\nTop-5 Features:\n  ●●●● Feature 0: 0.692\n  ●●●● Feature 2: 0.689\n  ●●●● Feature 3: 0.658\n  ●●● Feature 1: 0.625\n   Feature 4: 0.461\n",
           "Token:  quantization\nTop-5 Features:\n  ●●●● Feature 0: 0.921\n  ●● Feature 3: 0.825\n  ●● Feature 2: 0.802\n  ● Feature 1: 0.791\n   Feature 4: 0.709\n",
           "Token:  compared\nTop-5 Features:\n  ●●●● Feature 1: 0.484\n  ●●●● Feature 2: 0.472\n  ●●●● Feature 0: 0.471\n  ●●● Feature 3: 0.422\n   Feature 4: 0.252\n",
           "Token:  to\nTop-5 Features:\n  ●●●● Feature 0: 0.623\n  ●●● Feature 3: 0.575\n  ●●● Feature 2: 0.557\n  ●●● Feature 1: 0.550\n   Feature 4: 0.428\n",
           "Token:  typical\nTop-5 Features:\n  ●●●● Feature 0: 0.628\n  ●●●● Feature 3: 0.599\n  ●● Feature 2: 0.544\n   Feature 4: 0.474\n   Feature 1: 0.459\n",
           "Token:  FP\nTop-5 Features:\n  ●●●● Feature 3: 1.012\n  ● Feature 2: 0.884\n  ● Feature 0: 0.882\n   Feature 4: 0.866\n   Feature 1: 0.849\n",
           "Token: 32\nTop-5 Features:\n  ●●●● Feature 0: 0.648\n  ●●●● Feature 1: 0.642\n  ●●●● Feature 2: 0.614\n  ●● Feature 3: 0.500\n   Feature 4: 0.362\n",
           "Token:  models\nTop-5 Features:\n  ●●●● Feature 0: 0.581\n  ●●● Feature 1: 0.492\n  ●● Feature 3: 0.483\n  ●● Feature 2: 0.482\n   Feature 4: 0.351\n",
           "Token:  allowing\nTop-5 Features:\n  ●●●● Feature 0: 0.734\n  ●● Feature 3: 0.626\n  ●● Feature 2: 0.617\n  ● Feature 1: 0.581\n   Feature 4: 0.491\n",
           "Token:  for\nTop-5 Features:\n  ●●●● Feature 0: 0.545\n  ●●●● Feature 1: 0.517\n  ●●● Feature 2: 0.450\n  ●● Feature 3: 0.419\n   Feature 4: 0.279\n",
           "Token:  a\nTop-5 Features:\n  ●●●● Feature 3: 0.654\n  ●●●● Feature 1: 0.647\n  ●●●● Feature 2: 0.631\n  ●● Feature 0: 0.564\n   Feature 4: 0.470\n",
           "Token:  4\nTop-5 Features:\n  ●●●● Feature 2: 0.491\n  ●●●● Feature 3: 0.485\n  ●● Feature 1: 0.376\n  ● Feature 0: 0.305\n   Feature 4: 0.208\n",
           "Token: x\nTop-5 Features:\n  ●●●● Feature 1: 0.641\n  ●●●● Feature 2: 0.618\n  ●● Feature 0: 0.557\n  ● Feature 3: 0.519\n   Feature 4: 0.458\n",
           "Token:  reduction\nTop-5 Features:\n  ●●●● Feature 2: 0.590\n  ●● Feature 0: 0.524\n  ● Feature 1: 0.510\n   Feature 3: 0.474\n   Feature 4: 0.457\n",
           "Token:  in\nTop-5 Features:\n  ●●●● Feature 0: 0.582\n  ●●● Feature 3: 0.511\n  ●●● Feature 1: 0.510\n  ●●● Feature 2: 0.502\n   Feature 4: 0.339\n"
          ],
          [
           "Token:  the\nTop-5 Features:\n  ●●●● Feature 3: 0.576\n  ●●●● Feature 2: 0.575\n  ●●●● Feature 0: 0.547\n  ●●● Feature 1: 0.516\n   Feature 4: 0.360\n",
           "Token:  model\nTop-5 Features:\n  ●●●● Feature 0: 0.556\n  ●●● Feature 2: 0.465\n  ●●● Feature 1: 0.462\n  ●● Feature 3: 0.459\n   Feature 4: 0.319\n",
           "Token:  size\nTop-5 Features:\n  ●●●● Feature 0: 0.725\n  ●● Feature 2: 0.661\n  ● Feature 1: 0.612\n   Feature 4: 0.588\n   Feature 3: 0.567\n",
           "Token:  and\nTop-5 Features:\n  ●●●● Feature 3: 0.629\n  ●●●● Feature 1: 0.603\n  ●●●● Feature 2: 0.595\n  ●●● Feature 0: 0.561\n   Feature 4: 0.421\n",
           "Token:  a\nTop-5 Features:\n  ●●●● Feature 3: 0.640\n  ●●●● Feature 1: 0.628\n  ●●●● Feature 2: 0.612\n  ●● Feature 0: 0.558\n   Feature 4: 0.467\n",
           "Token:  4\nTop-5 Features:\n  ●●●● Feature 2: 0.485\n  ●●●● Feature 3: 0.475\n  ●● Feature 1: 0.373\n  ● Feature 0: 0.296\n   Feature 4: 0.209\n",
           "Token: x\nTop-5 Features:\n  ●●●● Feature 1: 0.628\n  ●●●● Feature 2: 0.609\n  ●● Feature 0: 0.553\n  ● Feature 3: 0.509\n   Feature 4: 0.455\n",
           "Token:  reduction\nTop-5 Features:\n  ●●●● Feature 2: 0.568\n  ●● Feature 0: 0.505\n  ● Feature 1: 0.490\n   Feature 3: 0.452\n   Feature 4: 0.447\n",
           "Token:  in\nTop-5 Features:\n  ●●●● Feature 0: 0.570\n  ●●● Feature 1: 0.500\n  ●●● Feature 3: 0.499\n  ●●● Feature 2: 0.485\n   Feature 4: 0.334\n",
           "Token:  memory\nTop-5 Features:\n  ●●●● Feature 0: 0.582\n  ●●● Feature 1: 0.540\n  ● Feature 3: 0.442\n   Feature 2: 0.419\n   Feature 4: 0.379\n",
           "Token:  bandwidth\nTop-5 Features:\n  ●●●● Feature 0: 0.747\n  ●● Feature 4: 0.598\n  ● Feature 1: 0.558\n  ● Feature 2: 0.546\n   Feature 3: 0.477\n",
           "Token:  requirements\nTop-5 Features:\n  ●●●● Feature 0: 0.618\n  ●●● Feature 2: 0.572\n  ●● Feature 3: 0.516\n  ● Feature 1: 0.471\n   Feature 4: 0.427\n",
           "Token: .\nTop-5 Features:\n  ●●●● Feature 2: 0.404\n  ●●●● Feature 1: 0.397\n  ●●● Feature 3: 0.363\n  ● Feature 0: 0.313\n   Feature 4: 0.259\n",
           "Token:  Hard\nTop-5 Features:\n  ●●●● Feature 0: 0.547\n  ●●●● Feature 1: 0.521\n  ●●● Feature 2: 0.504\n  ● Feature 4: 0.463\n   Feature 3: 0.411\n",
           "Token: ware\nTop-5 Features:\n  ●●●● Feature 0: 0.837\n  ●●●● Feature 1: 0.794\n  ● Feature 3: 0.652\n   Feature 2: 0.624\n   Feature 4: 0.584\n",
           "Token:  support\nTop-5 Features:\n  ●●●● Feature 1: 0.488\n  ●●● Feature 0: 0.421\n  ●●● Feature 2: 0.410\n  ●● Feature 3: 0.353\n   Feature 4: 0.229\n",
           "Token:  for\nTop-5 Features:\n  ●●●● Feature 1: 0.470\n  ●●●● Feature 0: 0.443\n  ●● Feature 2: 0.341\n  ●● Feature 3: 0.335\n   Feature 4: 0.178\n",
           "Token:  INT\nTop-5 Features:\n  ●●●● Feature 3: 0.425\n  ●●●● Feature 2: 0.408\n  ●●● Feature 0: 0.383\n  ●● Feature 1: 0.343\n   Feature 4: 0.228\n",
           "Token: 8\nTop-5 Features:\n  ●●●● Feature 2: 0.598\n  ●●●● Feature 0: 0.582\n  ●●●● Feature 3: 0.558\n  ●●● Feature 1: 0.531\n   Feature 4: 0.333\n",
           "Token:  computations\nTop-5 Features:\n  ●●●● Feature 0: 0.889\n  ● Feature 3: 0.761\n  ● Feature 4: 0.737\n   Feature 2: 0.729\n   Feature 1: 0.696\n",
           "Token:  is\nTop-5 Features:\n  ●●●● Feature 2: 0.491\n  ●●●● Feature 3: 0.486\n  ●●●● Feature 1: 0.460\n  ●●●● Feature 0: 0.455\n   Feature 4: 0.227\n",
           "Token:  typically\nTop-5 Features:\n  ●●●● Feature 3: 0.483\n  ●●●● Feature 0: 0.457\n  ●● Feature 1: 0.386\n  ●● Feature 2: 0.350\n   Feature 4: 0.249\n",
           "Token:  2\nTop-5 Features:\n  ●●●● Feature 2: 0.419\n  ●●●● Feature 3: 0.389\n  ●●● Feature 1: 0.356\n  ●● Feature 0: 0.287\n   Feature 4: 0.189\n",
           "Token:  to\nTop-5 Features:\n  ●●●● Feature 0: 0.513\n  ●●●● Feature 1: 0.496\n  ●●●● Feature 3: 0.496\n  ●●● Feature 2: 0.459\n   Feature 4: 0.377\n",
           "Token:  4\nTop-5 Features:\n  ●●●● Feature 3: 0.388\n  ●●●● Feature 2: 0.382\n  ●●● Feature 1: 0.306\n  ● Feature 0: 0.212\n   Feature 4: 0.128\n",
           "Token:  times\nTop-5 Features:\n  ●●●● Feature 1: 0.541\n  ●●●● Feature 0: 0.507\n  ●●● Feature 3: 0.472\n  ● Feature 2: 0.407\n   Feature 4: 0.358\n",
           "Token:  faster\nTop-5 Features:\n  ●●●● Feature 0: 0.557\n  ●●●● Feature 1: 0.526\n  ●● Feature 3: 0.456\n   Feature 2: 0.389\n   Feature 4: 0.357\n",
           "Token:  compared\nTop-5 Features:\n  ●●●● Feature 1: 0.373\n  ●●● Feature 2: 0.320\n  ●●● Feature 0: 0.319\n  ●●● Feature 3: 0.302\n   Feature 4: 0.129\n",
           "Token:  to\nTop-5 Features:\n  ●●●● Feature 0: 0.472\n  ●●●● Feature 3: 0.463\n  ●●●● Feature 1: 0.448\n  ●●● Feature 2: 0.417\n   Feature 4: 0.314\n",
           "Token:  FP\nTop-5 Features:\n  ●●●● Feature 3: 0.872\n   Feature 0: 0.746\n   Feature 1: 0.746\n   Feature 2: 0.745\n   Feature 4: 0.733\n"
          ],
          [
           "Token: 32\nTop-5 Features:\n  ●●●● Feature 1: 0.560\n  ●●●● Feature 0: 0.538\n  ●●● Feature 2: 0.501\n  ●● Feature 3: 0.401\n   Feature 4: 0.265\n",
           "Token:  compute\nTop-5 Features:\n  ●●●● Feature 0: 0.749\n  ●●●● Feature 1: 0.734\n   Feature 2: 0.630\n   Feature 3: 0.618\n   Feature 4: 0.612\n",
           "Token: .\nTop-5 Features:\n  ●●●● Feature 1: 0.373\n  ●●●● Feature 2: 0.361\n  ●●● Feature 3: 0.327\n  ● Feature 0: 0.258\n   Feature 4: 0.213\n",
           "Token:  Quant\nTop-5 Features:\n  ●●●● Feature 0: 0.584\n  ●● Feature 1: 0.521\n  ● Feature 3: 0.478\n   Feature 4: 0.463\n   Feature 2: 0.449\n",
           "Token: ization\nTop-5 Features:\n  ●●●● Feature 0: 0.911\n  ●●●● Feature 2: 0.874\n  ●●● Feature 1: 0.859\n  ●● Feature 3: 0.788\n   Feature 4: 0.669\n",
           "Token:  is\nTop-5 Features:\n  ●●●● Feature 2: 0.491\n  ●●●● Feature 1: 0.471\n  ●●●● Feature 3: 0.461\n  ●●●● Feature 0: 0.446\n   Feature 4: 0.222\n",
           "Token:  primarily\nTop-5 Features:\n  ●●●● Feature 1: 0.520\n  ●●●● Feature 3: 0.506\n  ●●● Feature 0: 0.459\n  ●●● Feature 2: 0.440\n   Feature 4: 0.240\n",
           "Token:  a\nTop-5 Features:\n  ●●●● Feature 1: 0.562\n  ●●●● Feature 3: 0.544\n  ●●●● Feature 2: 0.525\n  ●● Feature 0: 0.467\n   Feature 4: 0.339\n",
           "Token:  technique\nTop-5 Features:\n  ●●●● Feature 0: 0.557\n  ●●● Feature 1: 0.508\n  ●●● Feature 3: 0.491\n  ●● Feature 2: 0.456\n   Feature 4: 0.369\n",
           "Token:  to\nTop-5 Features:\n  ●●●● Feature 0: 0.504\n  ●●●● Feature 1: 0.485\n  ●●● Feature 2: 0.460\n  ●●● Feature 3: 0.460\n   Feature 4: 0.329\n",
           "Token:  speed\nTop-5 Features:\n  ●●●● Feature 0: 0.467\n  ●●● Feature 1: 0.408\n  ●● Feature 2: 0.352\n  ● Feature 3: 0.331\n   Feature 4: 0.274\n",
           "Token:  up\nTop-5 Features:\n  ●●●● Feature 1: 0.365\n  ●●●● Feature 0: 0.340\n  ●●● Feature 2: 0.310\n  ●●● Feature 3: 0.306\n   Feature 4: 0.168\n",
           "Token:  inference\nTop-5 Features:\n  ●●●● Feature 0: 0.587\n  ●● Feature 1: 0.414\n  ●● Feature 2: 0.404\n  ● Feature 3: 0.364\n   Feature 4: 0.267\n",
           "Token:  and\nTop-5 Features:\n  ●●●● Feature 3: 0.543\n  ●●●● Feature 1: 0.535\n  ●●● Feature 2: 0.481\n  ●● Feature 0: 0.431\n   Feature 4: 0.305\n",
           "Token:  only\nTop-5 Features:\n  ●●●● Feature 1: 0.455\n  ●●● Feature 2: 0.398\n  ●● Feature 0: 0.349\n  ●● Feature 3: 0.348\n   Feature 4: 0.199\n",
           "Token:  the\nTop-5 Features:\n  ●●●● Feature 2: 0.494\n  ●●●● Feature 3: 0.486\n  ●●● Feature 1: 0.440\n  ●●● Feature 0: 0.437\n   Feature 4: 0.264\n",
           "Token:  forward\nTop-5 Features:\n  ●●●● Feature 1: 0.446\n  ●●●● Feature 2: 0.406\n  ●●●● Feature 0: 0.393\n  ●● Feature 3: 0.310\n   Feature 4: 0.174\n",
           "Token:  pass\nTop-5 Features:\n  ●●●● Feature 1: 0.570\n  ●●●● Feature 0: 0.526\n  ●●● Feature 2: 0.502\n  ●● Feature 3: 0.408\n   Feature 4: 0.273\n",
           "Token:  is\nTop-5 Features:\n  ●●●● Feature 2: 0.421\n  ●●●● Feature 1: 0.406\n  ●●●● Feature 3: 0.405\n  ●●● Feature 0: 0.363\n   Feature 4: 0.145\n",
           "Token:  supported\nTop-5 Features:\n  ●●●● Feature 1: 0.285\n  ●●● Feature 0: 0.231\n  ●●● Feature 2: 0.205\n  ●●● Feature 3: 0.189\n   Feature 4: 0.028\n",
           "Token:  for\nTop-5 Features:\n  ●●●● Feature 1: 0.405\n  ●●●● Feature 0: 0.357\n  ●●● Feature 2: 0.288\n  ●● Feature 3: 0.274\n   Feature 4: 0.092\n",
           "Token:  quant\nTop-5 Features:\n  ●●●● Feature 0: 0.820\n  ● Feature 3: 0.713\n  ● Feature 2: 0.706\n   Feature 1: 0.660\n   Feature 4: 0.646\n",
           "Token: ized\nTop-5 Features:\n  ●●●● Feature 1: 0.642\n  ●●●● Feature 0: 0.629\n  ●● Feature 2: 0.578\n  ●● Feature 3: 0.570\n   Feature 4: 0.501\n",
           "Token:  operators\nTop-5 Features:\n  ●●●● Feature 1: 0.640\n  ●●●● Feature 2: 0.624\n  ●● Feature 0: 0.538\n  ● Feature 3: 0.524\n   Feature 4: 0.457\n",
           "Token: .\nTop-5 Features:\n  ●●●● Feature 2: 0.362\n  ●●●● Feature 1: 0.358\n  ●●● Feature 3: 0.316\n  ● Feature 0: 0.257\n   Feature 4: 0.189\n",
           "",
           "",
           "",
           "",
           ""
          ]
         ],
         "reversescale": true,
         "showscale": true,
         "text": [
          [
           "Quant",
           "ization",
           " refers",
           " to",
           " techniques",
           " for",
           " performing",
           " computations",
           " and",
           " storing",
           " tensors",
           " at",
           " lower",
           " bit",
           "width",
           "s",
           " than",
           " floating",
           " point",
           " precision",
           ".",
           "A",
           " quant",
           "ized",
           " model",
           " executes",
           " some",
           " or",
           " all",
           " of"
          ],
          [
           " the",
           " operations",
           " on",
           " tensors",
           " with",
           " reduced",
           " precision",
           " rather",
           " than",
           " full",
           " precision",
           " (",
           "flo",
           "ating",
           " point",
           ")",
           " values",
           ".",
           " This",
           " allows",
           " for",
           " a",
           " more",
           " compact",
           " model",
           " representation",
           " and",
           " the",
           " use",
           " of"
          ],
          [
           " high",
           " performance",
           " vector",
           "ized",
           " operations",
           " on",
           " many",
           " hardware",
           " platforms",
           ".",
           " Py",
           "Tor",
           "ch",
           " supports",
           " INT",
           "8",
           " quantization",
           " compared",
           " to",
           " typical",
           " FP",
           "32",
           " models",
           " allowing",
           " for",
           " a",
           " 4",
           "x",
           " reduction",
           " in"
          ],
          [
           " the",
           " model",
           " size",
           " and",
           " a",
           " 4",
           "x",
           " reduction",
           " in",
           " memory",
           " bandwidth",
           " requirements",
           ".",
           " Hard",
           "ware",
           " support",
           " for",
           " INT",
           "8",
           " computations",
           " is",
           " typically",
           " 2",
           " to",
           " 4",
           " times",
           " faster",
           " compared",
           " to",
           " FP"
          ],
          [
           "32",
           " compute",
           ".",
           " Quant",
           "ization",
           " is",
           " primarily",
           " a",
           " technique",
           " to",
           " speed",
           " up",
           " inference",
           " and",
           " only",
           " the",
           " forward",
           " pass",
           " is",
           " supported",
           " for",
           " quant",
           "ized",
           " operators",
           ".",
           "",
           "",
           "",
           "",
           ""
          ]
         ],
         "textfont": {
          "family": "Times New Roman",
          "size": 10
         },
         "texttemplate": "%{text}",
         "type": "heatmap",
         "xgap": 2,
         "ygap": 2,
         "z": {
          "bdata": "AAAAIG77xD8AAADAF3HlPwAAACDjm+U/AAAAgFF27j8AAACAjfvqPwAAAOCS/+8/AAAAgNtU7T8AAAAg2ZLuPwAAAKDm4es/AAAAoDSB6D8AAACgtE/oPwAAAEA3vOs/AAAA4F5k7z8AAABA+FXoPwAAAIBwLus/AAAAIIGz6D8AAADAvKvqPwAAAEAVs+g/AAAAwKBg7D8AAAAAHy3rPwAAAKBnbu0/AAAAIGJj6T8AAAAAhSXaPwAAAKDb2OQ/AAAAYFI/6j8AAAAAq2nuPwAAAMCf1uY/AAAAwCtq7T8AAADgz+HqPwAAAOCj6eg/AAAAoBOo5j8AAABAuU7lPwAAAIDGoeo/AAAAAABM6D8AAACgewToPwAAAGD+ROo/AAAAYDdW6z8AAAAgi5rmPwAAACBBfOo/AAAAQLzz5j8AAAAAX17rPwAAAGAFqOk/AAAAYB2z5z8AAADArrzlPwAAAMAHV+o/AAAA4CqK6z8AAADgOVTqPwAAAEDpAeg/AAAAAIfK5z8AAABAe2vrPwAAAEDeaec/AAAAwElH6D8AAABgLLHtPwAAACDvOuw/AAAAIG6d5z8AAADg92ToPwAAAMCKyuQ/AAAAIAr/5D8AAACAexLqPwAAAGCHOuQ/AAAAgCoZ4T8AAADABzTuPwAAACBo0eY/AAAAgGBC5z8AAADAc/7iPwAAAKC+Mug/AAAAYMO24z8AAACgBcjqPwAAAMAi5+o/AAAAQPrG5D8AAADANXHpPwAAAKBYXuQ/AAAAAG8v6z8AAABg/c7mPwAAAECaPtE/AAAAYKVR5T8AAAAApgHiPwAAAECxeOE/AAAAgMXJ5z8AAABANuvlPwAAAIA5JuY/AAAAYL124T8AAAAAJf3mPwAAAAASHek/AAAAQCB25D8AAAAg093lPwAAAIA4zeI/AAAAoCNK4T8AAAAAnNzlPwAAAMB0FOk/AAAAYBjb4z8AAABAiubpPwAAAMCqN+c/AAAAYJeb5T8AAACg/GXmPwAAAIAGDOI/AAAAgCFM4T8AAADgOKzkPwAAAIAX1+g/AAAAYHxU4z8AAABA7WPnPwAAAICDWug/AAAA4NX+3z8AAADgSZDUPwAAAIDym+c/AAAAANOB4z8AAADA2ezjPwAAAAB68NE/AAAAIGki5D8AAADg3ZfpPwAAAIDVSeU/AAAAAImw4j8AAABAjnniPwAAAEDB3OE/AAAAIADW2z8AAABAooHoPwAAAKAUpuc/AAAAQA7e4z8AAAAAbTLkPwAAACBTi+U/AAAAAOlC3T8AAAAg3FnqPwAAAABYt9w/AAAAAAAAAAAAAADAlJrjPwAAAEDSFOY/AAAAoPdg2D8AAAAgwqfnPwAAAGC44+M/AAAAANQz5D8AAADA6NTkPwAAAACLquI/AAAAwLjl4j8AAADgga/lPwAAAAAaAOA/AAAAQG104z8AAABgwMHkPwAAAMBDw+Q/AAAA4JSt4z8AAABgxKbgPwAAAAD9u+E/AAAAIOSazz8AAAAA2APhPwAAAECcxuQ/AAAAwBpY3j8AAAAAAAAAAAAAAAAAAAAAAAAAAAAAAAAAAAAAAAAAAAAAAAAAAAAA",
          "dtype": "f8",
          "shape": "5, 30"
         }
        }
       ],
       "layout": {
        "height": 350,
        "margin": {
         "b": 20,
         "l": 20,
         "r": 20,
         "t": 40
        },
        "paper_bgcolor": "white",
        "plot_bgcolor": "white",
        "template": {
         "data": {
          "bar": [
           {
            "error_x": {
             "color": "#2a3f5f"
            },
            "error_y": {
             "color": "#2a3f5f"
            },
            "marker": {
             "line": {
              "color": "#E5ECF6",
              "width": 0.5
             },
             "pattern": {
              "fillmode": "overlay",
              "size": 10,
              "solidity": 0.2
             }
            },
            "type": "bar"
           }
          ],
          "barpolar": [
           {
            "marker": {
             "line": {
              "color": "#E5ECF6",
              "width": 0.5
             },
             "pattern": {
              "fillmode": "overlay",
              "size": 10,
              "solidity": 0.2
             }
            },
            "type": "barpolar"
           }
          ],
          "carpet": [
           {
            "aaxis": {
             "endlinecolor": "#2a3f5f",
             "gridcolor": "white",
             "linecolor": "white",
             "minorgridcolor": "white",
             "startlinecolor": "#2a3f5f"
            },
            "baxis": {
             "endlinecolor": "#2a3f5f",
             "gridcolor": "white",
             "linecolor": "white",
             "minorgridcolor": "white",
             "startlinecolor": "#2a3f5f"
            },
            "type": "carpet"
           }
          ],
          "choropleth": [
           {
            "colorbar": {
             "outlinewidth": 0,
             "ticks": ""
            },
            "type": "choropleth"
           }
          ],
          "contour": [
           {
            "colorbar": {
             "outlinewidth": 0,
             "ticks": ""
            },
            "colorscale": [
             [
              0,
              "#0d0887"
             ],
             [
              0.1111111111111111,
              "#46039f"
             ],
             [
              0.2222222222222222,
              "#7201a8"
             ],
             [
              0.3333333333333333,
              "#9c179e"
             ],
             [
              0.4444444444444444,
              "#bd3786"
             ],
             [
              0.5555555555555556,
              "#d8576b"
             ],
             [
              0.6666666666666666,
              "#ed7953"
             ],
             [
              0.7777777777777778,
              "#fb9f3a"
             ],
             [
              0.8888888888888888,
              "#fdca26"
             ],
             [
              1,
              "#f0f921"
             ]
            ],
            "type": "contour"
           }
          ],
          "contourcarpet": [
           {
            "colorbar": {
             "outlinewidth": 0,
             "ticks": ""
            },
            "type": "contourcarpet"
           }
          ],
          "heatmap": [
           {
            "colorbar": {
             "outlinewidth": 0,
             "ticks": ""
            },
            "colorscale": [
             [
              0,
              "#0d0887"
             ],
             [
              0.1111111111111111,
              "#46039f"
             ],
             [
              0.2222222222222222,
              "#7201a8"
             ],
             [
              0.3333333333333333,
              "#9c179e"
             ],
             [
              0.4444444444444444,
              "#bd3786"
             ],
             [
              0.5555555555555556,
              "#d8576b"
             ],
             [
              0.6666666666666666,
              "#ed7953"
             ],
             [
              0.7777777777777778,
              "#fb9f3a"
             ],
             [
              0.8888888888888888,
              "#fdca26"
             ],
             [
              1,
              "#f0f921"
             ]
            ],
            "type": "heatmap"
           }
          ],
          "histogram": [
           {
            "marker": {
             "pattern": {
              "fillmode": "overlay",
              "size": 10,
              "solidity": 0.2
             }
            },
            "type": "histogram"
           }
          ],
          "histogram2d": [
           {
            "colorbar": {
             "outlinewidth": 0,
             "ticks": ""
            },
            "colorscale": [
             [
              0,
              "#0d0887"
             ],
             [
              0.1111111111111111,
              "#46039f"
             ],
             [
              0.2222222222222222,
              "#7201a8"
             ],
             [
              0.3333333333333333,
              "#9c179e"
             ],
             [
              0.4444444444444444,
              "#bd3786"
             ],
             [
              0.5555555555555556,
              "#d8576b"
             ],
             [
              0.6666666666666666,
              "#ed7953"
             ],
             [
              0.7777777777777778,
              "#fb9f3a"
             ],
             [
              0.8888888888888888,
              "#fdca26"
             ],
             [
              1,
              "#f0f921"
             ]
            ],
            "type": "histogram2d"
           }
          ],
          "histogram2dcontour": [
           {
            "colorbar": {
             "outlinewidth": 0,
             "ticks": ""
            },
            "colorscale": [
             [
              0,
              "#0d0887"
             ],
             [
              0.1111111111111111,
              "#46039f"
             ],
             [
              0.2222222222222222,
              "#7201a8"
             ],
             [
              0.3333333333333333,
              "#9c179e"
             ],
             [
              0.4444444444444444,
              "#bd3786"
             ],
             [
              0.5555555555555556,
              "#d8576b"
             ],
             [
              0.6666666666666666,
              "#ed7953"
             ],
             [
              0.7777777777777778,
              "#fb9f3a"
             ],
             [
              0.8888888888888888,
              "#fdca26"
             ],
             [
              1,
              "#f0f921"
             ]
            ],
            "type": "histogram2dcontour"
           }
          ],
          "mesh3d": [
           {
            "colorbar": {
             "outlinewidth": 0,
             "ticks": ""
            },
            "type": "mesh3d"
           }
          ],
          "parcoords": [
           {
            "line": {
             "colorbar": {
              "outlinewidth": 0,
              "ticks": ""
             }
            },
            "type": "parcoords"
           }
          ],
          "pie": [
           {
            "automargin": true,
            "type": "pie"
           }
          ],
          "scatter": [
           {
            "fillpattern": {
             "fillmode": "overlay",
             "size": 10,
             "solidity": 0.2
            },
            "type": "scatter"
           }
          ],
          "scatter3d": [
           {
            "line": {
             "colorbar": {
              "outlinewidth": 0,
              "ticks": ""
             }
            },
            "marker": {
             "colorbar": {
              "outlinewidth": 0,
              "ticks": ""
             }
            },
            "type": "scatter3d"
           }
          ],
          "scattercarpet": [
           {
            "marker": {
             "colorbar": {
              "outlinewidth": 0,
              "ticks": ""
             }
            },
            "type": "scattercarpet"
           }
          ],
          "scattergeo": [
           {
            "marker": {
             "colorbar": {
              "outlinewidth": 0,
              "ticks": ""
             }
            },
            "type": "scattergeo"
           }
          ],
          "scattergl": [
           {
            "marker": {
             "colorbar": {
              "outlinewidth": 0,
              "ticks": ""
             }
            },
            "type": "scattergl"
           }
          ],
          "scattermap": [
           {
            "marker": {
             "colorbar": {
              "outlinewidth": 0,
              "ticks": ""
             }
            },
            "type": "scattermap"
           }
          ],
          "scattermapbox": [
           {
            "marker": {
             "colorbar": {
              "outlinewidth": 0,
              "ticks": ""
             }
            },
            "type": "scattermapbox"
           }
          ],
          "scatterpolar": [
           {
            "marker": {
             "colorbar": {
              "outlinewidth": 0,
              "ticks": ""
             }
            },
            "type": "scatterpolar"
           }
          ],
          "scatterpolargl": [
           {
            "marker": {
             "colorbar": {
              "outlinewidth": 0,
              "ticks": ""
             }
            },
            "type": "scatterpolargl"
           }
          ],
          "scatterternary": [
           {
            "marker": {
             "colorbar": {
              "outlinewidth": 0,
              "ticks": ""
             }
            },
            "type": "scatterternary"
           }
          ],
          "surface": [
           {
            "colorbar": {
             "outlinewidth": 0,
             "ticks": ""
            },
            "colorscale": [
             [
              0,
              "#0d0887"
             ],
             [
              0.1111111111111111,
              "#46039f"
             ],
             [
              0.2222222222222222,
              "#7201a8"
             ],
             [
              0.3333333333333333,
              "#9c179e"
             ],
             [
              0.4444444444444444,
              "#bd3786"
             ],
             [
              0.5555555555555556,
              "#d8576b"
             ],
             [
              0.6666666666666666,
              "#ed7953"
             ],
             [
              0.7777777777777778,
              "#fb9f3a"
             ],
             [
              0.8888888888888888,
              "#fdca26"
             ],
             [
              1,
              "#f0f921"
             ]
            ],
            "type": "surface"
           }
          ],
          "table": [
           {
            "cells": {
             "fill": {
              "color": "#EBF0F8"
             },
             "line": {
              "color": "white"
             }
            },
            "header": {
             "fill": {
              "color": "#C8D4E3"
             },
             "line": {
              "color": "white"
             }
            },
            "type": "table"
           }
          ]
         },
         "layout": {
          "annotationdefaults": {
           "arrowcolor": "#2a3f5f",
           "arrowhead": 0,
           "arrowwidth": 1
          },
          "autotypenumbers": "strict",
          "coloraxis": {
           "colorbar": {
            "outlinewidth": 0,
            "ticks": ""
           }
          },
          "colorscale": {
           "diverging": [
            [
             0,
             "#8e0152"
            ],
            [
             0.1,
             "#c51b7d"
            ],
            [
             0.2,
             "#de77ae"
            ],
            [
             0.3,
             "#f1b6da"
            ],
            [
             0.4,
             "#fde0ef"
            ],
            [
             0.5,
             "#f7f7f7"
            ],
            [
             0.6,
             "#e6f5d0"
            ],
            [
             0.7,
             "#b8e186"
            ],
            [
             0.8,
             "#7fbc41"
            ],
            [
             0.9,
             "#4d9221"
            ],
            [
             1,
             "#276419"
            ]
           ],
           "sequential": [
            [
             0,
             "#0d0887"
            ],
            [
             0.1111111111111111,
             "#46039f"
            ],
            [
             0.2222222222222222,
             "#7201a8"
            ],
            [
             0.3333333333333333,
             "#9c179e"
            ],
            [
             0.4444444444444444,
             "#bd3786"
            ],
            [
             0.5555555555555556,
             "#d8576b"
            ],
            [
             0.6666666666666666,
             "#ed7953"
            ],
            [
             0.7777777777777778,
             "#fb9f3a"
            ],
            [
             0.8888888888888888,
             "#fdca26"
            ],
            [
             1,
             "#f0f921"
            ]
           ],
           "sequentialminus": [
            [
             0,
             "#0d0887"
            ],
            [
             0.1111111111111111,
             "#46039f"
            ],
            [
             0.2222222222222222,
             "#7201a8"
            ],
            [
             0.3333333333333333,
             "#9c179e"
            ],
            [
             0.4444444444444444,
             "#bd3786"
            ],
            [
             0.5555555555555556,
             "#d8576b"
            ],
            [
             0.6666666666666666,
             "#ed7953"
            ],
            [
             0.7777777777777778,
             "#fb9f3a"
            ],
            [
             0.8888888888888888,
             "#fdca26"
            ],
            [
             1,
             "#f0f921"
            ]
           ]
          },
          "colorway": [
           "#636efa",
           "#EF553B",
           "#00cc96",
           "#ab63fa",
           "#FFA15A",
           "#19d3f3",
           "#FF6692",
           "#B6E880",
           "#FF97FF",
           "#FECB52"
          ],
          "font": {
           "color": "#2a3f5f"
          },
          "geo": {
           "bgcolor": "white",
           "lakecolor": "white",
           "landcolor": "#E5ECF6",
           "showlakes": true,
           "showland": true,
           "subunitcolor": "white"
          },
          "hoverlabel": {
           "align": "left"
          },
          "hovermode": "closest",
          "mapbox": {
           "style": "light"
          },
          "paper_bgcolor": "white",
          "plot_bgcolor": "#E5ECF6",
          "polar": {
           "angularaxis": {
            "gridcolor": "white",
            "linecolor": "white",
            "ticks": ""
           },
           "bgcolor": "#E5ECF6",
           "radialaxis": {
            "gridcolor": "white",
            "linecolor": "white",
            "ticks": ""
           }
          },
          "scene": {
           "xaxis": {
            "backgroundcolor": "#E5ECF6",
            "gridcolor": "white",
            "gridwidth": 2,
            "linecolor": "white",
            "showbackground": true,
            "ticks": "",
            "zerolinecolor": "white"
           },
           "yaxis": {
            "backgroundcolor": "#E5ECF6",
            "gridcolor": "white",
            "gridwidth": 2,
            "linecolor": "white",
            "showbackground": true,
            "ticks": "",
            "zerolinecolor": "white"
           },
           "zaxis": {
            "backgroundcolor": "#E5ECF6",
            "gridcolor": "white",
            "gridwidth": 2,
            "linecolor": "white",
            "showbackground": true,
            "ticks": "",
            "zerolinecolor": "white"
           }
          },
          "shapedefaults": {
           "line": {
            "color": "#2a3f5f"
           }
          },
          "ternary": {
           "aaxis": {
            "gridcolor": "white",
            "linecolor": "white",
            "ticks": ""
           },
           "baxis": {
            "gridcolor": "white",
            "linecolor": "white",
            "ticks": ""
           },
           "bgcolor": "#E5ECF6",
           "caxis": {
            "gridcolor": "white",
            "linecolor": "white",
            "ticks": ""
           }
          },
          "title": {
           "x": 0.05
          },
          "xaxis": {
           "automargin": true,
           "gridcolor": "white",
           "linecolor": "white",
           "ticks": "",
           "title": {
            "standoff": 15
           },
           "zerolinecolor": "white",
           "zerolinewidth": 2
          },
          "yaxis": {
           "automargin": true,
           "gridcolor": "white",
           "linecolor": "white",
           "ticks": "",
           "title": {
            "standoff": 15
           },
           "zerolinecolor": "white",
           "zerolinewidth": 2
          }
         }
        },
        "title": {
         "font": {
          "family": "Times New Roman",
          "size": 12
         },
         "text": "Top-k 5 Token Activation"
        },
        "width": 1500,
        "xaxis": {
         "showticklabels": false
        },
        "yaxis": {
         "autorange": "reversed",
         "showticklabels": false
        }
       }
      }
     },
     "metadata": {},
     "output_type": "display_data"
    }
   ],
   "source": [
    "dictionary_learning.plot_sae_heatmap(\n",
    "    model=olmo1b_bitnet_fp32,\n",
    "    tokenizer=olmo1b_tokenizer,\n",
    "    inputs=Texts.T1.value,\n",
    "    do_log=False,\n",
    "    top_k=5,\n",
    "    tokens_per_row=30,\n",
    "    target_layers=[5],\n",
    "    log_path=None,\n",
    "    log_name=None,\n",
    "    fig_path=None\n",
    ")"
   ]
  },
  {
   "cell_type": "code",
   "execution_count": 10,
   "metadata": {},
   "outputs": [
    {
     "name": "stdout",
     "output_type": "stream",
     "text": [
      "\n",
      "Running SAE on layer 5\n"
     ]
    },
    {
     "data": {
      "application/vnd.plotly.v1+json": {
       "config": {
        "plotlyServerURL": "https://plot.ly"
       },
       "data": [
        {
         "colorscale": [
          [
           0,
           "rgb(8,48,107)"
          ],
          [
           0.125,
           "rgb(8,81,156)"
          ],
          [
           0.25,
           "rgb(33,113,181)"
          ],
          [
           0.375,
           "rgb(66,146,198)"
          ],
          [
           0.5,
           "rgb(107,174,214)"
          ],
          [
           0.625,
           "rgb(158,202,225)"
          ],
          [
           0.75,
           "rgb(198,219,239)"
          ],
          [
           0.875,
           "rgb(222,235,247)"
          ],
          [
           1,
           "rgb(247,251,255)"
          ]
         ],
         "hoverinfo": "text",
         "hovertext": [
          [
           "Token: Quant\nTop-5 Features:\n  ●●●● Feature 3: 1.033\n   Feature 2: 0.262\n   Feature 1: 0.214\n   Feature 0: 0.175\n   Feature 4: 0.113\n",
           "Token: ization\nTop-5 Features:\n  ●●●● Feature 3: 0.991\n  ● Feature 0: 0.271\n   Feature 1: 0.118\n   Feature 4: 0.079\n   Feature 2: 0.009\n",
           "Token:  refers\nTop-5 Features:\n  ●●●● Feature 0: 0.695\n  ●● Feature 3: 0.465\n  ● Feature 2: 0.294\n   Feature 1: 0.241\n   Feature 4: 0.193\n",
           "Token:  to\nTop-5 Features:\n  ●●●● Feature 0: 0.499\n  ●●● Feature 1: 0.393\n   Feature 4: 0.263\n   Feature 2: 0.255\n   Feature 3: 0.227\n",
           "Token:  techniques\nTop-5 Features:\n  ●●●● Feature 0: 0.460\n  ●● Feature 3: 0.317\n  ● Feature 1: 0.238\n  ● Feature 2: 0.214\n   Feature 4: 0.132\n",
           "Token:  for\nTop-5 Features:\n  ●●●● Feature 0: 0.538\n  ●●● Feature 1: 0.384\n  ●● Feature 2: 0.283\n  ●● Feature 4: 0.268\n   Feature 3: 0.053\n",
           "Token:  performing\nTop-5 Features:\n  ●●●● Feature 0: 0.510\n  ●●● Feature 2: 0.397\n  ●●● Feature 1: 0.341\n   Feature 4: 0.053\n   Feature 3: 0.012\n",
           "Token:  computations\nTop-5 Features:\n  ●●●● Feature 0: 0.654\n  ●●● Feature 2: 0.424\n  ●● Feature 1: 0.282\n  ● Feature 4: 0.246\n   Feature 3: 0.015\n",
           "Token:  and\nTop-5 Features:\n  ●●●● Feature 0: 0.622\n  ●● Feature 1: 0.423\n  ●● Feature 2: 0.359\n  ● Feature 4: 0.252\n   Feature 3: 0.147\n",
           "Token:  storing\nTop-5 Features:\n  ●●●● Feature 0: 0.613\n  ●● Feature 1: 0.412\n  ●● Feature 2: 0.386\n   Feature 3: 0.196\n   Feature 4: 0.151\n",
           "Token:  tensors\nTop-5 Features:\n  ●●●● Feature 0: 0.784\n  ●●● Feature 1: 0.630\n  ● Feature 4: 0.426\n  ● Feature 2: 0.424\n   Feature 3: 0.227\n",
           "Token:  at\nTop-5 Features:\n  ●●●● Feature 0: 0.595\n  ●●● Feature 1: 0.490\n  ● Feature 4: 0.338\n  ● Feature 2: 0.302\n   Feature 3: 0.216\n",
           "Token:  lower\nTop-5 Features:\n  ●●●● Feature 0: 0.593\n  ●●●● Feature 1: 0.541\n  ● Feature 4: 0.393\n   Feature 2: 0.290\n   Feature 3: 0.261\n",
           "Token:  bit\nTop-5 Features:\n  ●●●● Feature 0: 0.561\n  ●●● Feature 1: 0.409\n  ●● Feature 2: 0.368\n  ●● Feature 4: 0.344\n   Feature 3: 0.173\n",
           "Token: width\nTop-5 Features:\n  ●●●● Feature 0: 0.598\n  ●● Feature 1: 0.378\n  ● Feature 2: 0.333\n   Feature 4: 0.262\n   Feature 3: 0.222\n",
           "Token: s\nTop-5 Features:\n  ●●●● Feature 0: 0.690\n  ● Feature 1: 0.374\n  ● Feature 2: 0.371\n   Feature 4: 0.352\n   Feature 3: 0.279\n",
           "Token:  than\nTop-5 Features:\n  ●●●● Feature 0: 0.666\n  ●● Feature 1: 0.459\n  ●● Feature 2: 0.450\n   Feature 4: 0.250\n   Feature 3: 0.248\n",
           "Token:  floating\nTop-5 Features:\n  ●●●● Feature 0: 0.790\n  ●●● Feature 1: 0.624\n  ●● Feature 4: 0.508\n  ●● Feature 2: 0.506\n   Feature 3: 0.218\n",
           "Token:  point\nTop-5 Features:\n  ●●●● Feature 0: 0.728\n  ●●● Feature 1: 0.589\n  ● Feature 4: 0.444\n  ● Feature 2: 0.405\n   Feature 3: 0.275\n",
           "Token:  precision\nTop-5 Features:\n  ●●●● Feature 0: 0.656\n  ●●● Feature 1: 0.504\n  ● Feature 2: 0.396\n  ● Feature 4: 0.360\n   Feature 3: 0.274\n",
           "Token: .\nTop-5 Features:\n  ●●●● Feature 0: 0.697\n  ●● Feature 1: 0.492\n  ● Feature 2: 0.390\n   Feature 4: 0.361\n   Feature 3: 0.297\n",
           "Token: A\nTop-5 Features:\n  ●●●● Feature 0: 0.681\n  ● Feature 1: 0.414\n  ● Feature 4: 0.412\n   Feature 2: 0.321\n   Feature 3: 0.297\n",
           "Token:  quant\nTop-5 Features:\n  ●●●● Feature 1: 0.783\n  ●●● Feature 0: 0.658\n  ●● Feature 4: 0.538\n   Feature 2: 0.279\n   Feature 3: 0.250\n",
           "Token: ized\nTop-5 Features:\n  ●●●● Feature 0: 0.565\n  ●● Feature 4: 0.362\n  ● Feature 1: 0.340\n   Feature 3: 0.275\n   Feature 2: 0.205\n",
           "Token:  model\nTop-5 Features:\n  ●●●● Feature 0: 0.724\n  ●● Feature 1: 0.497\n  ● Feature 2: 0.336\n  ● Feature 4: 0.301\n   Feature 3: 0.177\n",
           "Token:  executes\nTop-5 Features:\n  ●●●● Feature 0: 0.642\n  ●●●● Feature 1: 0.583\n  ●●● Feature 4: 0.500\n  ●● Feature 2: 0.441\n   Feature 3: 0.269\n",
           "Token:  some\nTop-5 Features:\n  ●●●● Feature 0: 0.623\n  ●●● Feature 1: 0.514\n  ● Feature 4: 0.403\n   Feature 2: 0.312\n   Feature 3: 0.287\n",
           "Token:  or\nTop-5 Features:\n  ●●●● Feature 0: 0.576\n  ●●● Feature 1: 0.481\n  ●● Feature 4: 0.407\n  ●● Feature 2: 0.380\n   Feature 3: 0.168\n",
           "Token:  all\nTop-5 Features:\n  ●●●● Feature 0: 0.576\n  ●●● Feature 1: 0.507\n   Feature 4: 0.344\n   Feature 3: 0.298\n   Feature 2: 0.287\n",
           "Token:  of\nTop-5 Features:\n  ●●●● Feature 0: 0.599\n  ●●● Feature 1: 0.483\n  ●● Feature 4: 0.414\n  ● Feature 2: 0.360\n   Feature 3: 0.275\n"
          ],
          [
           "Token:  the\nTop-5 Features:\n  ●●●● Feature 0: 0.680\n  ●● Feature 1: 0.516\n   Feature 4: 0.407\n   Feature 3: 0.388\n   Feature 2: 0.370\n",
           "Token:  operations\nTop-5 Features:\n  ●●●● Feature 0: 0.600\n  ●●● Feature 1: 0.532\n  ●● Feature 2: 0.473\n  ●● Feature 4: 0.466\n   Feature 3: 0.293\n",
           "Token:  on\nTop-5 Features:\n  ●●●● Feature 0: 0.651\n  ●●● Feature 1: 0.593\n   Feature 3: 0.416\n   Feature 2: 0.402\n   Feature 4: 0.390\n",
           "Token:  tensors\nTop-5 Features:\n  ●●●● Feature 0: 0.795\n  ●●●● Feature 1: 0.795\n  ● Feature 4: 0.527\n   Feature 2: 0.470\n   Feature 3: 0.403\n",
           "Token:  with\nTop-5 Features:\n  ●●●● Feature 0: 0.611\n  ●●●● Feature 1: 0.591\n  ● Feature 4: 0.412\n   Feature 2: 0.368\n   Feature 3: 0.353\n",
           "Token:  reduced\nTop-5 Features:\n  ●●●● Feature 1: 0.648\n  ●●●● Feature 0: 0.596\n  ● Feature 3: 0.455\n   Feature 4: 0.391\n   Feature 2: 0.370\n",
           "Token:  precision\nTop-5 Features:\n  ●●●● Feature 0: 0.629\n  ●●●● Feature 1: 0.582\n  ● Feature 2: 0.433\n   Feature 3: 0.375\n   Feature 4: 0.362\n",
           "Token:  rather\nTop-5 Features:\n  ●●●● Feature 0: 0.577\n  ●●● Feature 1: 0.523\n   Feature 4: 0.384\n   Feature 2: 0.368\n   Feature 3: 0.344\n",
           "Token:  than\nTop-5 Features:\n  ●●●● Feature 0: 0.645\n  ●●● Feature 1: 0.561\n  ●● Feature 2: 0.468\n   Feature 3: 0.350\n   Feature 4: 0.278\n",
           "Token:  full\nTop-5 Features:\n  ●●●● Feature 0: 0.647\n  ●●●● Feature 1: 0.636\n  ● Feature 3: 0.432\n   Feature 2: 0.407\n   Feature 4: 0.372\n",
           "Token:  precision\nTop-5 Features:\n  ●●●● Feature 0: 0.629\n  ●●●● Feature 1: 0.586\n  ● Feature 2: 0.434\n   Feature 4: 0.372\n   Feature 3: 0.371\n",
           "Token:  (\nTop-5 Features:\n  ●●●● Feature 0: 0.720\n  ●●● Feature 1: 0.584\n  ● Feature 4: 0.465\n   Feature 2: 0.340\n   Feature 3: 0.322\n",
           "Token: flo\nTop-5 Features:\n  ●●●● Feature 0: 0.719\n  ●●● Feature 1: 0.539\n  ●● Feature 4: 0.463\n  ●● Feature 2: 0.454\n   Feature 3: 0.194\n",
           "Token: ating\nTop-5 Features:\n  ●●●● Feature 0: 0.674\n  ●● Feature 1: 0.506\n  ● Feature 4: 0.421\n   Feature 2: 0.353\n   Feature 3: 0.337\n",
           "Token:  point\nTop-5 Features:\n  ●●●● Feature 0: 0.702\n  ●●● Feature 1: 0.621\n  ● Feature 4: 0.436\n  ● Feature 2: 0.432\n   Feature 3: 0.350\n",
           "Token: )\nTop-5 Features:\n  ●●●● Feature 0: 0.697\n  ●● Feature 1: 0.529\n   Feature 4: 0.419\n   Feature 2: 0.401\n   Feature 3: 0.379\n",
           "Token:  values\nTop-5 Features:\n  ●●●● Feature 0: 0.695\n  ●● Feature 1: 0.532\n  ● Feature 4: 0.481\n   Feature 2: 0.373\n   Feature 3: 0.346\n",
           "Token: .\nTop-5 Features:\n  ●●●● Feature 0: 0.696\n  ●● Feature 1: 0.536\n  ● Feature 2: 0.440\n   Feature 3: 0.389\n   Feature 4: 0.354\n",
           "Token:  This\nTop-5 Features:\n  ●●●● Feature 0: 0.731\n  ●● Feature 1: 0.549\n   Feature 4: 0.438\n   Feature 2: 0.395\n   Feature 3: 0.384\n",
           "Token:  allows\nTop-5 Features:\n  ●●●● Feature 0: 0.691\n  ●● Feature 1: 0.484\n   Feature 2: 0.395\n   Feature 3: 0.382\n   Feature 4: 0.344\n",
           "Token:  for\nTop-5 Features:\n  ●●●● Feature 0: 0.652\n  ●● Feature 1: 0.510\n  ● Feature 4: 0.447\n   Feature 2: 0.425\n   Feature 3: 0.383\n",
           "Token:  a\nTop-5 Features:\n  ●●●● Feature 0: 0.760\n  ●● Feature 1: 0.574\n  ● Feature 4: 0.493\n   Feature 3: 0.431\n   Feature 2: 0.424\n",
           "Token:  more\nTop-5 Features:\n  ●●●● Feature 0: 0.615\n  ●●●● Feature 1: 0.602\n   Feature 3: 0.423\n   Feature 4: 0.393\n   Feature 2: 0.382\n",
           "Token:  compact\nTop-5 Features:\n  ●●●● Feature 0: 0.751\n  ●●● Feature 2: 0.595\n  ●● Feature 1: 0.554\n  ●● Feature 3: 0.503\n   Feature 4: 0.329\n",
           "Token:  model\nTop-5 Features:\n  ●●●● Feature 0: 0.731\n  ●● Feature 1: 0.547\n  ● Feature 2: 0.406\n   Feature 3: 0.317\n   Feature 4: 0.311\n",
           "Token:  representation\nTop-5 Features:\n  ●●●● Feature 0: 0.718\n  ●● Feature 1: 0.512\n   Feature 2: 0.356\n   Feature 4: 0.356\n   Feature 3: 0.320\n",
           "Token:  and\nTop-5 Features:\n  ●●●● Feature 0: 0.663\n  ●●● Feature 1: 0.554\n  ● Feature 2: 0.472\n   Feature 3: 0.406\n   Feature 4: 0.377\n",
           "Token:  the\nTop-5 Features:\n  ●●●● Feature 0: 0.782\n  ● Feature 1: 0.569\n  ● Feature 3: 0.537\n   Feature 2: 0.446\n   Feature 4: 0.429\n",
           "Token:  use\nTop-5 Features:\n  ●●●● Feature 0: 0.686\n  ●● Feature 1: 0.526\n  ● Feature 2: 0.466\n  ● Feature 4: 0.464\n   Feature 3: 0.405\n",
           "Token:  of\nTop-5 Features:\n  ●●●● Feature 0: 0.687\n  ●● Feature 1: 0.568\n   Feature 2: 0.457\n   Feature 4: 0.455\n   Feature 3: 0.408\n"
          ],
          [
           "Token:  high\nTop-5 Features:\n  ●●●● Feature 1: 0.672\n  ●●●● Feature 0: 0.643\n   Feature 2: 0.458\n   Feature 3: 0.425\n   Feature 4: 0.407\n",
           "Token:  performance\nTop-5 Features:\n  ●●●● Feature 0: 0.686\n  ●● Feature 1: 0.562\n  ●● Feature 2: 0.535\n   Feature 3: 0.444\n   Feature 4: 0.425\n",
           "Token:  vector\nTop-5 Features:\n  ●●●● Feature 0: 0.871\n  ●● Feature 1: 0.671\n  ● Feature 2: 0.551\n  ● Feature 4: 0.521\n   Feature 3: 0.414\n",
           "Token: ized\nTop-5 Features:\n  ●●●● Feature 0: 0.616\n  ● Feature 3: 0.428\n   Feature 1: 0.374\n   Feature 2: 0.343\n   Feature 4: 0.330\n",
           "Token:  operations\nTop-5 Features:\n  ●●●● Feature 0: 0.653\n  ●●● Feature 1: 0.554\n  ●● Feature 2: 0.546\n  ● Feature 4: 0.455\n   Feature 3: 0.404\n",
           "Token:  on\nTop-5 Features:\n  ●●●● Feature 0: 0.685\n  ●●● Feature 1: 0.590\n  ● Feature 3: 0.495\n  ● Feature 2: 0.470\n   Feature 4: 0.392\n",
           "Token:  many\nTop-5 Features:\n  ●●●● Feature 0: 0.741\n  ●●●● Feature 1: 0.731\n  ●● Feature 3: 0.616\n   Feature 4: 0.466\n   Feature 2: 0.464\n",
           "Token:  hardware\nTop-5 Features:\n  ●●●● Feature 0: 0.647\n  ●● Feature 2: 0.504\n  ●● Feature 1: 0.500\n  ●● Feature 3: 0.455\n   Feature 4: 0.296\n",
           "Token:  platforms\nTop-5 Features:\n  ●●●● Feature 0: 0.618\n  ● Feature 2: 0.444\n  ● Feature 3: 0.434\n  ● Feature 1: 0.431\n   Feature 4: 0.347\n",
           "Token: .\nTop-5 Features:\n  ●●●● Feature 0: 0.668\n  ●● Feature 1: 0.527\n  ● Feature 2: 0.464\n  ● Feature 3: 0.432\n   Feature 4: 0.338\n",
           "Token:  Py\nTop-5 Features:\n  ●●●● Feature 0: 0.627\n  ●●●● Feature 2: 0.600\n  ● Feature 1: 0.497\n  ● Feature 3: 0.483\n   Feature 4: 0.413\n",
           "Token: Tor\nTop-5 Features:\n  ●●●● Feature 0: 0.588\n  ●●● Feature 2: 0.527\n  ●●● Feature 1: 0.525\n  ● Feature 4: 0.442\n   Feature 3: 0.367\n",
           "Token: ch\nTop-5 Features:\n  ●●●● Feature 0: 0.625\n  ●● Feature 1: 0.514\n  ● Feature 3: 0.436\n   Feature 2: 0.397\n   Feature 4: 0.375\n",
           "Token:  supports\nTop-5 Features:\n  ●●●● Feature 0: 0.633\n  ●●● Feature 1: 0.528\n  ●● Feature 3: 0.456\n   Feature 2: 0.353\n   Feature 4: 0.289\n",
           "Token:  INT\nTop-5 Features:\n  ●●●● Feature 0: 0.637\n  ●●●● Feature 1: 0.635\n  ● Feature 4: 0.504\n   Feature 2: 0.471\n   Feature 3: 0.444\n",
           "Token: 8\nTop-5 Features:\n  ●●●● Feature 0: 0.581\n  ● Feature 1: 0.439\n   Feature 4: 0.391\n   Feature 3: 0.388\n   Feature 2: 0.373\n",
           "Token:  quantization\nTop-5 Features:\n  ●●●● Feature 0: 0.688\n  ●● Feature 1: 0.504\n  ● Feature 2: 0.428\n  ● Feature 3: 0.418\n   Feature 4: 0.332\n",
           "Token:  compared\nTop-5 Features:\n  ●●●● Feature 0: 0.641\n  ●● Feature 1: 0.518\n  ●● Feature 3: 0.505\n  ●● Feature 2: 0.484\n   Feature 4: 0.340\n",
           "Token:  to\nTop-5 Features:\n  ●●●● Feature 0: 0.566\n  ●● Feature 1: 0.469\n  ● Feature 2: 0.418\n   Feature 3: 0.365\n   Feature 4: 0.339\n",
           "Token:  typical\nTop-5 Features:\n  ●●●● Feature 0: 0.575\n  ●●● Feature 1: 0.497\n  ● Feature 2: 0.394\n  ● Feature 3: 0.393\n   Feature 4: 0.295\n",
           "Token:  FP\nTop-5 Features:\n  ●●●● Feature 0: 0.681\n  ●●● Feature 2: 0.567\n  ●● Feature 1: 0.522\n  ●● Feature 4: 0.460\n   Feature 3: 0.300\n",
           "Token: 32\nTop-5 Features:\n  ●●●● Feature 0: 0.600\n  ● Feature 1: 0.452\n  ● Feature 3: 0.433\n   Feature 2: 0.370\n   Feature 4: 0.357\n",
           "Token:  models\nTop-5 Features:\n  ●●●● Feature 0: 0.626\n  ●● Feature 1: 0.475\n  ● Feature 2: 0.401\n  ● Feature 3: 0.342\n   Feature 4: 0.262\n",
           "Token:  allowing\nTop-5 Features:\n  ●●●● Feature 0: 0.646\n  ●● Feature 1: 0.473\n  ●● Feature 3: 0.446\n  ● Feature 2: 0.425\n   Feature 4: 0.286\n",
           "Token:  for\nTop-5 Features:\n  ●●●● Feature 0: 0.615\n  ●● Feature 1: 0.499\n   Feature 4: 0.424\n   Feature 3: 0.414\n   Feature 2: 0.409\n",
           "Token:  a\nTop-5 Features:\n  ●●●● Feature 0: 0.721\n  ●● Feature 1: 0.545\n   Feature 3: 0.477\n   Feature 4: 0.474\n   Feature 2: 0.425\n",
           "Token:  4\nTop-5 Features:\n  ●●●● Feature 0: 0.726\n  ●●● Feature 3: 0.574\n  ●● Feature 2: 0.546\n  ●● Feature 1: 0.532\n   Feature 4: 0.320\n",
           "Token: x\nTop-5 Features:\n  ●●●● Feature 0: 0.673\n  ●●●● Feature 1: 0.642\n   Feature 3: 0.473\n   Feature 4: 0.456\n   Feature 2: 0.440\n",
           "Token:  reduction\nTop-5 Features:\n  ●●●● Feature 0: 0.606\n  ●● Feature 1: 0.507\n  ● Feature 3: 0.453\n   Feature 4: 0.405\n   Feature 2: 0.365\n",
           "Token:  in\nTop-5 Features:\n  ●●●● Feature 0: 0.640\n  ●●● Feature 1: 0.570\n   Feature 3: 0.432\n   Feature 2: 0.418\n   Feature 4: 0.410\n"
          ],
          [
           "Token:  the\nTop-5 Features:\n  ●●●● Feature 0: 0.721\n  ●● Feature 3: 0.548\n  ●● Feature 1: 0.547\n   Feature 2: 0.417\n   Feature 4: 0.414\n",
           "Token:  model\nTop-5 Features:\n  ●●●● Feature 0: 0.691\n  ●●● Feature 1: 0.533\n  ● Feature 2: 0.394\n   Feature 3: 0.334\n   Feature 4: 0.276\n",
           "Token:  size\nTop-5 Features:\n  ●●●● Feature 0: 0.654\n  ●● Feature 1: 0.505\n  ● Feature 3: 0.451\n  ● Feature 2: 0.419\n   Feature 4: 0.333\n",
           "Token:  and\nTop-5 Features:\n  ●●●● Feature 0: 0.627\n  ●●● Feature 1: 0.532\n  ● Feature 2: 0.458\n  ● Feature 3: 0.408\n   Feature 4: 0.352\n",
           "Token:  a\nTop-5 Features:\n  ●●●● Feature 0: 0.725\n  ●● Feature 1: 0.563\n  ● Feature 4: 0.475\n   Feature 3: 0.471\n   Feature 2: 0.411\n",
           "Token:  4\nTop-5 Features:\n  ●●●● Feature 0: 0.725\n  ●●● Feature 3: 0.575\n  ●● Feature 1: 0.545\n  ●● Feature 2: 0.545\n   Feature 4: 0.320\n",
           "Token: x\nTop-5 Features:\n  ●●●● Feature 0: 0.687\n  ●●●● Feature 1: 0.669\n   Feature 3: 0.483\n   Feature 4: 0.459\n   Feature 2: 0.441\n",
           "Token:  reduction\nTop-5 Features:\n  ●●●● Feature 0: 0.615\n  ●●● Feature 1: 0.526\n  ●● Feature 3: 0.473\n   Feature 4: 0.406\n   Feature 2: 0.374\n",
           "Token:  in\nTop-5 Features:\n  ●●●● Feature 0: 0.646\n  ●●● Feature 1: 0.587\n   Feature 3: 0.446\n   Feature 2: 0.426\n   Feature 4: 0.411\n",
           "Token:  memory\nTop-5 Features:\n  ●●●● Feature 1: 0.666\n  ●●●● Feature 0: 0.625\n  ●● Feature 2: 0.501\n  ● Feature 3: 0.466\n   Feature 4: 0.381\n",
           "Token:  bandwidth\nTop-5 Features:\n  ●●●● Feature 0: 0.683\n  ●●●● Feature 1: 0.621\n  ●●● Feature 3: 0.571\n  ●●● Feature 2: 0.571\n   Feature 4: 0.352\n",
           "Token:  requirements\nTop-5 Features:\n  ●●●● Feature 0: 0.613\n  ●● Feature 1: 0.520\n  ● Feature 4: 0.453\n  ● Feature 3: 0.446\n   Feature 2: 0.397\n",
           "Token: .\nTop-5 Features:\n  ●●●● Feature 0: 0.651\n  ●●● Feature 1: 0.528\n  ● Feature 3: 0.456\n  ● Feature 2: 0.435\n   Feature 4: 0.329\n",
           "Token:  Hard\nTop-5 Features:\n  ●●●● Feature 1: 0.702\n  ●●●● Feature 0: 0.633\n  ●●● Feature 3: 0.606\n  ●● Feature 2: 0.516\n   Feature 4: 0.251\n",
           "Token: ware\nTop-5 Features:\n  ●●●● Feature 0: 0.659\n  ●● Feature 3: 0.478\n  ●● Feature 2: 0.476\n  ●● Feature 1: 0.471\n   Feature 4: 0.307\n",
           "Token:  support\nTop-5 Features:\n  ●●●● Feature 0: 0.609\n  ●●● Feature 1: 0.515\n  ●● Feature 3: 0.451\n   Feature 2: 0.336\n   Feature 4: 0.295\n",
           "Token:  for\nTop-5 Features:\n  ●●●● Feature 0: 0.604\n  ●● Feature 1: 0.500\n   Feature 3: 0.432\n   Feature 4: 0.424\n   Feature 2: 0.403\n",
           "Token:  INT\nTop-5 Features:\n  ●●●● Feature 1: 0.634\n  ●●●● Feature 0: 0.613\n  ● Feature 4: 0.500\n   Feature 2: 0.470\n   Feature 3: 0.464\n",
           "Token: 8\nTop-5 Features:\n  ●●●● Feature 0: 0.567\n  ●● Feature 1: 0.462\n   Feature 3: 0.404\n   Feature 4: 0.390\n   Feature 2: 0.374\n",
           "Token:  computations\nTop-5 Features:\n  ●●●● Feature 0: 0.701\n  ●● Feature 2: 0.578\n  ● Feature 1: 0.519\n   Feature 4: 0.411\n   Feature 3: 0.408\n",
           "Token:  is\nTop-5 Features:\n  ●●●● Feature 0: 0.606\n  ●● Feature 1: 0.463\n  ● Feature 4: 0.413\n   Feature 3: 0.358\n   Feature 2: 0.312\n",
           "Token:  typically\nTop-5 Features:\n  ●●●● Feature 0: 0.547\n  ●●● Feature 1: 0.459\n  ● Feature 3: 0.359\n   Feature 2: 0.335\n   Feature 4: 0.290\n",
           "Token:  2\nTop-5 Features:\n  ●●●● Feature 0: 0.679\n  ●● Feature 2: 0.518\n  ●● Feature 1: 0.491\n  ●● Feature 3: 0.482\n   Feature 4: 0.328\n",
           "Token:  to\nTop-5 Features:\n  ●●●● Feature 0: 0.540\n  ●● Feature 1: 0.477\n   Feature 4: 0.395\n   Feature 2: 0.389\n   Feature 3: 0.382\n",
           "Token:  4\nTop-5 Features:\n  ●●●● Feature 0: 0.665\n  ●●● Feature 3: 0.548\n  ●● Feature 1: 0.508\n  ●● Feature 2: 0.500\n   Feature 4: 0.300\n",
           "Token:  times\nTop-5 Features:\n  ●●●● Feature 0: 0.578\n  ●●●● Feature 1: 0.551\n  ●● Feature 2: 0.462\n  ● Feature 4: 0.452\n   Feature 3: 0.376\n",
           "Token:  faster\nTop-5 Features:\n  ●●●● Feature 0: 0.624\n  ●●●● Feature 1: 0.593\n  ●●● Feature 3: 0.545\n  ● Feature 2: 0.449\n   Feature 4: 0.394\n",
           "Token:  compared\nTop-5 Features:\n  ●●●● Feature 0: 0.626\n  ●●● Feature 3: 0.529\n  ●●● Feature 1: 0.526\n  ●● Feature 2: 0.475\n   Feature 4: 0.350\n",
           "Token:  to\nTop-5 Features:\n  ●●●● Feature 0: 0.549\n  ●●● Feature 1: 0.485\n  ● Feature 2: 0.405\n   Feature 3: 0.391\n   Feature 4: 0.364\n",
           "Token:  FP\nTop-5 Features:\n  ●●●● Feature 0: 0.656\n  ●●● Feature 2: 0.564\n  ●● Feature 1: 0.512\n  ●● Feature 4: 0.462\n   Feature 3: 0.322\n"
          ],
          [
           "Token: 32\nTop-5 Features:\n  ●●●● Feature 0: 0.581\n  ●● Feature 1: 0.459\n  ●● Feature 3: 0.458\n   Feature 4: 0.366\n   Feature 2: 0.358\n",
           "Token:  compute\nTop-5 Features:\n  ●●●● Feature 0: 0.646\n  ●●● Feature 2: 0.561\n  ●● Feature 1: 0.517\n  ● Feature 3: 0.481\n   Feature 4: 0.428\n",
           "Token: .\nTop-5 Features:\n  ●●●● Feature 0: 0.609\n  ●● Feature 1: 0.491\n  ● Feature 3: 0.434\n  ● Feature 2: 0.407\n   Feature 4: 0.324\n",
           "Token:  Quant\nTop-5 Features:\n  ●●●● Feature 1: 0.810\n  ●●● Feature 0: 0.693\n  ● Feature 3: 0.469\n  ● Feature 4: 0.455\n   Feature 2: 0.335\n",
           "Token: ization\nTop-5 Features:\n  ●●●● Feature 0: 0.582\n  ● Feature 4: 0.358\n   Feature 1: 0.326\n   Feature 3: 0.316\n   Feature 2: 0.302\n",
           "Token:  is\nTop-5 Features:\n  ●●●● Feature 0: 0.597\n  ●● Feature 1: 0.450\n  ● Feature 4: 0.415\n   Feature 3: 0.346\n   Feature 2: 0.295\n",
           "Token:  primarily\nTop-5 Features:\n  ●●●● Feature 0: 0.578\n  ● Feature 1: 0.437\n   Feature 4: 0.395\n   Feature 3: 0.372\n   Feature 2: 0.365\n",
           "Token:  a\nTop-5 Features:\n  ●●●● Feature 0: 0.657\n  ●● Feature 1: 0.487\n  ● Feature 3: 0.452\n  ● Feature 4: 0.449\n   Feature 2: 0.369\n",
           "Token:  technique\nTop-5 Features:\n  ●●●● Feature 0: 0.614\n  ●● Feature 2: 0.437\n  ●● Feature 1: 0.398\n  ●● Feature 4: 0.393\n   Feature 3: 0.219\n",
           "Token:  to\nTop-5 Features:\n  ●●●● Feature 0: 0.524\n  ●● Feature 1: 0.449\n   Feature 4: 0.378\n   Feature 2: 0.375\n   Feature 3: 0.365\n",
           "Token:  speed\nTop-5 Features:\n  ●●●● Feature 0: 0.594\n  ●●●● Feature 1: 0.544\n  ●●● Feature 3: 0.518\n  ●● Feature 2: 0.456\n   Feature 4: 0.316\n",
           "Token:  up\nTop-5 Features:\n  ●●●● Feature 0: 0.581\n  ●●● Feature 1: 0.520\n  ●● Feature 3: 0.454\n  ●● Feature 2: 0.407\n   Feature 4: 0.284\n",
           "Token:  inference\nTop-5 Features:\n  ●●●● Feature 0: 0.631\n  ●●● Feature 1: 0.513\n  ●● Feature 2: 0.464\n   Feature 4: 0.332\n   Feature 3: 0.314\n",
           "Token:  and\nTop-5 Features:\n  ●●●● Feature 0: 0.569\n  ●● Feature 1: 0.476\n  ●● Feature 2: 0.433\n  ● Feature 3: 0.401\n   Feature 4: 0.338\n",
           "Token:  only\nTop-5 Features:\n  ●●●● Feature 0: 0.562\n  ●●● Feature 3: 0.463\n  ●● Feature 1: 0.458\n  ● Feature 2: 0.377\n   Feature 4: 0.310\n",
           "Token:  the\nTop-5 Features:\n  ●●●● Feature 0: 0.682\n  ●● Feature 3: 0.530\n  ● Feature 1: 0.485\n   Feature 2: 0.397\n   Feature 4: 0.382\n",
           "Token:  forward\nTop-5 Features:\n  ●●●● Feature 0: 0.640\n  ●●● Feature 1: 0.546\n  ● Feature 3: 0.424\n   Feature 2: 0.370\n   Feature 4: 0.337\n",
           "Token:  pass\nTop-5 Features:\n  ●●●● Feature 1: 0.570\n  ●●●● Feature 0: 0.570\n  ●●● Feature 4: 0.524\n  ●● Feature 2: 0.482\n   Feature 3: 0.396\n",
           "Token:  is\nTop-5 Features:\n  ●●●● Feature 0: 0.598\n  ●● Feature 1: 0.443\n  ● Feature 4: 0.402\n  ● Feature 3: 0.363\n   Feature 2: 0.304\n",
           "Token:  supported\nTop-5 Features:\n  ●●●● Feature 0: 0.612\n  ●●●● Feature 3: 0.563\n  ●●● Feature 1: 0.507\n  ●● Feature 2: 0.418\n   Feature 4: 0.199\n",
           "Token:  for\nTop-5 Features:\n  ●●●● Feature 0: 0.580\n  ●● Feature 1: 0.477\n  ● Feature 3: 0.432\n  ● Feature 4: 0.424\n   Feature 2: 0.384\n",
           "Token:  quant\nTop-5 Features:\n  ●●●● Feature 1: 0.772\n  ●●● Feature 0: 0.639\n  ● Feature 4: 0.506\n  ● Feature 3: 0.436\n   Feature 2: 0.336\n",
           "Token: ized\nTop-5 Features:\n  ●●●● Feature 0: 0.528\n  ●●● Feature 3: 0.452\n   Feature 1: 0.309\n   Feature 4: 0.298\n   Feature 2: 0.288\n",
           "Token:  operators\nTop-5 Features:\n  ●●●● Feature 0: 0.740\n  ●●● Feature 1: 0.667\n  ●● Feature 3: 0.582\n  ● Feature 2: 0.537\n   Feature 4: 0.418\n",
           "Token: .\nTop-5 Features:\n  ●●●● Feature 0: 0.608\n  ●● Feature 1: 0.481\n  ● Feature 3: 0.423\n  ● Feature 2: 0.419\n   Feature 4: 0.304\n",
           "",
           "",
           "",
           "",
           ""
          ]
         ],
         "reversescale": true,
         "showscale": true,
         "text": [
          [
           "Quant",
           "ization",
           " refers",
           " to",
           " techniques",
           " for",
           " performing",
           " computations",
           " and",
           " storing",
           " tensors",
           " at",
           " lower",
           " bit",
           "width",
           "s",
           " than",
           " floating",
           " point",
           " precision",
           ".",
           "A",
           " quant",
           "ized",
           " model",
           " executes",
           " some",
           " or",
           " all",
           " of"
          ],
          [
           " the",
           " operations",
           " on",
           " tensors",
           " with",
           " reduced",
           " precision",
           " rather",
           " than",
           " full",
           " precision",
           " (",
           "flo",
           "ating",
           " point",
           ")",
           " values",
           ".",
           " This",
           " allows",
           " for",
           " a",
           " more",
           " compact",
           " model",
           " representation",
           " and",
           " the",
           " use",
           " of"
          ],
          [
           " high",
           " performance",
           " vector",
           "ized",
           " operations",
           " on",
           " many",
           " hardware",
           " platforms",
           ".",
           " Py",
           "Tor",
           "ch",
           " supports",
           " INT",
           "8",
           " quantization",
           " compared",
           " to",
           " typical",
           " FP",
           "32",
           " models",
           " allowing",
           " for",
           " a",
           " 4",
           "x",
           " reduction",
           " in"
          ],
          [
           " the",
           " model",
           " size",
           " and",
           " a",
           " 4",
           "x",
           " reduction",
           " in",
           " memory",
           " bandwidth",
           " requirements",
           ".",
           " Hard",
           "ware",
           " support",
           " for",
           " INT",
           "8",
           " computations",
           " is",
           " typically",
           " 2",
           " to",
           " 4",
           " times",
           " faster",
           " compared",
           " to",
           " FP"
          ],
          [
           "32",
           " compute",
           ".",
           " Quant",
           "ization",
           " is",
           " primarily",
           " a",
           " technique",
           " to",
           " speed",
           " up",
           " inference",
           " and",
           " only",
           " the",
           " forward",
           " pass",
           " is",
           " supported",
           " for",
           " quant",
           "ized",
           " operators",
           ".",
           "",
           "",
           "",
           "",
           ""
          ]
         ],
         "textfont": {
          "family": "Times New Roman",
          "size": 10
         },
         "texttemplate": "%{text}",
         "type": "heatmap",
         "xgap": 2,
         "ygap": 2,
         "z": {
          "bdata": "AAAAoA8zqz8AAACA/M2SPwAAAAAAAAAAAAAAABSyzT8AAABATk3XPwAAAKD1EeQ/AAAAgOiFxz8AAADAgvjcPwAAAIA5O+w/AAAAoLJf6D8AAABgq2nmPwAAAGAMxek/AAAAQOto5D8AAAAgIOfnPwAAAMAhGO8/AAAAgHwY7z8AAACgOizqPwAAACB2Gug/AAAAIF8r7T8AAABgMC/pPwAAACBnxe4/AAAAoGX/7z8AAAAAHwDnPwAAAACDx+o/AAAAAFfb7z8AAACADYzpPwAAAKAb1ew/AAAAABaN6D8AAACAeTLqPwAAAKAXxug/AAAAgH+C6T8AAADgioHkPwAAAEAIzOc/AAAAoMXP4j8AAAAgHnnkPwAAAKDMS+Y/AAAAAK/t4z8AAABgVaznPwAAAACc1OY/AAAAQI4d6T8AAABgtObiPwAAAAA/5uk/AAAA4O6P7j8AAABgWW3nPwAAAMBzheo/AAAAAOlA7T8AAACAAljrPwAAAIC+N+g/AAAAgJWK6D8AAADAJ3PnPwAAAICBD+M/AAAAQGuo6D8AAABA3SPkPwAAAMDXtuY/AAAAYMi16D8AAABg+/bqPwAAAIAr0eA/AAAAgPBE5j8AAADg2LnjPwAAAGBCcuQ/AAAAYHv34z8AAABAKrHiPwAAAMC7BeQ/AAAAQEkN5j8AAADggLrhPwAAACCMYuQ/AAAAYNk54j8AAABg/KzoPwAAAKDb2uc/AAAAAOHu4z8AAAAgCS/VPwAAACBJDOE/AAAAID2N5j8AAAAAzXnkPwAAAODdiOA/AAAAYD9G4j8AAACgHNXiPwAAAOCsfeE/AAAAYApP4T8AAABg45bkPwAAAMBk5+A/AAAA4EUi4j8AAACgafzkPwAAAADWiOQ/AAAAYJsF3j8AAAAglR7kPwAAAEDcPeA/AAAAAFbl4j8AAAAgXgLfPwAAAECuLOM/AAAAYJ6d4j8AAACALn7kPwAAAKB7kOY/AAAAwJYw3z8AAACAPu/kPwAAAOACg+A/AAAAwGar4z8AAABAr17ePwAAACCfROM/AAAAQENr4j8AAABAtRrgPwAAAGCj2+A/AAAAIBaY4j8AAAAA6cThPwAAAKB6HOc/AAAAAJHn4j8AAACgC/bePwAAAOAOMeA/AAAA4HqI3z8AAAAgZgfhPwAAAKA9NuA/AAAAwJM03z8AAAAAr53jPwAAAKDZtds/AAAAwLQa3T8AAADgXyncPwAAAAARKuM/AAAA4Cz53T8AAACg/pbdPwAAAMDdet4/AAAAQIJk3z8AAABgUVHgPwAAACCQmuA/AAAAAAga6T8AAABg+FfkPwAAAMCiS+A/AAAAAGAN3j8AAACgOIriPwAAACBXF+Y/AAAAAORJ3T8AAACAWufiPwAAAGArHuA/AAAAIHdg5D8AAAAgQfXZPwAAAACCNt4/AAAAwNmH4T8AAAAAXp/lPwAAAIAzLdk/AAAA4PkG4D8AAABA8BLhPwAAAKDP19k/AAAAYCjx5z8AAADALIXgPwAAAIBk5eI/AAAAANoL4T8AAAAAAAAAAAAAAAAAAAAAAAAAAAAAAAAAAAAAAAAAAAAAAAAAAAAA",
          "dtype": "f8",
          "shape": "5, 30"
         }
        }
       ],
       "layout": {
        "height": 350,
        "margin": {
         "b": 20,
         "l": 20,
         "r": 20,
         "t": 40
        },
        "paper_bgcolor": "white",
        "plot_bgcolor": "white",
        "template": {
         "data": {
          "bar": [
           {
            "error_x": {
             "color": "#2a3f5f"
            },
            "error_y": {
             "color": "#2a3f5f"
            },
            "marker": {
             "line": {
              "color": "#E5ECF6",
              "width": 0.5
             },
             "pattern": {
              "fillmode": "overlay",
              "size": 10,
              "solidity": 0.2
             }
            },
            "type": "bar"
           }
          ],
          "barpolar": [
           {
            "marker": {
             "line": {
              "color": "#E5ECF6",
              "width": 0.5
             },
             "pattern": {
              "fillmode": "overlay",
              "size": 10,
              "solidity": 0.2
             }
            },
            "type": "barpolar"
           }
          ],
          "carpet": [
           {
            "aaxis": {
             "endlinecolor": "#2a3f5f",
             "gridcolor": "white",
             "linecolor": "white",
             "minorgridcolor": "white",
             "startlinecolor": "#2a3f5f"
            },
            "baxis": {
             "endlinecolor": "#2a3f5f",
             "gridcolor": "white",
             "linecolor": "white",
             "minorgridcolor": "white",
             "startlinecolor": "#2a3f5f"
            },
            "type": "carpet"
           }
          ],
          "choropleth": [
           {
            "colorbar": {
             "outlinewidth": 0,
             "ticks": ""
            },
            "type": "choropleth"
           }
          ],
          "contour": [
           {
            "colorbar": {
             "outlinewidth": 0,
             "ticks": ""
            },
            "colorscale": [
             [
              0,
              "#0d0887"
             ],
             [
              0.1111111111111111,
              "#46039f"
             ],
             [
              0.2222222222222222,
              "#7201a8"
             ],
             [
              0.3333333333333333,
              "#9c179e"
             ],
             [
              0.4444444444444444,
              "#bd3786"
             ],
             [
              0.5555555555555556,
              "#d8576b"
             ],
             [
              0.6666666666666666,
              "#ed7953"
             ],
             [
              0.7777777777777778,
              "#fb9f3a"
             ],
             [
              0.8888888888888888,
              "#fdca26"
             ],
             [
              1,
              "#f0f921"
             ]
            ],
            "type": "contour"
           }
          ],
          "contourcarpet": [
           {
            "colorbar": {
             "outlinewidth": 0,
             "ticks": ""
            },
            "type": "contourcarpet"
           }
          ],
          "heatmap": [
           {
            "colorbar": {
             "outlinewidth": 0,
             "ticks": ""
            },
            "colorscale": [
             [
              0,
              "#0d0887"
             ],
             [
              0.1111111111111111,
              "#46039f"
             ],
             [
              0.2222222222222222,
              "#7201a8"
             ],
             [
              0.3333333333333333,
              "#9c179e"
             ],
             [
              0.4444444444444444,
              "#bd3786"
             ],
             [
              0.5555555555555556,
              "#d8576b"
             ],
             [
              0.6666666666666666,
              "#ed7953"
             ],
             [
              0.7777777777777778,
              "#fb9f3a"
             ],
             [
              0.8888888888888888,
              "#fdca26"
             ],
             [
              1,
              "#f0f921"
             ]
            ],
            "type": "heatmap"
           }
          ],
          "histogram": [
           {
            "marker": {
             "pattern": {
              "fillmode": "overlay",
              "size": 10,
              "solidity": 0.2
             }
            },
            "type": "histogram"
           }
          ],
          "histogram2d": [
           {
            "colorbar": {
             "outlinewidth": 0,
             "ticks": ""
            },
            "colorscale": [
             [
              0,
              "#0d0887"
             ],
             [
              0.1111111111111111,
              "#46039f"
             ],
             [
              0.2222222222222222,
              "#7201a8"
             ],
             [
              0.3333333333333333,
              "#9c179e"
             ],
             [
              0.4444444444444444,
              "#bd3786"
             ],
             [
              0.5555555555555556,
              "#d8576b"
             ],
             [
              0.6666666666666666,
              "#ed7953"
             ],
             [
              0.7777777777777778,
              "#fb9f3a"
             ],
             [
              0.8888888888888888,
              "#fdca26"
             ],
             [
              1,
              "#f0f921"
             ]
            ],
            "type": "histogram2d"
           }
          ],
          "histogram2dcontour": [
           {
            "colorbar": {
             "outlinewidth": 0,
             "ticks": ""
            },
            "colorscale": [
             [
              0,
              "#0d0887"
             ],
             [
              0.1111111111111111,
              "#46039f"
             ],
             [
              0.2222222222222222,
              "#7201a8"
             ],
             [
              0.3333333333333333,
              "#9c179e"
             ],
             [
              0.4444444444444444,
              "#bd3786"
             ],
             [
              0.5555555555555556,
              "#d8576b"
             ],
             [
              0.6666666666666666,
              "#ed7953"
             ],
             [
              0.7777777777777778,
              "#fb9f3a"
             ],
             [
              0.8888888888888888,
              "#fdca26"
             ],
             [
              1,
              "#f0f921"
             ]
            ],
            "type": "histogram2dcontour"
           }
          ],
          "mesh3d": [
           {
            "colorbar": {
             "outlinewidth": 0,
             "ticks": ""
            },
            "type": "mesh3d"
           }
          ],
          "parcoords": [
           {
            "line": {
             "colorbar": {
              "outlinewidth": 0,
              "ticks": ""
             }
            },
            "type": "parcoords"
           }
          ],
          "pie": [
           {
            "automargin": true,
            "type": "pie"
           }
          ],
          "scatter": [
           {
            "fillpattern": {
             "fillmode": "overlay",
             "size": 10,
             "solidity": 0.2
            },
            "type": "scatter"
           }
          ],
          "scatter3d": [
           {
            "line": {
             "colorbar": {
              "outlinewidth": 0,
              "ticks": ""
             }
            },
            "marker": {
             "colorbar": {
              "outlinewidth": 0,
              "ticks": ""
             }
            },
            "type": "scatter3d"
           }
          ],
          "scattercarpet": [
           {
            "marker": {
             "colorbar": {
              "outlinewidth": 0,
              "ticks": ""
             }
            },
            "type": "scattercarpet"
           }
          ],
          "scattergeo": [
           {
            "marker": {
             "colorbar": {
              "outlinewidth": 0,
              "ticks": ""
             }
            },
            "type": "scattergeo"
           }
          ],
          "scattergl": [
           {
            "marker": {
             "colorbar": {
              "outlinewidth": 0,
              "ticks": ""
             }
            },
            "type": "scattergl"
           }
          ],
          "scattermap": [
           {
            "marker": {
             "colorbar": {
              "outlinewidth": 0,
              "ticks": ""
             }
            },
            "type": "scattermap"
           }
          ],
          "scattermapbox": [
           {
            "marker": {
             "colorbar": {
              "outlinewidth": 0,
              "ticks": ""
             }
            },
            "type": "scattermapbox"
           }
          ],
          "scatterpolar": [
           {
            "marker": {
             "colorbar": {
              "outlinewidth": 0,
              "ticks": ""
             }
            },
            "type": "scatterpolar"
           }
          ],
          "scatterpolargl": [
           {
            "marker": {
             "colorbar": {
              "outlinewidth": 0,
              "ticks": ""
             }
            },
            "type": "scatterpolargl"
           }
          ],
          "scatterternary": [
           {
            "marker": {
             "colorbar": {
              "outlinewidth": 0,
              "ticks": ""
             }
            },
            "type": "scatterternary"
           }
          ],
          "surface": [
           {
            "colorbar": {
             "outlinewidth": 0,
             "ticks": ""
            },
            "colorscale": [
             [
              0,
              "#0d0887"
             ],
             [
              0.1111111111111111,
              "#46039f"
             ],
             [
              0.2222222222222222,
              "#7201a8"
             ],
             [
              0.3333333333333333,
              "#9c179e"
             ],
             [
              0.4444444444444444,
              "#bd3786"
             ],
             [
              0.5555555555555556,
              "#d8576b"
             ],
             [
              0.6666666666666666,
              "#ed7953"
             ],
             [
              0.7777777777777778,
              "#fb9f3a"
             ],
             [
              0.8888888888888888,
              "#fdca26"
             ],
             [
              1,
              "#f0f921"
             ]
            ],
            "type": "surface"
           }
          ],
          "table": [
           {
            "cells": {
             "fill": {
              "color": "#EBF0F8"
             },
             "line": {
              "color": "white"
             }
            },
            "header": {
             "fill": {
              "color": "#C8D4E3"
             },
             "line": {
              "color": "white"
             }
            },
            "type": "table"
           }
          ]
         },
         "layout": {
          "annotationdefaults": {
           "arrowcolor": "#2a3f5f",
           "arrowhead": 0,
           "arrowwidth": 1
          },
          "autotypenumbers": "strict",
          "coloraxis": {
           "colorbar": {
            "outlinewidth": 0,
            "ticks": ""
           }
          },
          "colorscale": {
           "diverging": [
            [
             0,
             "#8e0152"
            ],
            [
             0.1,
             "#c51b7d"
            ],
            [
             0.2,
             "#de77ae"
            ],
            [
             0.3,
             "#f1b6da"
            ],
            [
             0.4,
             "#fde0ef"
            ],
            [
             0.5,
             "#f7f7f7"
            ],
            [
             0.6,
             "#e6f5d0"
            ],
            [
             0.7,
             "#b8e186"
            ],
            [
             0.8,
             "#7fbc41"
            ],
            [
             0.9,
             "#4d9221"
            ],
            [
             1,
             "#276419"
            ]
           ],
           "sequential": [
            [
             0,
             "#0d0887"
            ],
            [
             0.1111111111111111,
             "#46039f"
            ],
            [
             0.2222222222222222,
             "#7201a8"
            ],
            [
             0.3333333333333333,
             "#9c179e"
            ],
            [
             0.4444444444444444,
             "#bd3786"
            ],
            [
             0.5555555555555556,
             "#d8576b"
            ],
            [
             0.6666666666666666,
             "#ed7953"
            ],
            [
             0.7777777777777778,
             "#fb9f3a"
            ],
            [
             0.8888888888888888,
             "#fdca26"
            ],
            [
             1,
             "#f0f921"
            ]
           ],
           "sequentialminus": [
            [
             0,
             "#0d0887"
            ],
            [
             0.1111111111111111,
             "#46039f"
            ],
            [
             0.2222222222222222,
             "#7201a8"
            ],
            [
             0.3333333333333333,
             "#9c179e"
            ],
            [
             0.4444444444444444,
             "#bd3786"
            ],
            [
             0.5555555555555556,
             "#d8576b"
            ],
            [
             0.6666666666666666,
             "#ed7953"
            ],
            [
             0.7777777777777778,
             "#fb9f3a"
            ],
            [
             0.8888888888888888,
             "#fdca26"
            ],
            [
             1,
             "#f0f921"
            ]
           ]
          },
          "colorway": [
           "#636efa",
           "#EF553B",
           "#00cc96",
           "#ab63fa",
           "#FFA15A",
           "#19d3f3",
           "#FF6692",
           "#B6E880",
           "#FF97FF",
           "#FECB52"
          ],
          "font": {
           "color": "#2a3f5f"
          },
          "geo": {
           "bgcolor": "white",
           "lakecolor": "white",
           "landcolor": "#E5ECF6",
           "showlakes": true,
           "showland": true,
           "subunitcolor": "white"
          },
          "hoverlabel": {
           "align": "left"
          },
          "hovermode": "closest",
          "mapbox": {
           "style": "light"
          },
          "paper_bgcolor": "white",
          "plot_bgcolor": "#E5ECF6",
          "polar": {
           "angularaxis": {
            "gridcolor": "white",
            "linecolor": "white",
            "ticks": ""
           },
           "bgcolor": "#E5ECF6",
           "radialaxis": {
            "gridcolor": "white",
            "linecolor": "white",
            "ticks": ""
           }
          },
          "scene": {
           "xaxis": {
            "backgroundcolor": "#E5ECF6",
            "gridcolor": "white",
            "gridwidth": 2,
            "linecolor": "white",
            "showbackground": true,
            "ticks": "",
            "zerolinecolor": "white"
           },
           "yaxis": {
            "backgroundcolor": "#E5ECF6",
            "gridcolor": "white",
            "gridwidth": 2,
            "linecolor": "white",
            "showbackground": true,
            "ticks": "",
            "zerolinecolor": "white"
           },
           "zaxis": {
            "backgroundcolor": "#E5ECF6",
            "gridcolor": "white",
            "gridwidth": 2,
            "linecolor": "white",
            "showbackground": true,
            "ticks": "",
            "zerolinecolor": "white"
           }
          },
          "shapedefaults": {
           "line": {
            "color": "#2a3f5f"
           }
          },
          "ternary": {
           "aaxis": {
            "gridcolor": "white",
            "linecolor": "white",
            "ticks": ""
           },
           "baxis": {
            "gridcolor": "white",
            "linecolor": "white",
            "ticks": ""
           },
           "bgcolor": "#E5ECF6",
           "caxis": {
            "gridcolor": "white",
            "linecolor": "white",
            "ticks": ""
           }
          },
          "title": {
           "x": 0.05
          },
          "xaxis": {
           "automargin": true,
           "gridcolor": "white",
           "linecolor": "white",
           "ticks": "",
           "title": {
            "standoff": 15
           },
           "zerolinecolor": "white",
           "zerolinewidth": 2
          },
          "yaxis": {
           "automargin": true,
           "gridcolor": "white",
           "linecolor": "white",
           "ticks": "",
           "title": {
            "standoff": 15
           },
           "zerolinecolor": "white",
           "zerolinewidth": 2
          }
         }
        },
        "title": {
         "font": {
          "family": "Times New Roman",
          "size": 12
         },
         "text": "Top-k 5 Token Activation"
        },
        "width": 1500,
        "xaxis": {
         "showticklabels": false
        },
        "yaxis": {
         "autorange": "reversed",
         "showticklabels": false
        }
       }
      }
     },
     "metadata": {},
     "output_type": "display_data"
    }
   ],
   "source": [
    "dictionary_learning.plot_sae_heatmap(\n",
    "    model=olmo1b_bitnet_fp32,\n",
    "    tokenizer=olmo1b_tokenizer,\n",
    "    inputs=Texts.T1.value,\n",
    "    do_log=False,\n",
    "    top_k=5,\n",
    "    tokens_per_row=30,\n",
    "    target_layers=[5],\n",
    "    log_path=None,\n",
    "    log_name=None,\n",
    "    fig_path=None\n",
    ")"
   ]
  },
  {
   "cell_type": "code",
   "execution_count": 9,
   "metadata": {},
   "outputs": [
    {
     "name": "stdout",
     "output_type": "stream",
     "text": [
      "\n",
      "Comparing SAE on layer 5\n"
     ]
    },
    {
     "data": {
      "application/vnd.plotly.v1+json": {
       "config": {
        "plotlyServerURL": "https://plot.ly"
       },
       "data": [
        {
         "colorscale": [
          [
           0,
           "rgb(247,251,255)"
          ],
          [
           0.125,
           "rgb(222,235,247)"
          ],
          [
           0.25,
           "rgb(198,219,239)"
          ],
          [
           0.375,
           "rgb(158,202,225)"
          ],
          [
           0.5,
           "rgb(107,174,214)"
          ],
          [
           0.625,
           "rgb(66,146,198)"
          ],
          [
           0.75,
           "rgb(33,113,181)"
          ],
          [
           0.875,
           "rgb(8,81,156)"
          ],
          [
           1,
           "rgb(8,48,107)"
          ]
         ],
         "hoverinfo": "text",
         "hovertext": [
          [
           "Token: Quant\nFP Saliency: 0.139\nQuant Saliency: 0.109\nΔ Saliency: 0.030\n\nTop-5 Features:\n▇▇▇▇▇ Feature 1: 4.435\n▇▇▇▇▇ Feature 4: 4.176\n▂▂▂▂▂ Feature 2: 0.920\n▂▂▂▂▂ Feature 0: 0.857\n▁▁▁▁▁ Feature 3: 0.240\n",
           "Token: ization\nFP Saliency: 0.136\nQuant Saliency: 0.209\nΔ Saliency: 0.073\n\nTop-5 Features:\n▇▇▇▇▇ Feature 1: 0.418\n▆▆▆▆▆ Feature 0: 0.328\n▂▂▂▂▂ Feature 2: 0.138\n▁▁▁▁▁ Feature 3: 0.034\n▁▁▁▁▁ Feature 4: 0.034\n",
           "Token:  refers\nFP Saliency: 0.152\nQuant Saliency: 0.096\nΔ Saliency: 0.056\n\nTop-5 Features:\n▇▇▇▇▇ Feature 1: 0.525\n▆▆▆▆▆ Feature 2: 0.423\n▄▄▄▄▄ Feature 3: 0.299\n▃▃▃▃▃ Feature 0: 0.232\n▁▁▁▁▁ Feature 4: 0.069\n",
           "Token:  to\nFP Saliency: 0.135\nQuant Saliency: 0.118\nΔ Saliency: 0.017\n\nTop-5 Features:\n▇▇▇▇▇ Feature 2: 0.453\n▇▇▇▇▇ Feature 1: 0.444\n▄▄▄▄▄ Feature 3: 0.312\n▄▄▄▄▄ Feature 0: 0.291\n▁▁▁▁▁ Feature 4: 0.148\n",
           "Token:  techniques\nFP Saliency: 0.151\nQuant Saliency: 0.152\nΔ Saliency: 0.001\n\nTop-5 Features:\n▇▇▇▇▇ Feature 1: 0.284\n▇▇▇▇▇ Feature 4: 0.270\n▆▆▆▆▆ Feature 2: 0.235\n▄▄▄▄▄ Feature 3: 0.206\n▁▁▁▁▁ Feature 0: 0.109\n",
           "Token:  for\nFP Saliency: 0.126\nQuant Saliency: 0.108\nΔ Saliency: 0.018\n\nTop-5 Features:\n▇▇▇▇▇ Feature 2: 0.331\n▇▇▇▇▇ Feature 1: 0.325\n▁▁▁▁▁ Feature 4: 0.213\n▁▁▁▁▁ Feature 0: 0.212\n▁▁▁▁▁ Feature 3: 0.207\n",
           "Token:  performing\nFP Saliency: 0.138\nQuant Saliency: 0.107\nΔ Saliency: 0.032\n\nTop-5 Features:\n▇▇▇▇▇ Feature 4: 0.306\n▃▃▃▃▃ Feature 0: 0.257\n▃▃▃▃▃ Feature 1: 0.254\n▁▁▁▁▁ Feature 2: 0.227\n▁▁▁▁▁ Feature 3: 0.224\n",
           "Token:  computations\nFP Saliency: 0.144\nQuant Saliency: 0.128\nΔ Saliency: 0.016\n\nTop-5 Features:\n▇▇▇▇▇ Feature 4: 0.305\n▇▇▇▇▇ Feature 0: 0.300\n▃▃▃▃▃ Feature 3: 0.202\n▃▃▃▃▃ Feature 1: 0.201\n▁▁▁▁▁ Feature 2: 0.157\n",
           "Token:  and\nFP Saliency: 0.135\nQuant Saliency: 0.142\nΔ Saliency: 0.007\n\nTop-5 Features:\n▇▇▇▇▇ Feature 2: 0.323\n▅▅▅▅▅ Feature 0: 0.257\n▃▃▃▃▃ Feature 1: 0.228\n▂▂▂▂▂ Feature 4: 0.186\n▁▁▁▁▁ Feature 3: 0.161\n",
           "Token:  storing\nFP Saliency: 0.136\nQuant Saliency: 0.136\nΔ Saliency: 0.001\n\nTop-5 Features:\n▇▇▇▇▇ Feature 0: 0.342\n▅▅▅▅▅ Feature 2: 0.281\n▄▄▄▄▄ Feature 1: 0.276\n▃▃▃▃▃ Feature 4: 0.260\n▁▁▁▁▁ Feature 3: 0.201\n",
           "Token:  tensors\nFP Saliency: 0.177\nQuant Saliency: 0.139\nΔ Saliency: 0.038\n\nTop-5 Features:\n▇▇▇▇▇ Feature 0: 0.468\n▃▃▃▃▃ Feature 1: 0.287\n▁▁▁▁▁ Feature 4: 0.201\n▁▁▁▁▁ Feature 3: 0.171\n▁▁▁▁▁ Feature 2: 0.160\n",
           "Token:  at\nFP Saliency: 0.178\nQuant Saliency: 0.128\nΔ Saliency: 0.050\n\nTop-5 Features:\n▇▇▇▇▇ Feature 0: 0.260\n▇▇▇▇▇ Feature 2: 0.249\n▅▅▅▅▅ Feature 4: 0.220\n▁▁▁▁▁ Feature 1: 0.131\n▁▁▁▁▁ Feature 3: 0.126\n",
           "Token:  lower\nFP Saliency: 0.128\nQuant Saliency: 0.164\nΔ Saliency: 0.036\n\nTop-5 Features:\n▇▇▇▇▇ Feature 3: 0.308\n▄▄▄▄▄ Feature 0: 0.257\n▄▄▄▄▄ Feature 2: 0.256\n▁▁▁▁▁ Feature 4: 0.211\n▁▁▁▁▁ Feature 1: 0.201\n",
           "Token:  bit\nFP Saliency: 0.141\nQuant Saliency: 0.156\nΔ Saliency: 0.015\n\nTop-5 Features:\n▇▇▇▇▇ Feature 0: 0.319\n▇▇▇▇▇ Feature 1: 0.308\n▄▄▄▄▄ Feature 3: 0.232\n▁▁▁▁▁ Feature 2: 0.165\n▁▁▁▁▁ Feature 4: 0.144\n",
           "Token: width\nFP Saliency: 0.147\nQuant Saliency: 0.145\nΔ Saliency: 0.001\n\nTop-5 Features:\n▇▇▇▇▇ Feature 0: 0.207\n▆▆▆▆▆ Feature 2: 0.178\n▄▄▄▄▄ Feature 3: 0.132\n▄▄▄▄▄ Feature 1: 0.117\n▁▁▁▁▁ Feature 4: 0.048\n",
           "Token: s\nFP Saliency: 0.144\nQuant Saliency: 0.129\nΔ Saliency: 0.014\n\nTop-5 Features:\n▇▇▇▇▇ Feature 2: 0.306\n▆▆▆▆▆ Feature 0: 0.267\n▅▅▅▅▅ Feature 3: 0.227\n▂▂▂▂▂ Feature 4: 0.151\n▁▁▁▁▁ Feature 1: 0.107\n",
           "Token:  than\nFP Saliency: 0.182\nQuant Saliency: 0.166\nΔ Saliency: 0.017\n\nTop-5 Features:\n▇▇▇▇▇ Feature 2: 0.384\n▄▄▄▄▄ Feature 3: 0.223\n▂▂▂▂▂ Feature 4: 0.134\n▁▁▁▁▁ Feature 0: 0.128\n▁▁▁▁▁ Feature 1: 0.090\n",
           "Token:  floating\nFP Saliency: 0.141\nQuant Saliency: 0.185\nΔ Saliency: 0.044\n\nTop-5 Features:\n▇▇▇▇▇ Feature 3: 0.332\n▅▅▅▅▅ Feature 0: 0.246\n▄▄▄▄▄ Feature 2: 0.187\n▃▃▃▃▃ Feature 1: 0.137\n▁▁▁▁▁ Feature 4: 0.040\n",
           "Token:  point\nFP Saliency: 0.123\nQuant Saliency: 0.181\nΔ Saliency: 0.058\n\nTop-5 Features:\n▇▇▇▇▇ Feature 1: 0.295\n▇▇▇▇▇ Feature 0: 0.281\n▅▅▅▅▅ Feature 3: 0.223\n▁▁▁▁▁ Feature 2: 0.105\n▁▁▁▁▁ Feature 4: 0.096\n",
           "Token:  precision\nFP Saliency: 0.128\nQuant Saliency: 0.169\nΔ Saliency: 0.041\n\nTop-5 Features:\n▇▇▇▇▇ Feature 0: 0.301\n▇▇▇▇▇ Feature 1: 0.286\n▄▄▄▄▄ Feature 2: 0.233\n▄▄▄▄▄ Feature 4: 0.230\n▁▁▁▁▁ Feature 3: 0.174\n",
           "Token: .\nFP Saliency: 0.116\nQuant Saliency: 0.192\nΔ Saliency: 0.076\n\nTop-5 Features:\n▇▇▇▇▇ Feature 1: 3.948\n▆▆▆▆▆ Feature 4: 3.214\n▂▂▂▂▂ Feature 0: 1.733\n▂▂▂▂▂ Feature 3: 1.657\n▁▁▁▁▁ Feature 2: 1.071\n",
           "Token: A\nFP Saliency: 0.127\nQuant Saliency: 0.171\nΔ Saliency: 0.044\n\nTop-5 Features:\n▇▇▇▇▇ Feature 2: 0.215\n▅▅▅▅▅ Feature 0: 0.170\n▅▅▅▅▅ Feature 3: 0.153\n▁▁▁▁▁ Feature 1: 0.078\n▁▁▁▁▁ Feature 4: 0.059\n",
           "Token:  quant\nFP Saliency: 0.145\nQuant Saliency: 0.138\nΔ Saliency: 0.007\n\nTop-5 Features:\n▇▇▇▇▇ Feature 0: 0.266\n▇▇▇▇▇ Feature 1: 0.263\n▅▅▅▅▅ Feature 3: 0.212\n▄▄▄▄▄ Feature 4: 0.171\n▁▁▁▁▁ Feature 2: 0.096\n",
           "Token: ized\nFP Saliency: 0.138\nQuant Saliency: 0.148\nΔ Saliency: 0.010\n\nTop-5 Features:\n▇▇▇▇▇ Feature 1: 0.315\n▅▅▅▅▅ Feature 0: 0.225\n▃▃▃▃▃ Feature 4: 0.155\n▂▂▂▂▂ Feature 3: 0.130\n▁▁▁▁▁ Feature 2: 0.057\n",
           "Token:  model\nFP Saliency: 0.124\nQuant Saliency: 0.142\nΔ Saliency: 0.018\n\nTop-5 Features:\n▇▇▇▇▇ Feature 1: 0.171\n▅▅▅▅▅ Feature 0: 0.146\n▅▅▅▅▅ Feature 2: 0.145\n▁▁▁▁▁ Feature 4: 0.103\n▁▁▁▁▁ Feature 3: 0.092\n",
           "Token:  executes\nFP Saliency: 0.139\nQuant Saliency: 0.170\nΔ Saliency: 0.032\n\nTop-5 Features:\n▇▇▇▇▇ Feature 2: 0.268\n▅▅▅▅▅ Feature 1: 0.251\n▃▃▃▃▃ Feature 3: 0.229\n▂▂▂▂▂ Feature 0: 0.226\n▁▁▁▁▁ Feature 4: 0.211\n",
           "Token:  some\nFP Saliency: 0.129\nQuant Saliency: 0.195\nΔ Saliency: 0.066\n\nTop-5 Features:\n▇▇▇▇▇ Feature 2: 0.258\n▇▇▇▇▇ Feature 0: 0.246\n▅▅▅▅▅ Feature 3: 0.222\n▂▂▂▂▂ Feature 4: 0.177\n▁▁▁▁▁ Feature 1: 0.158\n",
           "Token:  or\nFP Saliency: 0.153\nQuant Saliency: 0.142\nΔ Saliency: 0.011\n\nTop-5 Features:\n▇▇▇▇▇ Feature 0: 0.404\n▄▄▄▄▄ Feature 2: 0.304\n▃▃▃▃▃ Feature 3: 0.271\n▂▂▂▂▂ Feature 1: 0.223\n▁▁▁▁▁ Feature 4: 0.191\n",
           "Token:  all\nFP Saliency: 0.162\nQuant Saliency: 0.168\nΔ Saliency: 0.006\n\nTop-5 Features:\n▇▇▇▇▇ Feature 0: 0.445\n▅▅▅▅▅ Feature 2: 0.307\n▃▃▃▃▃ Feature 3: 0.226\n▂▂▂▂▂ Feature 4: 0.169\n▁▁▁▁▁ Feature 1: 0.105\n",
           "Token:  of\nFP Saliency: 0.149\nQuant Saliency: 0.164\nΔ Saliency: 0.015\n\nTop-5 Features:\n▇▇▇▇▇ Feature 2: 0.430\n▇▇▇▇▇ Feature 0: 0.417\n▃▃▃▃▃ Feature 3: 0.290\n▂▂▂▂▂ Feature 4: 0.253\n▁▁▁▁▁ Feature 1: 0.190\n"
          ],
          [
           "Token:  the\nFP Saliency: 0.139\nQuant Saliency: 0.159\nΔ Saliency: 0.020\n\nTop-5 Features:\n▇▇▇▇▇ Feature 2: 0.381\n▇▇▇▇▇ Feature 0: 0.373\n▅▅▅▅▅ Feature 3: 0.288\n▂▂▂▂▂ Feature 4: 0.212\n▁▁▁▁▁ Feature 1: 0.150\n",
           "Token:  operations\nFP Saliency: 0.160\nQuant Saliency: 0.149\nΔ Saliency: 0.012\n\nTop-5 Features:\n▇▇▇▇▇ Feature 4: 0.346\n▅▅▅▅▅ Feature 0: 0.267\n▅▅▅▅▅ Feature 3: 0.259\n▄▄▄▄▄ Feature 1: 0.222\n▁▁▁▁▁ Feature 2: 0.121\n",
           "Token:  on\nFP Saliency: 0.130\nQuant Saliency: 0.164\nΔ Saliency: 0.034\n\nTop-5 Features:\n▇▇▇▇▇ Feature 0: 0.249\n▄▄▄▄▄ Feature 2: 0.197\n▂▂▂▂▂ Feature 1: 0.170\n▁▁▁▁▁ Feature 3: 0.169\n▁▁▁▁▁ Feature 4: 0.156\n",
           "Token:  tensors\nFP Saliency: 0.174\nQuant Saliency: 0.185\nΔ Saliency: 0.011\n\nTop-5 Features:\n▇▇▇▇▇ Feature 0: 0.409\n▃▃▃▃▃ Feature 4: 0.202\n▃▃▃▃▃ Feature 1: 0.193\n▁▁▁▁▁ Feature 3: 0.106\n▁▁▁▁▁ Feature 2: 0.103\n",
           "Token:  with\nFP Saliency: 0.142\nQuant Saliency: 0.184\nΔ Saliency: 0.042\n\nTop-5 Features:\n▇▇▇▇▇ Feature 2: 0.239\n▇▇▇▇▇ Feature 0: 0.227\n▅▅▅▅▅ Feature 1: 0.191\n▂▂▂▂▂ Feature 4: 0.133\n▁▁▁▁▁ Feature 3: 0.113\n",
           "Token:  reduced\nFP Saliency: 0.134\nQuant Saliency: 0.195\nΔ Saliency: 0.061\n\nTop-5 Features:\n▇▇▇▇▇ Feature 1: 0.252\n▅▅▅▅▅ Feature 3: 0.217\n▅▅▅▅▅ Feature 2: 0.216\n▃▃▃▃▃ Feature 0: 0.184\n▁▁▁▁▁ Feature 4: 0.142\n",
           "Token:  precision\nFP Saliency: 0.150\nQuant Saliency: 0.131\nΔ Saliency: 0.020\n\nTop-5 Features:\n▇▇▇▇▇ Feature 0: 0.210\n▇▇▇▇▇ Feature 2: 0.195\n▅▅▅▅▅ Feature 1: 0.172\n▃▃▃▃▃ Feature 4: 0.143\n▁▁▁▁▁ Feature 3: 0.097\n",
           "Token:  rather\nFP Saliency: 0.189\nQuant Saliency: 0.172\nΔ Saliency: 0.017\n\nTop-5 Features:\n▇▇▇▇▇ Feature 2: 0.376\n▄▄▄▄▄ Feature 3: 0.204\n▂▂▂▂▂ Feature 0: 0.137\n▂▂▂▂▂ Feature 1: 0.122\n▁▁▁▁▁ Feature 4: 0.053\n",
           "Token:  than\nFP Saliency: 0.160\nQuant Saliency: 0.116\nΔ Saliency: 0.044\n\nTop-5 Features:\n▇▇▇▇▇ Feature 2: 0.276\n▅▅▅▅▅ Feature 3: 0.186\n▂▂▂▂▂ Feature 0: 0.085\n▁▁▁▁▁ Feature 4: 0.050\n▁▁▁▁▁ Feature 1: 0.032\n",
           "Token:  full\nFP Saliency: 0.185\nQuant Saliency: 0.192\nΔ Saliency: 0.007\n\nTop-5 Features:\n▇▇▇▇▇ Feature 2: 0.263\n▇▇▇▇▇ Feature 0: 0.262\n▅▅▅▅▅ Feature 3: 0.210\n▂▂▂▂▂ Feature 4: 0.150\n▁▁▁▁▁ Feature 1: 0.117\n",
           "Token:  precision\nFP Saliency: 0.148\nQuant Saliency: 0.128\nΔ Saliency: 0.020\n\nTop-5 Features:\n▇▇▇▇▇ Feature 0: 0.293\n▇▇▇▇▇ Feature 2: 0.279\n▄▄▄▄▄ Feature 4: 0.205\n▂▂▂▂▂ Feature 1: 0.164\n▁▁▁▁▁ Feature 3: 0.129\n",
           "Token:  (\nFP Saliency: 0.148\nQuant Saliency: 0.175\nΔ Saliency: 0.026\n\nTop-5 Features:\n▇▇▇▇▇ Feature 2: 0.244\n▄▄▄▄▄ Feature 3: 0.163\n▃▃▃▃▃ Feature 0: 0.150\n▁▁▁▁▁ Feature 1: 0.093\n▁▁▁▁▁ Feature 4: 0.093\n",
           "Token: flo\nFP Saliency: 0.143\nQuant Saliency: 0.159\nΔ Saliency: 0.016\n\nTop-5 Features:\n▇▇▇▇▇ Feature 3: 0.340\n▆▆▆▆▆ Feature 0: 0.284\n▅▅▅▅▅ Feature 2: 0.238\n▃▃▃▃▃ Feature 1: 0.148\n▁▁▁▁▁ Feature 4: 0.029\n",
           "Token: ating\nFP Saliency: 0.141\nQuant Saliency: 0.149\nΔ Saliency: 0.008\n\nTop-5 Features:\n▇▇▇▇▇ Feature 3: 0.304\n▇▇▇▇▇ Feature 0: 0.277\n▃▃▃▃▃ Feature 2: 0.153\n▃▃▃▃▃ Feature 1: 0.148\n▁▁▁▁▁ Feature 4: 0.050\n",
           "Token:  point\nFP Saliency: 0.137\nQuant Saliency: 0.157\nΔ Saliency: 0.021\n\nTop-5 Features:\n▇▇▇▇▇ Feature 0: 0.293\n▇▇▇▇▇ Feature 1: 0.287\n▅▅▅▅▅ Feature 3: 0.216\n▁▁▁▁▁ Feature 2: 0.097\n▁▁▁▁▁ Feature 4: 0.072\n",
           "Token: )\nFP Saliency: 0.143\nQuant Saliency: 0.152\nΔ Saliency: 0.009\n\nTop-5 Features:\n▇▇▇▇▇ Feature 2: 0.319\n▄▄▄▄▄ Feature 0: 0.198\n▃▃▃▃▃ Feature 3: 0.184\n▁▁▁▁▁ Feature 4: 0.097\n▁▁▁▁▁ Feature 1: 0.089\n",
           "Token:  values\nFP Saliency: 0.140\nQuant Saliency: 0.169\nΔ Saliency: 0.029\n\nTop-5 Features:\n▇▇▇▇▇ Feature 0: 0.272\n▆▆▆▆▆ Feature 3: 0.236\n▅▅▅▅▅ Feature 2: 0.203\n▄▄▄▄▄ Feature 4: 0.194\n▁▁▁▁▁ Feature 1: 0.097\n",
           "Token: .\nFP Saliency: 0.163\nQuant Saliency: 0.151\nΔ Saliency: 0.011\n\nTop-5 Features:\n▇▇▇▇▇ Feature 2: 0.344\n▂▂▂▂▂ Feature 0: 0.163\n▂▂▂▂▂ Feature 3: 0.142\n▁▁▁▁▁ Feature 4: 0.097\n▁▁▁▁▁ Feature 1: 0.092\n",
           "Token:  This\nFP Saliency: 0.149\nQuant Saliency: 0.144\nΔ Saliency: 0.005\n\nTop-5 Features:\n▇▇▇▇▇ Feature 2: 0.239\n▅▅▅▅▅ Feature 3: 0.173\n▃▃▃▃▃ Feature 0: 0.142\n▁▁▁▁▁ Feature 4: 0.088\n▁▁▁▁▁ Feature 1: 0.084\n",
           "Token:  allows\nFP Saliency: 0.174\nQuant Saliency: 0.176\nΔ Saliency: 0.002\n\nTop-5 Features:\n▇▇▇▇▇ Feature 2: 0.343\n▄▄▄▄▄ Feature 1: 0.224\n▄▄▄▄▄ Feature 3: 0.211\n▁▁▁▁▁ Feature 0: 0.109\n▁▁▁▁▁ Feature 4: 0.108\n",
           "Token:  for\nFP Saliency: 0.154\nQuant Saliency: 0.176\nΔ Saliency: 0.022\n\nTop-5 Features:\n▇▇▇▇▇ Feature 2: 0.337\n▆▆▆▆▆ Feature 1: 0.302\n▅▅▅▅▅ Feature 3: 0.251\n▄▄▄▄▄ Feature 0: 0.211\n▁▁▁▁▁ Feature 4: 0.108\n",
           "Token:  a\nFP Saliency: 0.146\nQuant Saliency: 0.135\nΔ Saliency: 0.011\n\nTop-5 Features:\n▇▇▇▇▇ Feature 3: 0.260\n▆▆▆▆▆ Feature 2: 0.233\n▆▆▆▆▆ Feature 0: 0.227\n▅▅▅▅▅ Feature 1: 0.209\n▁▁▁▁▁ Feature 4: 0.083\n",
           "Token:  more\nFP Saliency: 0.168\nQuant Saliency: 0.116\nΔ Saliency: 0.052\n\nTop-5 Features:\n▇▇▇▇▇ Feature 2: 0.358\n▅▅▅▅▅ Feature 3: 0.281\n▅▅▅▅▅ Feature 0: 0.255\n▄▄▄▄▄ Feature 1: 0.211\n▁▁▁▁▁ Feature 4: 0.096\n",
           "Token:  compact\nFP Saliency: 0.142\nQuant Saliency: 0.140\nΔ Saliency: 0.001\n\nTop-5 Features:\n▇▇▇▇▇ Feature 2: 0.248\n▇▇▇▇▇ Feature 1: 0.242\n▆▆▆▆▆ Feature 0: 0.218\n▃▃▃▃▃ Feature 3: 0.166\n▁▁▁▁▁ Feature 4: 0.132\n",
           "Token:  model\nFP Saliency: 0.136\nQuant Saliency: 0.156\nΔ Saliency: 0.020\n\nTop-5 Features:\n▇▇▇▇▇ Feature 0: 0.171\n▆▆▆▆▆ Feature 1: 0.151\n▆▆▆▆▆ Feature 2: 0.149\n▅▅▅▅▅ Feature 4: 0.139\n▁▁▁▁▁ Feature 3: 0.068\n",
           "Token:  representation\nFP Saliency: 0.143\nQuant Saliency: 0.165\nΔ Saliency: 0.022\n\nTop-5 Features:\n▇▇▇▇▇ Feature 2: 0.216\n▆▆▆▆▆ Feature 1: 0.199\n▅▅▅▅▅ Feature 4: 0.170\n▂▂▂▂▂ Feature 0: 0.128\n▁▁▁▁▁ Feature 3: 0.099\n",
           "Token:  and\nFP Saliency: 0.163\nQuant Saliency: 0.161\nΔ Saliency: 0.002\n\nTop-5 Features:\n▇▇▇▇▇ Feature 2: 0.326\n▃▃▃▃▃ Feature 0: 0.224\n▃▃▃▃▃ Feature 1: 0.202\n▂▂▂▂▂ Feature 3: 0.180\n▁▁▁▁▁ Feature 4: 0.149\n",
           "Token:  the\nFP Saliency: 0.135\nQuant Saliency: 0.124\nΔ Saliency: 0.012\n\nTop-5 Features:\n▇▇▇▇▇ Feature 2: 0.244\n▇▇▇▇▇ Feature 3: 0.242\n▅▅▅▅▅ Feature 0: 0.203\n▅▅▅▅▅ Feature 1: 0.199\n▁▁▁▁▁ Feature 4: 0.128\n",
           "Token:  use\nFP Saliency: 0.159\nQuant Saliency: 0.191\nΔ Saliency: 0.032\n\nTop-5 Features:\n▇▇▇▇▇ Feature 2: 0.297\n▆▆▆▆▆ Feature 1: 0.263\n▄▄▄▄▄ Feature 0: 0.210\n▄▄▄▄▄ Feature 3: 0.208\n▁▁▁▁▁ Feature 4: 0.114\n",
           "Token:  of\nFP Saliency: 0.136\nQuant Saliency: 0.156\nΔ Saliency: 0.020\n\nTop-5 Features:\n▇▇▇▇▇ Feature 2: 0.251\n▆▆▆▆▆ Feature 1: 0.215\n▅▅▅▅▅ Feature 0: 0.207\n▃▃▃▃▃ Feature 3: 0.161\n▁▁▁▁▁ Feature 4: 0.106\n"
          ],
          [
           "Token:  high\nFP Saliency: 0.140\nQuant Saliency: 0.152\nΔ Saliency: 0.013\n\nTop-5 Features:\n▇▇▇▇▇ Feature 2: 0.272\n▆▆▆▆▆ Feature 0: 0.249\n▅▅▅▅▅ Feature 3: 0.230\n▂▂▂▂▂ Feature 1: 0.193\n▁▁▁▁▁ Feature 4: 0.167\n",
           "Token:  performance\nFP Saliency: 0.139\nQuant Saliency: 0.201\nΔ Saliency: 0.062\n\nTop-5 Features:\n▇▇▇▇▇ Feature 1: 0.303\n▇▇▇▇▇ Feature 3: 0.290\n▅▅▅▅▅ Feature 4: 0.253\n▂▂▂▂▂ Feature 0: 0.208\n▁▁▁▁▁ Feature 2: 0.179\n",
           "Token:  vector\nFP Saliency: 0.147\nQuant Saliency: 0.142\nΔ Saliency: 0.005\n\nTop-5 Features:\n▇▇▇▇▇ Feature 1: 0.285\n▇▇▇▇▇ Feature 0: 0.260\n▄▄▄▄▄ Feature 3: 0.183\n▃▃▃▃▃ Feature 4: 0.167\n▁▁▁▁▁ Feature 2: 0.098\n",
           "Token: ized\nFP Saliency: 0.123\nQuant Saliency: 0.149\nΔ Saliency: 0.025\n\nTop-5 Features:\n▇▇▇▇▇ Feature 4: 0.249\n▆▆▆▆▆ Feature 0: 0.225\n▄▄▄▄▄ Feature 1: 0.195\n▂▂▂▂▂ Feature 3: 0.148\n▁▁▁▁▁ Feature 2: 0.129\n",
           "Token:  operations\nFP Saliency: 0.178\nQuant Saliency: 0.124\nΔ Saliency: 0.054\n\nTop-5 Features:\n▇▇▇▇▇ Feature 4: 0.414\n▄▄▄▄▄ Feature 0: 0.229\n▄▄▄▄▄ Feature 3: 0.206\n▂▂▂▂▂ Feature 1: 0.142\n▁▁▁▁▁ Feature 2: 0.043\n",
           "Token:  on\nFP Saliency: 0.134\nQuant Saliency: 0.162\nΔ Saliency: 0.028\n\nTop-5 Features:\n▇▇▇▇▇ Feature 2: 0.227\n▅▅▅▅▅ Feature 4: 0.200\n▃▃▃▃▃ Feature 0: 0.181\n▂▂▂▂▂ Feature 3: 0.174\n▁▁▁▁▁ Feature 1: 0.160\n",
           "Token:  many\nFP Saliency: 0.155\nQuant Saliency: 0.148\nΔ Saliency: 0.007\n\nTop-5 Features:\n▇▇▇▇▇ Feature 2: 0.254\n▆▆▆▆▆ Feature 3: 0.214\n▅▅▅▅▅ Feature 0: 0.187\n▅▅▅▅▅ Feature 4: 0.183\n▁▁▁▁▁ Feature 1: 0.071\n",
           "Token:  hardware\nFP Saliency: 0.142\nQuant Saliency: 0.188\nΔ Saliency: 0.046\n\nTop-5 Features:\n▇▇▇▇▇ Feature 4: 0.261\n▇▇▇▇▇ Feature 0: 0.239\n▆▆▆▆▆ Feature 3: 0.189\n▃▃▃▃▃ Feature 1: 0.114\n▁▁▁▁▁ Feature 2: 0.006\n",
           "Token:  platforms\nFP Saliency: 0.137\nQuant Saliency: 0.181\nΔ Saliency: 0.044\n\nTop-5 Features:\n▇▇▇▇▇ Feature 0: 0.289\n▅▅▅▅▅ Feature 4: 0.207\n▄▄▄▄▄ Feature 3: 0.184\n▁▁▁▁▁ Feature 1: 0.089\n▁▁▁▁▁ Feature 2: 0.076\n",
           "Token: .\nFP Saliency: 0.163\nQuant Saliency: 0.146\nΔ Saliency: 0.017\n\nTop-5 Features:\n▇▇▇▇▇ Feature 2: 0.292\n▄▄▄▄▄ Feature 0: 0.169\n▃▃▃▃▃ Feature 3: 0.152\n▁▁▁▁▁ Feature 4: 0.082\n▁▁▁▁▁ Feature 1: 0.059\n",
           "Token:  Py\nFP Saliency: 0.150\nQuant Saliency: 0.149\nΔ Saliency: 0.000\n\nTop-5 Features:\n▇▇▇▇▇ Feature 3: 0.320\n▇▇▇▇▇ Feature 0: 0.309\n▅▅▅▅▅ Feature 1: 0.215\n▄▄▄▄▄ Feature 2: 0.194\n▁▁▁▁▁ Feature 4: 0.035\n",
           "Token: Tor\nFP Saliency: 0.133\nQuant Saliency: 0.119\nΔ Saliency: 0.014\n\nTop-5 Features:\n▇▇▇▇▇ Feature 0: 0.258\n▇▇▇▇▇ Feature 2: 0.255\n▄▄▄▄▄ Feature 3: 0.193\n▃▃▃▃▃ Feature 1: 0.174\n▁▁▁▁▁ Feature 4: 0.141\n",
           "Token: ch\nFP Saliency: 0.179\nQuant Saliency: 0.141\nΔ Saliency: 0.038\n\nTop-5 Features:\n▇▇▇▇▇ Feature 0: 0.265\n▅▅▅▅▅ Feature 3: 0.201\n▂▂▂▂▂ Feature 4: 0.134\n▂▂▂▂▂ Feature 2: 0.112\n▁▁▁▁▁ Feature 1: 0.085\n",
           "Token:  supports\nFP Saliency: 0.165\nQuant Saliency: 0.192\nΔ Saliency: 0.028\n\nTop-5 Features:\n▇▇▇▇▇ Feature 3: 0.232\n▄▄▄▄▄ Feature 2: 0.203\n▂▂▂▂▂ Feature 4: 0.178\n▁▁▁▁▁ Feature 1: 0.169\n▁▁▁▁▁ Feature 0: 0.168\n",
           "Token:  INT\nFP Saliency: 0.149\nQuant Saliency: 0.126\nΔ Saliency: 0.023\n\nTop-5 Features:\n▇▇▇▇▇ Feature 3: 0.280\n▅▅▅▅▅ Feature 2: 0.203\n▅▅▅▅▅ Feature 1: 0.183\n▄▄▄▄▄ Feature 4: 0.154\n▁▁▁▁▁ Feature 0: 0.015\n",
           "Token: 8\nFP Saliency: 0.136\nQuant Saliency: 0.111\nΔ Saliency: 0.025\n\nTop-5 Features:\n▇▇▇▇▇ Feature 0: 0.302\n▆▆▆▆▆ Feature 1: 0.262\n▄▄▄▄▄ Feature 3: 0.186\n▁▁▁▁▁ Feature 4: 0.088\n▁▁▁▁▁ Feature 2: 0.069\n",
           "Token:  quantization\nFP Saliency: 0.163\nQuant Saliency: 0.180\nΔ Saliency: 0.017\n\nTop-5 Features:\n▇▇▇▇▇ Feature 0: 0.293\n▄▄▄▄▄ Feature 1: 0.177\n▄▄▄▄▄ Feature 4: 0.167\n▃▃▃▃▃ Feature 3: 0.125\n▁▁▁▁▁ Feature 2: 0.038\n",
           "Token:  compared\nFP Saliency: 0.156\nQuant Saliency: 0.114\nΔ Saliency: 0.042\n\nTop-5 Features:\n▇▇▇▇▇ Feature 2: 0.304\n▂▂▂▂▂ Feature 3: 0.171\n▁▁▁▁▁ Feature 4: 0.161\n▁▁▁▁▁ Feature 1: 0.154\n▁▁▁▁▁ Feature 0: 0.147\n",
           "Token:  to\nFP Saliency: 0.165\nQuant Saliency: 0.162\nΔ Saliency: 0.003\n\nTop-5 Features:\n▇▇▇▇▇ Feature 2: 0.287\n▅▅▅▅▅ Feature 3: 0.232\n▁▁▁▁▁ Feature 1: 0.116\n▁▁▁▁▁ Feature 0: 0.112\n▁▁▁▁▁ Feature 4: 0.110\n",
           "Token:  typical\nFP Saliency: 0.141\nQuant Saliency: 0.124\nΔ Saliency: 0.016\n\nTop-5 Features:\n▇▇▇▇▇ Feature 2: 0.272\n▆▆▆▆▆ Feature 3: 0.237\n▆▆▆▆▆ Feature 0: 0.236\n▂▂▂▂▂ Feature 4: 0.093\n▁▁▁▁▁ Feature 1: 0.057\n",
           "Token:  FP\nFP Saliency: 0.169\nQuant Saliency: 0.132\nΔ Saliency: 0.037\n\nTop-5 Features:\n▇▇▇▇▇ Feature 3: 0.253\n▄▄▄▄▄ Feature 0: 0.183\n▃▃▃▃▃ Feature 1: 0.168\n▂▂▂▂▂ Feature 2: 0.163\n▁▁▁▁▁ Feature 4: 0.129\n",
           "Token: 32\nFP Saliency: 0.151\nQuant Saliency: 0.118\nΔ Saliency: 0.033\n\nTop-5 Features:\n▇▇▇▇▇ Feature 0: 0.311\n▅▅▅▅▅ Feature 3: 0.238\n▄▄▄▄▄ Feature 1: 0.221\n▂▂▂▂▂ Feature 2: 0.149\n▁▁▁▁▁ Feature 4: 0.116\n",
           "Token:  models\nFP Saliency: 0.124\nQuant Saliency: 0.149\nΔ Saliency: 0.025\n\nTop-5 Features:\n▇▇▇▇▇ Feature 0: 0.221\n▆▆▆▆▆ Feature 4: 0.192\n▅▅▅▅▅ Feature 3: 0.150\n▂▂▂▂▂ Feature 2: 0.080\n▁▁▁▁▁ Feature 1: 0.055\n",
           "Token:  allowing\nFP Saliency: 0.172\nQuant Saliency: 0.160\nΔ Saliency: 0.011\n\nTop-5 Features:\n▇▇▇▇▇ Feature 2: 0.327\n▂▂▂▂▂ Feature 3: 0.176\n▂▂▂▂▂ Feature 0: 0.169\n▁▁▁▁▁ Feature 1: 0.160\n▁▁▁▁▁ Feature 4: 0.134\n",
           "Token:  for\nFP Saliency: 0.165\nQuant Saliency: 0.150\nΔ Saliency: 0.014\n\nTop-5 Features:\n▇▇▇▇▇ Feature 2: 0.293\n▇▇▇▇▇ Feature 1: 0.277\n▅▅▅▅▅ Feature 3: 0.228\n▅▅▅▅▅ Feature 0: 0.224\n▁▁▁▁▁ Feature 4: 0.127\n",
           "Token:  a\nFP Saliency: 0.153\nQuant Saliency: 0.127\nΔ Saliency: 0.026\n\nTop-5 Features:\n▇▇▇▇▇ Feature 0: 0.261\n▆▆▆▆▆ Feature 3: 0.235\n▅▅▅▅▅ Feature 2: 0.196\n▅▅▅▅▅ Feature 1: 0.194\n▁▁▁▁▁ Feature 4: 0.086\n",
           "Token:  4\nFP Saliency: 0.144\nQuant Saliency: 0.114\nΔ Saliency: 0.030\n\nTop-5 Features:\n▇▇▇▇▇ Feature 0: 0.283\n▄▄▄▄▄ Feature 1: 0.214\n▄▄▄▄▄ Feature 3: 0.210\n▂▂▂▂▂ Feature 2: 0.177\n▁▁▁▁▁ Feature 4: 0.151\n",
           "Token: x\nFP Saliency: 0.143\nQuant Saliency: 0.109\nΔ Saliency: 0.034\n\nTop-5 Features:\n▇▇▇▇▇ Feature 0: 0.320\n▇▇▇▇▇ Feature 2: 0.316\n▆▆▆▆▆ Feature 3: 0.288\n▅▅▅▅▅ Feature 1: 0.262\n▁▁▁▁▁ Feature 4: 0.182\n",
           "Token:  reduction\nFP Saliency: 0.147\nQuant Saliency: 0.198\nΔ Saliency: 0.051\n\nTop-5 Features:\n▇▇▇▇▇ Feature 4: 0.269\n▇▇▇▇▇ Feature 3: 0.249\n▆▆▆▆▆ Feature 0: 0.230\n▄▄▄▄▄ Feature 2: 0.200\n▁▁▁▁▁ Feature 1: 0.119\n",
           "Token:  in\nFP Saliency: 0.150\nQuant Saliency: 0.135\nΔ Saliency: 0.015\n\nTop-5 Features:\n▇▇▇▇▇ Feature 2: 0.291\n▆▆▆▆▆ Feature 3: 0.254\n▆▆▆▆▆ Feature 0: 0.253\n▃▃▃▃▃ Feature 4: 0.196\n▁▁▁▁▁ Feature 1: 0.138\n"
          ],
          [
           "Token:  the\nFP Saliency: 0.134\nQuant Saliency: 0.115\nΔ Saliency: 0.019\n\nTop-5 Features:\n▇▇▇▇▇ Feature 2: 0.226\n▇▇▇▇▇ Feature 3: 0.226\n▅▅▅▅▅ Feature 0: 0.192\n▃▃▃▃▃ Feature 4: 0.156\n▁▁▁▁▁ Feature 1: 0.112\n",
           "Token:  model\nFP Saliency: 0.135\nQuant Saliency: 0.147\nΔ Saliency: 0.012\n\nTop-5 Features:\n▇▇▇▇▇ Feature 0: 0.178\n▅▅▅▅▅ Feature 1: 0.155\n▃▃▃▃▃ Feature 4: 0.141\n▂▂▂▂▂ Feature 2: 0.124\n▁▁▁▁▁ Feature 3: 0.114\n",
           "Token:  size\nFP Saliency: 0.139\nQuant Saliency: 0.130\nΔ Saliency: 0.010\n\nTop-5 Features:\n▇▇▇▇▇ Feature 2: 0.266\n▆▆▆▆▆ Feature 3: 0.203\n▅▅▅▅▅ Feature 0: 0.192\n▅▅▅▅▅ Feature 4: 0.184\n▁▁▁▁▁ Feature 1: 0.038\n",
           "Token:  and\nFP Saliency: 0.158\nQuant Saliency: 0.135\nΔ Saliency: 0.024\n\nTop-5 Features:\n▇▇▇▇▇ Feature 2: 0.271\n▇▇▇▇▇ Feature 0: 0.256\n▃▃▃▃▃ Feature 1: 0.176\n▁▁▁▁▁ Feature 4: 0.149\n▁▁▁▁▁ Feature 3: 0.136\n",
           "Token:  a\nFP Saliency: 0.136\nQuant Saliency: 0.129\nΔ Saliency: 0.008\n\nTop-5 Features:\n▇▇▇▇▇ Feature 0: 0.259\n▅▅▅▅▅ Feature 3: 0.223\n▅▅▅▅▅ Feature 1: 0.211\n▄▄▄▄▄ Feature 2: 0.192\n▁▁▁▁▁ Feature 4: 0.133\n",
           "Token:  4\nFP Saliency: 0.165\nQuant Saliency: 0.112\nΔ Saliency: 0.052\n\nTop-5 Features:\n▇▇▇▇▇ Feature 0: 0.353\n▄▄▄▄▄ Feature 3: 0.260\n▂▂▂▂▂ Feature 1: 0.220\n▁▁▁▁▁ Feature 2: 0.194\n▁▁▁▁▁ Feature 4: 0.170\n",
           "Token: x\nFP Saliency: 0.158\nQuant Saliency: 0.104\nΔ Saliency: 0.054\n\nTop-5 Features:\n▇▇▇▇▇ Feature 0: 0.355\n▅▅▅▅▅ Feature 2: 0.310\n▅▅▅▅▅ Feature 3: 0.304\n▃▃▃▃▃ Feature 1: 0.266\n▁▁▁▁▁ Feature 4: 0.201\n",
           "Token:  reduction\nFP Saliency: 0.147\nQuant Saliency: 0.191\nΔ Saliency: 0.045\n\nTop-5 Features:\n▇▇▇▇▇ Feature 4: 0.343\n▃▃▃▃▃ Feature 2: 0.257\n▃▃▃▃▃ Feature 3: 0.242\n▂▂▂▂▂ Feature 0: 0.227\n▁▁▁▁▁ Feature 1: 0.194\n",
           "Token:  in\nFP Saliency: 0.157\nQuant Saliency: 0.136\nΔ Saliency: 0.021\n\nTop-5 Features:\n▇▇▇▇▇ Feature 2: 0.250\n▆▆▆▆▆ Feature 4: 0.226\n▄▄▄▄▄ Feature 0: 0.209\n▄▄▄▄▄ Feature 3: 0.206\n▁▁▁▁▁ Feature 1: 0.158\n",
           "Token:  memory\nFP Saliency: 0.136\nQuant Saliency: 0.198\nΔ Saliency: 0.061\n\nTop-5 Features:\n▇▇▇▇▇ Feature 0: 0.317\n▄▄▄▄▄ Feature 3: 0.240\n▂▂▂▂▂ Feature 2: 0.196\n▁▁▁▁▁ Feature 4: 0.185\n▁▁▁▁▁ Feature 1: 0.174\n",
           "Token:  bandwidth\nFP Saliency: 0.139\nQuant Saliency: 0.136\nΔ Saliency: 0.004\n\nTop-5 Features:\n▇▇▇▇▇ Feature 0: 0.239\n▅▅▅▅▅ Feature 4: 0.178\n▄▄▄▄▄ Feature 3: 0.150\n▄▄▄▄▄ Feature 2: 0.136\n▁▁▁▁▁ Feature 1: 0.038\n",
           "Token:  requirements\nFP Saliency: 0.133\nQuant Saliency: 0.134\nΔ Saliency: 0.001\n\nTop-5 Features:\n▇▇▇▇▇ Feature 4: 0.292\n▇▇▇▇▇ Feature 2: 0.281\n▅▅▅▅▅ Feature 0: 0.179\n▂▂▂▂▂ Feature 3: 0.085\n▁▁▁▁▁ Feature 1: 0.003\n",
           "Token: .\nFP Saliency: 0.169\nQuant Saliency: 0.123\nΔ Saliency: 0.046\n\nTop-5 Features:\n▇▇▇▇▇ Feature 2: 0.259\n▄▄▄▄▄ Feature 0: 0.178\n▂▂▂▂▂ Feature 4: 0.111\n▂▂▂▂▂ Feature 3: 0.108\n▁▁▁▁▁ Feature 1: 0.070\n",
           "Token:  Hard\nFP Saliency: 0.135\nQuant Saliency: 0.112\nΔ Saliency: 0.022\n\nTop-5 Features:\n▇▇▇▇▇ Feature 0: 0.245\n▂▂▂▂▂ Feature 1: 0.187\n▂▂▂▂▂ Feature 3: 0.184\n▁▁▁▁▁ Feature 2: 0.181\n▁▁▁▁▁ Feature 4: 0.173\n",
           "Token: ware\nFP Saliency: 0.126\nQuant Saliency: 0.175\nΔ Saliency: 0.049\n\nTop-5 Features:\n▇▇▇▇▇ Feature 0: 0.217\n▇▇▇▇▇ Feature 4: 0.193\n▇▇▇▇▇ Feature 3: 0.192\n▄▄▄▄▄ Feature 1: 0.103\n▁▁▁▁▁ Feature 2: 0.011\n",
           "Token:  support\nFP Saliency: 0.138\nQuant Saliency: 0.191\nΔ Saliency: 0.054\n\nTop-5 Features:\n▇▇▇▇▇ Feature 4: 0.231\n▇▇▇▇▇ Feature 0: 0.222\n▆▆▆▆▆ Feature 3: 0.216\n▄▄▄▄▄ Feature 1: 0.185\n▁▁▁▁▁ Feature 2: 0.135\n",
           "Token:  for\nFP Saliency: 0.131\nQuant Saliency: 0.147\nΔ Saliency: 0.016\n\nTop-5 Features:\n▇▇▇▇▇ Feature 2: 0.246\n▄▄▄▄▄ Feature 3: 0.204\n▃▃▃▃▃ Feature 0: 0.195\n▁▁▁▁▁ Feature 1: 0.162\n▁▁▁▁▁ Feature 4: 0.162\n",
           "Token:  INT\nFP Saliency: 0.127\nQuant Saliency: 0.125\nΔ Saliency: 0.001\n\nTop-5 Features:\n▇▇▇▇▇ Feature 3: 0.333\n▄▄▄▄▄ Feature 2: 0.210\n▄▄▄▄▄ Feature 1: 0.206\n▃▃▃▃▃ Feature 4: 0.177\n▁▁▁▁▁ Feature 0: 0.089\n",
           "Token: 8\nFP Saliency: 0.137\nQuant Saliency: 0.110\nΔ Saliency: 0.027\n\nTop-5 Features:\n▇▇▇▇▇ Feature 0: 0.388\n▇▇▇▇▇ Feature 1: 0.356\n▅▅▅▅▅ Feature 3: 0.279\n▁▁▁▁▁ Feature 4: 0.082\n▁▁▁▁▁ Feature 2: 0.051\n",
           "Token:  computations\nFP Saliency: 0.150\nQuant Saliency: 0.153\nΔ Saliency: 0.003\n\nTop-5 Features:\n▇▇▇▇▇ Feature 4: 0.355\n▅▅▅▅▅ Feature 0: 0.247\n▅▅▅▅▅ Feature 3: 0.245\n▁▁▁▁▁ Feature 2: 0.045\n▁▁▁▁▁ Feature 1: 0.018\n",
           "Token:  is\nFP Saliency: 0.157\nQuant Saliency: 0.180\nΔ Saliency: 0.023\n\nTop-5 Features:\n▇▇▇▇▇ Feature 2: 0.271\n▅▅▅▅▅ Feature 3: 0.212\n▁▁▁▁▁ Feature 0: 0.143\n▁▁▁▁▁ Feature 4: 0.141\n▁▁▁▁▁ Feature 1: 0.127\n",
           "Token:  typically\nFP Saliency: 0.152\nQuant Saliency: 0.164\nΔ Saliency: 0.012\n\nTop-5 Features:\n▇▇▇▇▇ Feature 2: 0.359\n▆▆▆▆▆ Feature 3: 0.267\n▄▄▄▄▄ Feature 0: 0.201\n▃▃▃▃▃ Feature 4: 0.170\n▁▁▁▁▁ Feature 1: 0.032\n",
           "Token:  2\nFP Saliency: 0.142\nQuant Saliency: 0.122\nΔ Saliency: 0.020\n\nTop-5 Features:\n▇▇▇▇▇ Feature 0: 0.258\n▅▅▅▅▅ Feature 2: 0.184\n▄▄▄▄▄ Feature 3: 0.175\n▃▃▃▃▃ Feature 4: 0.135\n▁▁▁▁▁ Feature 1: 0.070\n",
           "Token:  to\nFP Saliency: 0.148\nQuant Saliency: 0.136\nΔ Saliency: 0.013\n\nTop-5 Features:\n▇▇▇▇▇ Feature 3: 0.352\n▆▆▆▆▆ Feature 0: 0.297\n▄▄▄▄▄ Feature 2: 0.232\n▂▂▂▂▂ Feature 4: 0.162\n▁▁▁▁▁ Feature 1: 0.115\n",
           "Token:  4\nFP Saliency: 0.143\nQuant Saliency: 0.112\nΔ Saliency: 0.031\n\nTop-5 Features:\n▇▇▇▇▇ Feature 0: 0.420\n▅▅▅▅▅ Feature 3: 0.305\n▅▅▅▅▅ Feature 2: 0.282\n▄▄▄▄▄ Feature 4: 0.244\n▁▁▁▁▁ Feature 1: 0.089\n",
           "Token:  times\nFP Saliency: 0.155\nQuant Saliency: 0.137\nΔ Saliency: 0.018\n\nTop-5 Features:\n▇▇▇▇▇ Feature 2: 0.341\n▇▇▇▇▇ Feature 0: 0.334\n▆▆▆▆▆ Feature 3: 0.282\n▅▅▅▅▅ Feature 4: 0.246\n▁▁▁▁▁ Feature 1: 0.113\n",
           "Token:  faster\nFP Saliency: 0.153\nQuant Saliency: 0.110\nΔ Saliency: 0.043\n\nTop-5 Features:\n▇▇▇▇▇ Feature 2: 0.305\n▇▇▇▇▇ Feature 4: 0.299\n▇▇▇▇▇ Feature 3: 0.273\n▆▆▆▆▆ Feature 0: 0.250\n▁▁▁▁▁ Feature 1: 0.055\n",
           "Token:  compared\nFP Saliency: 0.188\nQuant Saliency: 0.113\nΔ Saliency: 0.075\n\nTop-5 Features:\n▇▇▇▇▇ Feature 2: 0.393\n▂▂▂▂▂ Feature 0: 0.182\n▁▁▁▁▁ Feature 3: 0.174\n▁▁▁▁▁ Feature 1: 0.158\n▁▁▁▁▁ Feature 4: 0.146\n",
           "Token:  to\nFP Saliency: 0.182\nQuant Saliency: 0.140\nΔ Saliency: 0.042\n\nTop-5 Features:\n▇▇▇▇▇ Feature 2: 0.343\n▅▅▅▅▅ Feature 3: 0.242\n▃▃▃▃▃ Feature 0: 0.154\n▃▃▃▃▃ Feature 4: 0.130\n▁▁▁▁▁ Feature 1: 0.044\n",
           "Token:  FP\nFP Saliency: 0.174\nQuant Saliency: 0.128\nΔ Saliency: 0.046\n\nTop-5 Features:\n▇▇▇▇▇ Feature 3: 0.296\n▃▃▃▃▃ Feature 0: 0.213\n▃▃▃▃▃ Feature 1: 0.212\n▁▁▁▁▁ Feature 2: 0.181\n▁▁▁▁▁ Feature 4: 0.177\n"
          ],
          [
           "Token: 32\nFP Saliency: 0.129\nQuant Saliency: 0.117\nΔ Saliency: 0.011\n\nTop-5 Features:\n▇▇▇▇▇ Feature 0: 0.282\n▆▆▆▆▆ Feature 3: 0.233\n▅▅▅▅▅ Feature 1: 0.225\n▂▂▂▂▂ Feature 2: 0.159\n▁▁▁▁▁ Feature 4: 0.112\n",
           "Token:  compute\nFP Saliency: 0.140\nQuant Saliency: 0.153\nΔ Saliency: 0.013\n\nTop-5 Features:\n▇▇▇▇▇ Feature 4: 0.322\n▆▆▆▆▆ Feature 3: 0.288\n▆▆▆▆▆ Feature 0: 0.281\n▁▁▁▁▁ Feature 2: 0.138\n▁▁▁▁▁ Feature 1: 0.119\n",
           "Token: .\nFP Saliency: 0.182\nQuant Saliency: 0.128\nΔ Saliency: 0.054\n\nTop-5 Features:\n▇▇▇▇▇ Feature 2: 0.283\n▄▄▄▄▄ Feature 0: 0.178\n▂▂▂▂▂ Feature 3: 0.123\n▂▂▂▂▂ Feature 4: 0.102\n▁▁▁▁▁ Feature 1: 0.067\n",
           "Token:  Quant\nFP Saliency: 0.125\nQuant Saliency: 0.122\nΔ Saliency: 0.003\n\nTop-5 Features:\n▇▇▇▇▇ Feature 3: 0.256\n▇▇▇▇▇ Feature 0: 0.243\n▆▆▆▆▆ Feature 1: 0.225\n▂▂▂▂▂ Feature 2: 0.133\n▁▁▁▁▁ Feature 4: 0.110\n",
           "Token: ization\nFP Saliency: 0.169\nQuant Saliency: 0.106\nΔ Saliency: 0.063\n\nTop-5 Features:\n▇▇▇▇▇ Feature 1: 0.249\n▇▇▇▇▇ Feature 0: 0.221\n▅▅▅▅▅ Feature 4: 0.168\n▂▂▂▂▂ Feature 3: 0.076\n▁▁▁▁▁ Feature 2: 0.014\n",
           "Token:  is\nFP Saliency: 0.147\nQuant Saliency: 0.175\nΔ Saliency: 0.027\n\nTop-5 Features:\n▇▇▇▇▇ Feature 2: 0.219\n▇▇▇▇▇ Feature 3: 0.214\n▆▆▆▆▆ Feature 4: 0.200\n▆▆▆▆▆ Feature 1: 0.196\n▁▁▁▁▁ Feature 0: 0.092\n",
           "Token:  primarily\nFP Saliency: 0.145\nQuant Saliency: 0.151\nΔ Saliency: 0.007\n\nTop-5 Features:\n▇▇▇▇▇ Feature 2: 0.296\n▆▆▆▆▆ Feature 3: 0.263\n▁▁▁▁▁ Feature 4: 0.160\n▁▁▁▁▁ Feature 0: 0.149\n▁▁▁▁▁ Feature 1: 0.142\n",
           "Token:  a\nFP Saliency: 0.138\nQuant Saliency: 0.130\nΔ Saliency: 0.008\n\nTop-5 Features:\n▇▇▇▇▇ Feature 3: 0.294\n▅▅▅▅▅ Feature 1: 0.242\n▄▄▄▄▄ Feature 2: 0.213\n▁▁▁▁▁ Feature 4: 0.168\n▁▁▁▁▁ Feature 0: 0.148\n",
           "Token:  technique\nFP Saliency: 0.129\nQuant Saliency: 0.135\nΔ Saliency: 0.006\n\nTop-5 Features:\n▇▇▇▇▇ Feature 4: 0.320\n▅▅▅▅▅ Feature 2: 0.234\n▅▅▅▅▅ Feature 3: 0.231\n▅▅▅▅▅ Feature 1: 0.219\n▁▁▁▁▁ Feature 0: 0.069\n",
           "Token:  to\nFP Saliency: 0.129\nQuant Saliency: 0.127\nΔ Saliency: 0.002\n\nTop-5 Features:\n▇▇▇▇▇ Feature 3: 0.268\n▇▇▇▇▇ Feature 2: 0.254\n▇▇▇▇▇ Feature 4: 0.250\n▃▃▃▃▃ Feature 1: 0.187\n▁▁▁▁▁ Feature 0: 0.140\n",
           "Token:  speed\nFP Saliency: 0.135\nQuant Saliency: 0.116\nΔ Saliency: 0.019\n\nTop-5 Features:\n▇▇▇▇▇ Feature 4: 0.277\n▅▅▅▅▅ Feature 2: 0.237\n▄▄▄▄▄ Feature 0: 0.223\n▃▃▃▃▃ Feature 3: 0.214\n▁▁▁▁▁ Feature 1: 0.175\n",
           "Token:  up\nFP Saliency: 0.138\nQuant Saliency: 0.113\nΔ Saliency: 0.025\n\nTop-5 Features:\n▇▇▇▇▇ Feature 4: 0.229\n▆▆▆▆▆ Feature 3: 0.205\n▆▆▆▆▆ Feature 2: 0.200\n▆▆▆▆▆ Feature 0: 0.193\n▁▁▁▁▁ Feature 1: 0.085\n",
           "Token:  inference\nFP Saliency: 0.145\nQuant Saliency: 0.202\nΔ Saliency: 0.057\n\nTop-5 Features:\n▇▇▇▇▇ Feature 0: 0.273\n▅▅▅▅▅ Feature 3: 0.221\n▂▂▂▂▂ Feature 4: 0.180\n▁▁▁▁▁ Feature 1: 0.151\n▁▁▁▁▁ Feature 2: 0.149\n",
           "Token:  and\nFP Saliency: 0.151\nQuant Saliency: 0.133\nΔ Saliency: 0.018\n\nTop-5 Features:\n▇▇▇▇▇ Feature 2: 0.235\n▅▅▅▅▅ Feature 0: 0.203\n▂▂▂▂▂ Feature 4: 0.161\n▂▂▂▂▂ Feature 3: 0.155\n▁▁▁▁▁ Feature 1: 0.131\n",
           "Token:  only\nFP Saliency: 0.125\nQuant Saliency: 0.127\nΔ Saliency: 0.002\n\nTop-5 Features:\n▇▇▇▇▇ Feature 2: 0.253\n▇▇▇▇▇ Feature 4: 0.245\n▆▆▆▆▆ Feature 1: 0.200\n▅▅▅▅▅ Feature 3: 0.162\n▁▁▁▁▁ Feature 0: 0.030\n",
           "Token:  the\nFP Saliency: 0.123\nQuant Saliency: 0.127\nΔ Saliency: 0.004\n\nTop-5 Features:\n▇▇▇▇▇ Feature 2: 0.247\n▇▇▇▇▇ Feature 3: 0.245\n▆▆▆▆▆ Feature 1: 0.224\n▅▅▅▅▅ Feature 4: 0.209\n▁▁▁▁▁ Feature 0: 0.139\n",
           "Token:  forward\nFP Saliency: 0.131\nQuant Saliency: 0.170\nΔ Saliency: 0.039\n\nTop-5 Features:\n▇▇▇▇▇ Feature 3: 0.171\n▇▇▇▇▇ Feature 0: 0.162\n▅▅▅▅▅ Feature 1: 0.142\n▁▁▁▁▁ Feature 4: 0.083\n▁▁▁▁▁ Feature 2: 0.081\n",
           "Token:  pass\nFP Saliency: 0.151\nQuant Saliency: 0.154\nΔ Saliency: 0.004\n\nTop-5 Features:\n▇▇▇▇▇ Feature 0: 0.241\n▅▅▅▅▅ Feature 1: 0.192\n▅▅▅▅▅ Feature 3: 0.191\n▄▄▄▄▄ Feature 4: 0.164\n▁▁▁▁▁ Feature 2: 0.074\n",
           "Token:  is\nFP Saliency: 0.138\nQuant Saliency: 0.173\nΔ Saliency: 0.035\n\nTop-5 Features:\n▇▇▇▇▇ Feature 3: 0.265\n▅▅▅▅▅ Feature 4: 0.238\n▄▄▄▄▄ Feature 2: 0.219\n▁▁▁▁▁ Feature 1: 0.178\n▁▁▁▁▁ Feature 0: 0.174\n",
           "Token:  supported\nFP Saliency: 0.112\nQuant Saliency: 0.150\nΔ Saliency: 0.038\n\nTop-5 Features:\n▇▇▇▇▇ Feature 1: 0.219\n▇▇▇▇▇ Feature 3: 0.216\n▇▇▇▇▇ Feature 0: 0.213\n▆▆▆▆▆ Feature 4: 0.209\n▁▁▁▁▁ Feature 2: 0.156\n",
           "Token:  for\nFP Saliency: 0.165\nQuant Saliency: 0.132\nΔ Saliency: 0.033\n\nTop-5 Features:\n▇▇▇▇▇ Feature 1: 0.280\n▅▅▅▅▅ Feature 3: 0.240\n▅▅▅▅▅ Feature 2: 0.234\n▂▂▂▂▂ Feature 4: 0.193\n▁▁▁▁▁ Feature 0: 0.167\n",
           "Token:  quant\nFP Saliency: 0.137\nQuant Saliency: 0.125\nΔ Saliency: 0.012\n\nTop-5 Features:\n▇▇▇▇▇ Feature 0: 0.284\n▇▇▇▇▇ Feature 1: 0.281\n▅▅▅▅▅ Feature 3: 0.234\n▂▂▂▂▂ Feature 4: 0.164\n▁▁▁▁▁ Feature 2: 0.134\n",
           "Token: ized\nFP Saliency: 0.147\nQuant Saliency: 0.131\nΔ Saliency: 0.016\n\nTop-5 Features:\n▇▇▇▇▇ Feature 1: 0.330\n▅▅▅▅▅ Feature 0: 0.237\n▃▃▃▃▃ Feature 3: 0.191\n▃▃▃▃▃ Feature 4: 0.161\n▁▁▁▁▁ Feature 2: 0.091\n",
           "Token:  operators\nFP Saliency: 0.141\nQuant Saliency: 0.104\nΔ Saliency: 0.038\n\nTop-5 Features:\n▇▇▇▇▇ Feature 4: 0.288\n▅▅▅▅▅ Feature 0: 0.204\n▄▄▄▄▄ Feature 3: 0.162\n▃▃▃▃▃ Feature 1: 0.133\n▁▁▁▁▁ Feature 2: 0.019\n",
           "Token: .\nFP Saliency: 0.146\nQuant Saliency: 0.137\nΔ Saliency: 0.009\n\nTop-5 Features:\n▇▇▇▇▇ Feature 2: 0.208\n▄▄▄▄▄ Feature 3: 0.143\n▃▃▃▃▃ Feature 0: 0.133\n▃▃▃▃▃ Feature 4: 0.128\n▁▁▁▁▁ Feature 1: 0.080\n",
           "",
           "",
           "",
           "",
           ""
          ]
         ],
         "reversescale": true,
         "showscale": true,
         "text": [
          [
           "Quant",
           "ization",
           " refers",
           " to",
           " techniques",
           " for",
           " performing",
           " computations",
           " and",
           " storing",
           " tensors",
           " at",
           " lower",
           " bit",
           "width",
           "s",
           " than",
           " floating",
           " point",
           " precision",
           ".",
           "A",
           " quant",
           "ized",
           " model",
           " executes",
           " some",
           " or",
           " all",
           " of"
          ],
          [
           " the",
           " operations",
           " on",
           " tensors",
           " with",
           " reduced",
           " precision",
           " rather",
           " than",
           " full",
           " precision",
           " (",
           "flo",
           "ating",
           " point",
           ")",
           " values",
           ".",
           " This",
           " allows",
           " for",
           " a",
           " more",
           " compact",
           " model",
           " representation",
           " and",
           " the",
           " use",
           " of"
          ],
          [
           " high",
           " performance",
           " vector",
           "ized",
           " operations",
           " on",
           " many",
           " hardware",
           " platforms",
           ".",
           " Py",
           "Tor",
           "ch",
           " supports",
           " INT",
           "8",
           " quantization",
           " compared",
           " to",
           " typical",
           " FP",
           "32",
           " models",
           " allowing",
           " for",
           " a",
           " 4",
           "x",
           " reduction",
           " in"
          ],
          [
           " the",
           " model",
           " size",
           " and",
           " a",
           " 4",
           "x",
           " reduction",
           " in",
           " memory",
           " bandwidth",
           " requirements",
           ".",
           " Hard",
           "ware",
           " support",
           " for",
           " INT",
           "8",
           " computations",
           " is",
           " typically",
           " 2",
           " to",
           " 4",
           " times",
           " faster",
           " compared",
           " to",
           " FP"
          ],
          [
           "32",
           " compute",
           ".",
           " Quant",
           "ization",
           " is",
           " primarily",
           " a",
           " technique",
           " to",
           " speed",
           " up",
           " inference",
           " and",
           " only",
           " the",
           " forward",
           " pass",
           " is",
           " supported",
           " for",
           " quant",
           "ized",
           " operators",
           ".",
           "",
           "",
           "",
           "",
           ""
          ]
         ],
         "textfont": {
          "family": "Times New Roman",
          "size": 10
         },
         "texttemplate": "%{text}",
         "type": "heatmap",
         "xgap": 2,
         "ygap": 2,
         "z": {
          "bdata": "AAAAoPTj2D8AAABghs3uPwAAACAjeuc/AAAAIDKKyz8AAAAAOT6HPwAAAED/r80/AAAAQCpa2j8AAAAgIpbKPwAAAGBBHbc/AAAAACzKez8AAAAgGHbfPwAAAABx+eQ/AAAAoEoh3j8AAAAA1IzIPwAAAACz54o/AAAAQBe1xz8AAABAYX/LPwAAAMDkb+I/AAAAIOI46D8AAAAAZjvhPwAAAADr/u8/AAAAIJ1H4j8AAACguS22PwAAAEAWnr8/AAAAQLpnzT8AAABAD4naPwAAAOD78es/AAAAwDBEwT8AAACgHRazPwAAAMAi/Mg/AAAAYHmk0D8AAACgJOLCPwAAAAANtNw/AAAAoMbIwj8AAAAAKpvhPwAAACA3uOk/AAAAAKBC0D8AAABAVFrLPwAAACCUWOI/AAAAoLDftz8AAADAG+/QPwAAACCU2dU/AAAAIFqzyj8AAACgEte5PwAAAMAxItE/AAAAwJX3vD8AAACA+xDYPwAAAOAfvMI/AAAAADZbrz8AAADAobmWPwAAAGAWY9I/AAAAABBCwj8AAABA9AbmPwAAACD/c4g/AAAAgHSb0D8AAADAqSjSPwAAAGACWJE/AAAA4IHmwj8AAAAgFvHaPwAAAAAy6dA/AAAAQLWRxD8AAABAaBfqPwAAACBQWq4/AAAA4Cgq1T8AAABgqN/mPwAAAADxUNc/AAAA4DfLtj8AAAAA20DjPwAAAIA6QeI/AAAAYA7Fyz8AAAAAAAAAAAAAAAB9ZMY/AAAAgBZx3z8AAAAAJwrXPwAAAEC2PNM/AAAAYIoc1T8AAACgzQTMPwAAAIBzduE/AAAAgE8dpD8AAAAgYC/LPwAAAAAJ/N4/AAAAYCjE2z8AAABgohrVPwAAAGBWr8I/AAAAYACNxz8AAADAZHbVPwAAAOAtq9g/AAAAYHyE3D8AAADAaDvlPwAAAMDhK8g/AAAA4FFszz8AAABgeCzDPwAAAABfBMA/AAAAgAau0z8AAACAeVK4PwAAAEDUBuY/AAAAYJuq5j8AAACAuMPiPwAAAMBJFdE/AAAAAHO06T8AAAAARjWmPwAAAGDh04o/AAAA4JEU4z8AAABg97DSPwAAAKDZkOQ/AAAAACx85j8AAADAKRjLPwAAAGDWlYs/AAAAIOGX1j8AAADAGqOhPwAAAODb59I/AAAAwBaBxD8AAADgu/PQPwAAAAAQncQ/AAAAIPHf2T8AAACg6TTNPwAAAAD24eE/AAAAIP6y7z8AAADgX3/hPwAAAECkFeM/AAAAQP2swj8AAACAcg7FPwAAAIDQreY/AAAAoFY1nT8AAAAAV4rqPwAAACCo39Y/AAAAAHxdtT8AAADAuXm4PwAAAMAfnrE/AAAAIMuPnD8AAAAA5ITPPwAAAMAqrtQ/AAAAAP6+5z8AAABg5fPNPwAAAOC1wZE/AAAAwNgeqz8AAAAgiWDgPwAAAGANg6Y/AAAAoIh/3T8AAAAAZMjfPwAAAKBVi9s/AAAAoJQLwz8AAABgHCHLPwAAAKBInN8/AAAA4Cb7uz8AAAAAAAAAAAAAAAAAAAAAAAAAAAAAAAAAAAAAAAAAAAAAAAAAAAAA",
          "dtype": "f8",
          "shape": "5, 30"
         }
        }
       ],
       "layout": {
        "height": 350,
        "margin": {
         "b": 20,
         "l": 20,
         "r": 20,
         "t": 40
        },
        "paper_bgcolor": "white",
        "plot_bgcolor": "white",
        "template": {
         "data": {
          "bar": [
           {
            "error_x": {
             "color": "#2a3f5f"
            },
            "error_y": {
             "color": "#2a3f5f"
            },
            "marker": {
             "line": {
              "color": "#E5ECF6",
              "width": 0.5
             },
             "pattern": {
              "fillmode": "overlay",
              "size": 10,
              "solidity": 0.2
             }
            },
            "type": "bar"
           }
          ],
          "barpolar": [
           {
            "marker": {
             "line": {
              "color": "#E5ECF6",
              "width": 0.5
             },
             "pattern": {
              "fillmode": "overlay",
              "size": 10,
              "solidity": 0.2
             }
            },
            "type": "barpolar"
           }
          ],
          "carpet": [
           {
            "aaxis": {
             "endlinecolor": "#2a3f5f",
             "gridcolor": "white",
             "linecolor": "white",
             "minorgridcolor": "white",
             "startlinecolor": "#2a3f5f"
            },
            "baxis": {
             "endlinecolor": "#2a3f5f",
             "gridcolor": "white",
             "linecolor": "white",
             "minorgridcolor": "white",
             "startlinecolor": "#2a3f5f"
            },
            "type": "carpet"
           }
          ],
          "choropleth": [
           {
            "colorbar": {
             "outlinewidth": 0,
             "ticks": ""
            },
            "type": "choropleth"
           }
          ],
          "contour": [
           {
            "colorbar": {
             "outlinewidth": 0,
             "ticks": ""
            },
            "colorscale": [
             [
              0,
              "#0d0887"
             ],
             [
              0.1111111111111111,
              "#46039f"
             ],
             [
              0.2222222222222222,
              "#7201a8"
             ],
             [
              0.3333333333333333,
              "#9c179e"
             ],
             [
              0.4444444444444444,
              "#bd3786"
             ],
             [
              0.5555555555555556,
              "#d8576b"
             ],
             [
              0.6666666666666666,
              "#ed7953"
             ],
             [
              0.7777777777777778,
              "#fb9f3a"
             ],
             [
              0.8888888888888888,
              "#fdca26"
             ],
             [
              1,
              "#f0f921"
             ]
            ],
            "type": "contour"
           }
          ],
          "contourcarpet": [
           {
            "colorbar": {
             "outlinewidth": 0,
             "ticks": ""
            },
            "type": "contourcarpet"
           }
          ],
          "heatmap": [
           {
            "colorbar": {
             "outlinewidth": 0,
             "ticks": ""
            },
            "colorscale": [
             [
              0,
              "#0d0887"
             ],
             [
              0.1111111111111111,
              "#46039f"
             ],
             [
              0.2222222222222222,
              "#7201a8"
             ],
             [
              0.3333333333333333,
              "#9c179e"
             ],
             [
              0.4444444444444444,
              "#bd3786"
             ],
             [
              0.5555555555555556,
              "#d8576b"
             ],
             [
              0.6666666666666666,
              "#ed7953"
             ],
             [
              0.7777777777777778,
              "#fb9f3a"
             ],
             [
              0.8888888888888888,
              "#fdca26"
             ],
             [
              1,
              "#f0f921"
             ]
            ],
            "type": "heatmap"
           }
          ],
          "histogram": [
           {
            "marker": {
             "pattern": {
              "fillmode": "overlay",
              "size": 10,
              "solidity": 0.2
             }
            },
            "type": "histogram"
           }
          ],
          "histogram2d": [
           {
            "colorbar": {
             "outlinewidth": 0,
             "ticks": ""
            },
            "colorscale": [
             [
              0,
              "#0d0887"
             ],
             [
              0.1111111111111111,
              "#46039f"
             ],
             [
              0.2222222222222222,
              "#7201a8"
             ],
             [
              0.3333333333333333,
              "#9c179e"
             ],
             [
              0.4444444444444444,
              "#bd3786"
             ],
             [
              0.5555555555555556,
              "#d8576b"
             ],
             [
              0.6666666666666666,
              "#ed7953"
             ],
             [
              0.7777777777777778,
              "#fb9f3a"
             ],
             [
              0.8888888888888888,
              "#fdca26"
             ],
             [
              1,
              "#f0f921"
             ]
            ],
            "type": "histogram2d"
           }
          ],
          "histogram2dcontour": [
           {
            "colorbar": {
             "outlinewidth": 0,
             "ticks": ""
            },
            "colorscale": [
             [
              0,
              "#0d0887"
             ],
             [
              0.1111111111111111,
              "#46039f"
             ],
             [
              0.2222222222222222,
              "#7201a8"
             ],
             [
              0.3333333333333333,
              "#9c179e"
             ],
             [
              0.4444444444444444,
              "#bd3786"
             ],
             [
              0.5555555555555556,
              "#d8576b"
             ],
             [
              0.6666666666666666,
              "#ed7953"
             ],
             [
              0.7777777777777778,
              "#fb9f3a"
             ],
             [
              0.8888888888888888,
              "#fdca26"
             ],
             [
              1,
              "#f0f921"
             ]
            ],
            "type": "histogram2dcontour"
           }
          ],
          "mesh3d": [
           {
            "colorbar": {
             "outlinewidth": 0,
             "ticks": ""
            },
            "type": "mesh3d"
           }
          ],
          "parcoords": [
           {
            "line": {
             "colorbar": {
              "outlinewidth": 0,
              "ticks": ""
             }
            },
            "type": "parcoords"
           }
          ],
          "pie": [
           {
            "automargin": true,
            "type": "pie"
           }
          ],
          "scatter": [
           {
            "fillpattern": {
             "fillmode": "overlay",
             "size": 10,
             "solidity": 0.2
            },
            "type": "scatter"
           }
          ],
          "scatter3d": [
           {
            "line": {
             "colorbar": {
              "outlinewidth": 0,
              "ticks": ""
             }
            },
            "marker": {
             "colorbar": {
              "outlinewidth": 0,
              "ticks": ""
             }
            },
            "type": "scatter3d"
           }
          ],
          "scattercarpet": [
           {
            "marker": {
             "colorbar": {
              "outlinewidth": 0,
              "ticks": ""
             }
            },
            "type": "scattercarpet"
           }
          ],
          "scattergeo": [
           {
            "marker": {
             "colorbar": {
              "outlinewidth": 0,
              "ticks": ""
             }
            },
            "type": "scattergeo"
           }
          ],
          "scattergl": [
           {
            "marker": {
             "colorbar": {
              "outlinewidth": 0,
              "ticks": ""
             }
            },
            "type": "scattergl"
           }
          ],
          "scattermap": [
           {
            "marker": {
             "colorbar": {
              "outlinewidth": 0,
              "ticks": ""
             }
            },
            "type": "scattermap"
           }
          ],
          "scattermapbox": [
           {
            "marker": {
             "colorbar": {
              "outlinewidth": 0,
              "ticks": ""
             }
            },
            "type": "scattermapbox"
           }
          ],
          "scatterpolar": [
           {
            "marker": {
             "colorbar": {
              "outlinewidth": 0,
              "ticks": ""
             }
            },
            "type": "scatterpolar"
           }
          ],
          "scatterpolargl": [
           {
            "marker": {
             "colorbar": {
              "outlinewidth": 0,
              "ticks": ""
             }
            },
            "type": "scatterpolargl"
           }
          ],
          "scatterternary": [
           {
            "marker": {
             "colorbar": {
              "outlinewidth": 0,
              "ticks": ""
             }
            },
            "type": "scatterternary"
           }
          ],
          "surface": [
           {
            "colorbar": {
             "outlinewidth": 0,
             "ticks": ""
            },
            "colorscale": [
             [
              0,
              "#0d0887"
             ],
             [
              0.1111111111111111,
              "#46039f"
             ],
             [
              0.2222222222222222,
              "#7201a8"
             ],
             [
              0.3333333333333333,
              "#9c179e"
             ],
             [
              0.4444444444444444,
              "#bd3786"
             ],
             [
              0.5555555555555556,
              "#d8576b"
             ],
             [
              0.6666666666666666,
              "#ed7953"
             ],
             [
              0.7777777777777778,
              "#fb9f3a"
             ],
             [
              0.8888888888888888,
              "#fdca26"
             ],
             [
              1,
              "#f0f921"
             ]
            ],
            "type": "surface"
           }
          ],
          "table": [
           {
            "cells": {
             "fill": {
              "color": "#EBF0F8"
             },
             "line": {
              "color": "white"
             }
            },
            "header": {
             "fill": {
              "color": "#C8D4E3"
             },
             "line": {
              "color": "white"
             }
            },
            "type": "table"
           }
          ]
         },
         "layout": {
          "annotationdefaults": {
           "arrowcolor": "#2a3f5f",
           "arrowhead": 0,
           "arrowwidth": 1
          },
          "autotypenumbers": "strict",
          "coloraxis": {
           "colorbar": {
            "outlinewidth": 0,
            "ticks": ""
           }
          },
          "colorscale": {
           "diverging": [
            [
             0,
             "#8e0152"
            ],
            [
             0.1,
             "#c51b7d"
            ],
            [
             0.2,
             "#de77ae"
            ],
            [
             0.3,
             "#f1b6da"
            ],
            [
             0.4,
             "#fde0ef"
            ],
            [
             0.5,
             "#f7f7f7"
            ],
            [
             0.6,
             "#e6f5d0"
            ],
            [
             0.7,
             "#b8e186"
            ],
            [
             0.8,
             "#7fbc41"
            ],
            [
             0.9,
             "#4d9221"
            ],
            [
             1,
             "#276419"
            ]
           ],
           "sequential": [
            [
             0,
             "#0d0887"
            ],
            [
             0.1111111111111111,
             "#46039f"
            ],
            [
             0.2222222222222222,
             "#7201a8"
            ],
            [
             0.3333333333333333,
             "#9c179e"
            ],
            [
             0.4444444444444444,
             "#bd3786"
            ],
            [
             0.5555555555555556,
             "#d8576b"
            ],
            [
             0.6666666666666666,
             "#ed7953"
            ],
            [
             0.7777777777777778,
             "#fb9f3a"
            ],
            [
             0.8888888888888888,
             "#fdca26"
            ],
            [
             1,
             "#f0f921"
            ]
           ],
           "sequentialminus": [
            [
             0,
             "#0d0887"
            ],
            [
             0.1111111111111111,
             "#46039f"
            ],
            [
             0.2222222222222222,
             "#7201a8"
            ],
            [
             0.3333333333333333,
             "#9c179e"
            ],
            [
             0.4444444444444444,
             "#bd3786"
            ],
            [
             0.5555555555555556,
             "#d8576b"
            ],
            [
             0.6666666666666666,
             "#ed7953"
            ],
            [
             0.7777777777777778,
             "#fb9f3a"
            ],
            [
             0.8888888888888888,
             "#fdca26"
            ],
            [
             1,
             "#f0f921"
            ]
           ]
          },
          "colorway": [
           "#636efa",
           "#EF553B",
           "#00cc96",
           "#ab63fa",
           "#FFA15A",
           "#19d3f3",
           "#FF6692",
           "#B6E880",
           "#FF97FF",
           "#FECB52"
          ],
          "font": {
           "color": "#2a3f5f"
          },
          "geo": {
           "bgcolor": "white",
           "lakecolor": "white",
           "landcolor": "#E5ECF6",
           "showlakes": true,
           "showland": true,
           "subunitcolor": "white"
          },
          "hoverlabel": {
           "align": "left"
          },
          "hovermode": "closest",
          "mapbox": {
           "style": "light"
          },
          "paper_bgcolor": "white",
          "plot_bgcolor": "#E5ECF6",
          "polar": {
           "angularaxis": {
            "gridcolor": "white",
            "linecolor": "white",
            "ticks": ""
           },
           "bgcolor": "#E5ECF6",
           "radialaxis": {
            "gridcolor": "white",
            "linecolor": "white",
            "ticks": ""
           }
          },
          "scene": {
           "xaxis": {
            "backgroundcolor": "#E5ECF6",
            "gridcolor": "white",
            "gridwidth": 2,
            "linecolor": "white",
            "showbackground": true,
            "ticks": "",
            "zerolinecolor": "white"
           },
           "yaxis": {
            "backgroundcolor": "#E5ECF6",
            "gridcolor": "white",
            "gridwidth": 2,
            "linecolor": "white",
            "showbackground": true,
            "ticks": "",
            "zerolinecolor": "white"
           },
           "zaxis": {
            "backgroundcolor": "#E5ECF6",
            "gridcolor": "white",
            "gridwidth": 2,
            "linecolor": "white",
            "showbackground": true,
            "ticks": "",
            "zerolinecolor": "white"
           }
          },
          "shapedefaults": {
           "line": {
            "color": "#2a3f5f"
           }
          },
          "ternary": {
           "aaxis": {
            "gridcolor": "white",
            "linecolor": "white",
            "ticks": ""
           },
           "baxis": {
            "gridcolor": "white",
            "linecolor": "white",
            "ticks": ""
           },
           "bgcolor": "#E5ECF6",
           "caxis": {
            "gridcolor": "white",
            "linecolor": "white",
            "ticks": ""
           }
          },
          "title": {
           "x": 0.05
          },
          "xaxis": {
           "automargin": true,
           "gridcolor": "white",
           "linecolor": "white",
           "ticks": "",
           "title": {
            "standoff": 15
           },
           "zerolinecolor": "white",
           "zerolinewidth": 2
          },
          "yaxis": {
           "automargin": true,
           "gridcolor": "white",
           "linecolor": "white",
           "ticks": "",
           "title": {
            "standoff": 15
           },
           "zerolinecolor": "white",
           "zerolinewidth": 2
          }
         }
        },
        "title": {
         "font": {
          "family": "Times New Roman",
          "size": 12
         },
         "text": "Token-Level FP vs Quant Comparison"
        },
        "width": 1500,
        "xaxis": {
         "showticklabels": false
        },
        "yaxis": {
         "autorange": "reversed",
         "showticklabels": false
        }
       }
      }
     },
     "metadata": {},
     "output_type": "display_data"
    }
   ],
   "source": [
    "dictionary_learning.plot_comparing_heatmap(\n",
    "    models=(olmo1b_fp32, olmo1b_bitnet_fp32),\n",
    "    tokenizer=olmo1b_tokenizer,\n",
    "    inputs=Texts.T1.value,\n",
    "    top_k=5,\n",
    "    tokens_per_row=30,\n",
    "    target_layers=[5],\n",
    "    fig_path=None\n",
    ")"
   ]
  },
  {
   "cell_type": "markdown",
   "metadata": {},
   "source": [
    "# Deep Hermes Chatbot Analysis (template only)"
   ]
  },
  {
   "cell_type": "code",
   "execution_count": null,
   "metadata": {},
   "outputs": [],
   "source": [
    "dh_dict = {\n",
    "    #'dh.3b-fp32': dh3b_fp32,\n",
    "    #'dh.3b-bitnet.ptdq': dh3b_bitnet_fp32, # Check!\n",
    "    #'dh.3b-bitnet.ptsq': dh3b_bitnet_fp32,\n",
    "    #'dh.8b-fp32': dh8b_fp32,\n",
    "    #'dh.8b-bitnet.ptdq': dh8b_bitnet_fp32,\n",
    "    #'dh.8b-bitnet.ptsq': dh8b_bitnet_fp32,\n",
    "}"
   ]
  },
  {
   "cell_type": "code",
   "execution_count": null,
   "metadata": {},
   "outputs": [],
   "source": [
    "chatbot_analysis.run_chatbot_analysis(\n",
    "    models=dh_dict,\n",
    "    tokenizer=dh8b_tokenizer,\n",
    "    full_path='logs/chatbot_logs'\n",
    ")"
   ]
  },
  {
   "cell_type": "code",
   "execution_count": null,
   "metadata": {},
   "outputs": [],
   "source": [
    "chatbot_analysis.plot_chatbot_analysis(\n",
    "    json_logs='logs/chatbot_logs',\n",
    "    parallel_plot=True\n",
    ")"
   ]
  }
 ],
 "metadata": {
  "kernelspec": {
   "display_name": "MechInterp",
   "language": "python",
   "name": "python3"
  },
  "language_info": {
   "codemirror_mode": {
    "name": "ipython",
    "version": 3
   },
   "file_extension": ".py",
   "mimetype": "text/x-python",
   "name": "python",
   "nbconvert_exporter": "python",
   "pygments_lexer": "ipython3",
   "version": "3.13.2"
  }
 },
 "nbformat": 4,
 "nbformat_minor": 2
}
